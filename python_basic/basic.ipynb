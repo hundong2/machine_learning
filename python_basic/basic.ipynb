{
 "cells": [
  {
   "cell_type": "code",
   "execution_count": 1,
   "id": "a58600c3",
   "metadata": {},
   "outputs": [
    {
     "data": {
      "text/plain": [
       "True"
      ]
     },
     "execution_count": 1,
     "metadata": {},
     "output_type": "execute_result"
    }
   ],
   "source": [
    "# check digit, alpha\n",
    "string_value = '1234'\n",
    "string_value.isdigit() # True\n",
    "\n",
    "string_value2= 'ok'\n",
    "string_value2.isalpha() #True\n",
    "\n",
    "string_value3= '1234ok'\n",
    "string_value3.isalnum() #True\n"
   ]
  },
  {
   "cell_type": "code",
   "execution_count": 2,
   "id": "2f014a66",
   "metadata": {},
   "outputs": [
    {
     "name": "stdout",
     "output_type": "stream",
     "text": [
      "2\n"
     ]
    }
   ],
   "source": [
    "fruits = ['apple', 'banana', 'cherry', 'apple', 'banana', 'banana', 'fig', 'grape']\n",
    "\n",
    "apple_count = fruits.count('apple') # 여기에 코드를 입력해 주세요\n",
    "print(apple_count)"
   ]
  },
  {
   "cell_type": "code",
   "execution_count": 3,
   "id": "090f8230",
   "metadata": {},
   "outputs": [
    {
     "name": "stdout",
     "output_type": "stream",
     "text": [
      "0 3\n"
     ]
    }
   ],
   "source": [
    "# using index\n",
    "fruits = ['apple', 'banana', 'cherry', 'apple', 'banana', 'banana', 'fig', 'grape']\n",
    "\n",
    "index1 = fruits.index(\"apple\") # 여기에 코드를 입력해 주세요\n",
    "index2 = fruits.index(\"apple\", index1+1)\n",
    "print(index1, index2)"
   ]
  },
  {
   "cell_type": "code",
   "execution_count": null,
   "id": "3f446c75",
   "metadata": {},
   "outputs": [
    {
     "name": "stdout",
     "output_type": "stream",
     "text": [
      "[1, 2, 3, 4, 99]\n",
      "[1, 2, 3, 4, 99, 5, 6, 7, 8, 9]\n",
      "[1, 2, 3, 4, 99, 5, 777, 6, 7, 8, 9]\n"
     ]
    }
   ],
   "source": [
    "ls = [1, 2, 3, 4]\n",
    "\n",
    "ls.append(99) # append 메서드 사용, 리스트의 끝에 값 추가\n",
    "print(ls)\n",
    "\n",
    "more_ls = [5, 6, 7, 8, 9]\n",
    "ls.extend(more_ls) # extend 메서드 사용, 리스트의 값에 리스트 값 추가 \n",
    "print(ls)\n",
    "\n",
    "ls.insert(6, 777) # insert 메서드 사용, 특정 위치에 값 추가\n",
    "print(ls)"
   ]
  },
  {
   "cell_type": "code",
   "execution_count": null,
   "id": "fa8eeb53",
   "metadata": {},
   "outputs": [
    {
     "name": "stdout",
     "output_type": "stream",
     "text": [
      "['apple', 'banana', 'date', 'banana', 'fig']\n",
      "['apple', 'banana', 'date', 'banana'] , fig\n",
      "[]\n"
     ]
    }
   ],
   "source": [
    "ls2 = ['apple', 'banana', 'cherry', 'date', 'banana', 'fig']\n",
    "\n",
    "ls2.remove('cherry') # remove 메서드 사용, 특정 값 제거\n",
    "print(ls2)\n",
    "\n",
    "last_value = ls2.pop() # pop 메서드 사용, 마지막 값 제거\n",
    "print(ls2, ',', last_value)\n",
    "\n",
    "ls3 = [1, 2, 3, 4]\n",
    "ls3.clear() # clear 메서드 사용, 리스트의 모든 값 제거\n",
    "print(ls3)"
   ]
  },
  {
   "cell_type": "code",
   "execution_count": 6,
   "id": "97c8e7bc",
   "metadata": {},
   "outputs": [
    {
     "name": "stdout",
     "output_type": "stream",
     "text": [
      "[1, 2, 5, 5, 6, 9]\n",
      "[9, 6, 5, 5, 2, 1]\n"
     ]
    }
   ],
   "source": [
    "numbers = [5, 2, 9, 1, 5, 6]\n",
    "\n",
    "numbers.sort() # sort 메서드 사용, 리스트의 값을 정렬\n",
    "print(numbers)\n",
    "\n",
    "numbers.reverse() # reverse 메서드 사용, 리스트의 값을 뒤집기\n",
    "print(numbers)"
   ]
  },
  {
   "cell_type": "code",
   "execution_count": null,
   "id": "5257ecc2",
   "metadata": {},
   "outputs": [
    {
     "name": "stdout",
     "output_type": "stream",
     "text": [
      "최대값 9\n",
      "최소값 1\n",
      "합계 28\n",
      "개수 6\n"
     ]
    }
   ],
   "source": [
    "numbers = [5, 2, 9, 1, 5, 6]\n",
    "\n",
    "maximum = max(numbers) # max 함수 사용, 최대값 구하기\n",
    "minimum = min(numbers) # min 함수 사용, 최소값 구하기\n",
    "total = sum(numbers) # sum 함수 사용, 합계 구하기\n",
    "length = len(numbers) # len 함수 사용, 개수 구하기\n",
    "\n",
    "print('최대값', maximum)\n",
    "print('최소값', minimum)\n",
    "print('합계', total)\n",
    "print('개수', length)"
   ]
  },
  {
   "cell_type": "code",
   "execution_count": null,
   "id": "d84b4660",
   "metadata": {},
   "outputs": [
    {
     "name": "stdout",
     "output_type": "stream",
     "text": [
      "{'name': '김철수', 'math': 90, 'english': 85, 'temp': 999}\n",
      "{'name': '김철수', 'math': 90, 'english': 85}\n"
     ]
    }
   ],
   "source": [
    "# dictionary 삭제 \n",
    "score = { 'name': '김철수', 'math': 90, 'english': 85, 'temp': 999 } \n",
    "print(score)\n",
    "del score[\"temp\"]\n",
    "\n",
    "print(score)"
   ]
  },
  {
   "cell_type": "code",
   "execution_count": 10,
   "id": "0714603c",
   "metadata": {},
   "outputs": [
    {
     "name": "stdout",
     "output_type": "stream",
     "text": [
      "dict_keys(['name', 'math', 'english'])\n",
      "dict_values(['김철수', 90, 85])\n",
      "dict_items([('name', '김철수'), ('math', 90), ('english', 85)])\n"
     ]
    }
   ],
   "source": [
    "keys = score.keys()\n",
    "values = score.values() # values 메서드 사용, 딕셔너리의 모든 값 가져오기\n",
    "items = score.items() # items 메서드 사용, 딕셔너리의 모든 키-값 쌍 가져오기\n",
    "\n",
    "print(keys)\n",
    "print(values)\n",
    "print(items)"
   ]
  },
  {
   "cell_type": "code",
   "execution_count": null,
   "id": "c236d42d",
   "metadata": {},
   "outputs": [
    {
     "name": "stdout",
     "output_type": "stream",
     "text": [
      "('Alice', 30, 'Engineer')\n"
     ]
    }
   ],
   "source": [
    "# tuple ( possible to change, but not recommended )\n",
    "\n",
    "tup=(\"Alice\", 30, \"Engineer\")\n",
    "print(tup)"
   ]
  },
  {
   "cell_type": "code",
   "execution_count": null,
   "id": "1becaa98",
   "metadata": {},
   "outputs": [],
   "source": [
    "result = tup[0] # 첫 번째 요소 가져오기\n",
    "\n",
    "print(result)"
   ]
  },
  {
   "cell_type": "code",
   "execution_count": 12,
   "id": "4cacb0b2",
   "metadata": {},
   "outputs": [
    {
     "name": "stdout",
     "output_type": "stream",
     "text": [
      "Alice\n",
      "30\n",
      "Engineer\n"
     ]
    }
   ],
   "source": [
    "person = (\"Alice\", 30, \"Engineer\")\n",
    "name, age, job = person #tuple unpacking\n",
    "\n",
    "print(name)\n",
    "print(age)\n",
    "print(job)"
   ]
  },
  {
   "cell_type": "markdown",
   "id": "f8b01745",
   "metadata": {},
   "source": [
    "# Set\n",
    "\n",
    "- `{ ... }`\n",
    "- 중복된 요소를 허용하지 않음, 순서 없는 컬렉션 "
   ]
  },
  {
   "cell_type": "code",
   "execution_count": null,
   "id": "33dd8914",
   "metadata": {},
   "outputs": [
    {
     "name": "stdout",
     "output_type": "stream",
     "text": [
      "합집합: {1, 2, 3, 4, 5, 6, 7, 8}\n",
      "교집합: {4, 5}\n",
      "차집합: {1, 2, 3}\n",
      "대칭차집합: {1, 2, 3, 6, 7, 8}\n"
     ]
    }
   ],
   "source": [
    "set1 = {1, 2, 3, 4, 5}\n",
    "set2 = {4, 5, 6, 7, 8}\n",
    "\n",
    "# 합집합\n",
    "union_set = set1 | set2 \n",
    "\n",
    "# 교집합\n",
    "intersection_set = set1 & set2 \n",
    "\n",
    "# 차집합 (set1 - set2)\n",
    "difference_set = set1 - set2 \n",
    "\n",
    "# 대칭차집합\n",
    "symmetric_difference_set = set1 ^ set2 # 여기에 코드를 작성하세요\n",
    "\n",
    "\n",
    "print(f\"합집합: {union_set}\")\n",
    "print(f\"교집합: {intersection_set}\")  # 출력: {4, 5}\n",
    "print(f\"차집합: {difference_set}\")  # 출력: {1, 2, 3}\n",
    "print(f\"대칭차집합: {symmetric_difference_set}\")  # 출력: {1, 2, 3, 6, 7, 8}"
   ]
  },
  {
   "cell_type": "code",
   "execution_count": 14,
   "id": "0c218fd5",
   "metadata": {},
   "outputs": [
    {
     "name": "stdout",
     "output_type": "stream",
     "text": [
      "['a', 'b', 'c', 'd', 'e']\n",
      "(1, 2, 3, 4)\n",
      "{1, 2, 3}\n"
     ]
    }
   ],
   "source": [
    "# data를 리스트로 변경해 봅시다.\n",
    "data = 'abcde'\n",
    "ls = list(data)\n",
    "print(ls)\n",
    "\n",
    "# data를 튜플로 변경해 봅시다.\n",
    "data = [1, 2, 3, 4]\n",
    "tup = tuple(data)\n",
    "print(tup)\n",
    "\n",
    "# data를 집합으로 변경해 봅시다.\n",
    "data = [1, 1, 1, 2, 2, 3]\n",
    "set_data = set(data)\n",
    "print(set_data)"
   ]
  },
  {
   "cell_type": "code",
   "execution_count": 15,
   "id": "5d84839f",
   "metadata": {},
   "outputs": [
    {
     "name": "stdout",
     "output_type": "stream",
     "text": [
      "0 apple\n",
      "1 banana\n",
      "2 cherry\n",
      "3 grape\n"
     ]
    }
   ],
   "source": [
    "ls = ['apple', 'banana', 'cherry', 'grape']\n",
    "\n",
    "for idx, value in enumerate(ls):\n",
    "    print(idx, value)"
   ]
  },
  {
   "cell_type": "code",
   "execution_count": 16,
   "id": "9cfa4925",
   "metadata": {},
   "outputs": [
    {
     "name": "stdout",
     "output_type": "stream",
     "text": [
      "John: 85\n",
      "Emily: 92\n",
      "Anna: 78\n",
      "Mike: 89\n"
     ]
    }
   ],
   "source": [
    "scores = {\n",
    "    \"John\": 85,\n",
    "    \"Emily\": 92,\n",
    "    \"Anna\": 78,\n",
    "    \"Mike\": 89\n",
    "}\n",
    "\n",
    "for student, score in scores.items():\n",
    "    print(f\"{student}: {score}\")"
   ]
  },
  {
   "cell_type": "code",
   "execution_count": 17,
   "id": "192c4848",
   "metadata": {},
   "outputs": [
    {
     "name": "stdout",
     "output_type": "stream",
     "text": [
      "[0, 1, 4, 9, 16, 25, 36, 49, 64, 81]\n"
     ]
    }
   ],
   "source": [
    "# list comprehension\n",
    "squares = [x**2 for x in range(10)]  # 0부터 9까지의 제곱수 리스트 생성\n",
    "print(squares)"
   ]
  },
  {
   "cell_type": "code",
   "execution_count": 19,
   "id": "7bb16bd7",
   "metadata": {},
   "outputs": [
    {
     "name": "stdout",
     "output_type": "stream",
     "text": [
      "[1, 4, 3, 16, 25]\n"
     ]
    }
   ],
   "source": [
    "# 3의 제곱을 제외하고 나머지 숫자의 제곱을 구하는 리스트 컴프리헨션\n",
    "ls = [1, 2, 3, 4, 5]\n",
    "\n",
    "result3 = [i**2 if i != 3 else i for i in ls] # 여기에 코드를 작성해 주세요\n",
    "print(result3)"
   ]
  },
  {
   "cell_type": "code",
   "execution_count": 20,
   "id": "6d010e38",
   "metadata": {},
   "outputs": [],
   "source": [
    "# lambda 함수\n",
    "add = lambda x, y: x + y  # 두 수를 더하는 람다 함수\n",
    "result = add(3, 5)"
   ]
  },
  {
   "cell_type": "markdown",
   "id": "fbebf964",
   "metadata": {},
   "source": [
    "# sorted 함수란?\n",
    "Python의 내장 함수로, 리스트나 다른 반복 가능한 객체를 정렬하여 새로운 정렬된 리스트를 반환합니다.\n",
    "\n",
    "## 예시 파일\n",
    "````python\n",
    "# sorted_function_examples.py\n",
    "# sorted 함수 완전 정복 예시\n",
    "\n",
    "# 1. 기본 사용법\n",
    "numbers = [5, 2, 9, 1, 5, 6]\n",
    "sorted_numbers = sorted(numbers)\n",
    "print(f\"원본: {numbers}\")           # [5, 2, 9, 1, 5, 6]\n",
    "print(f\"정렬됨: {sorted_numbers}\")   # [1, 2, 5, 5, 6, 9]\n",
    "\n",
    "# 2. 내림차순 정렬\n",
    "desc_numbers = sorted(numbers, reverse=True)\n",
    "print(f\"내림차순: {desc_numbers}\")   # [9, 6, 5, 5, 2, 1]\n",
    "\n",
    "# 3. 문자열 정렬\n",
    "fruits = ['banana', 'apple', 'cherry', 'date']\n",
    "sorted_fruits = sorted(fruits)\n",
    "print(f\"문자열 정렬: {sorted_fruits}\")  # ['apple', 'banana', 'cherry', 'date']\n",
    "\n",
    "# 4. key 매개변수 사용 - 길이순 정렬\n",
    "fruits_by_length = sorted(fruits, key=len)\n",
    "print(f\"길이순 정렬: {fruits_by_length}\")  # ['date', 'apple', 'banana', 'cherry']\n",
    "\n",
    "# 5. 복잡한 데이터 정렬\n",
    "students = [\n",
    "    {'name': '김철수', 'score': 85},\n",
    "    {'name': '이영희', 'score': 92},\n",
    "    {'name': '박민수', 'score': 78}\n",
    "]\n",
    "sorted_by_score = sorted(students, key=lambda x: x['score'])\n",
    "print(f\"점수순 정렬: {sorted_by_score}\")\n",
    "\n",
    "# 6. 튜플 정렬\n",
    "coordinates = [(3, 2), (1, 4), (2, 1)]\n",
    "sorted_coords = sorted(coordinates)  # 첫 번째 요소 기준\n",
    "print(f\"좌표 정렬: {sorted_coords}\")  # [(1, 4), (2, 1), (3, 2)]\n",
    "\n",
    "# 7. 대소문자 구분 없이 정렬\n",
    "words = ['Apple', 'banana', 'Cherry', 'date']\n",
    "case_insensitive = sorted(words, key=str.lower)\n",
    "print(f\"대소문자 무시: {case_insensitive}\")  # ['Apple', 'banana', 'Cherry', 'date']\n",
    "\n",
    "# 8. sort() vs sorted() 비교\n",
    "original_list = [3, 1, 4, 1, 5]\n",
    "\n",
    "# sort() - 원본 리스트 변경\n",
    "list1 = original_list.copy()\n",
    "list1.sort()\n",
    "print(f\"sort() 사용: {list1}\")  # [1, 1, 3, 4, 5]\n",
    "\n",
    "# sorted() - 새로운 리스트 반환\n",
    "list2 = original_list.copy()\n",
    "new_list = sorted(list2)\n",
    "print(f\"sorted() 원본: {list2}\")     # [3, 1, 4, 1, 5]\n",
    "print(f\"sorted() 새로운: {new_list}\") # [1, 1, 3, 4, 5]\n",
    "````\n",
    "\n",
    "## 답변\n",
    "\n",
    "**sorted()** 함수는 Python의 강력한 내장 정렬 함수입니다. 원본 데이터를 변경하지 않고 **새로운 정렬된 리스트**를 반환합니다.\n",
    "\n",
    "### 🔍 기본 문법\n",
    "```python\n",
    "sorted(iterable, key=None, reverse=False)\n",
    "```\n",
    "\n",
    "### ⚡ 주요 특징\n",
    "\n",
    "**1. 원본 보존**\n",
    "```python\n",
    "numbers = [5, 2, 9, 1]\n",
    "result = sorted(numbers)\n",
    "print(numbers)  # [5, 2, 9, 1] ← 원본 그대로\n",
    "print(result)   # [1, 2, 5, 9] ← 새로운 리스트\n",
    "```\n",
    "\n",
    "**2. 다양한 데이터 타입 지원**\n",
    "```python\n",
    "# 숫자\n",
    "sorted([3, 1, 4])           # [1, 3, 4]\n",
    "\n",
    "# 문자열\n",
    "sorted(['banana', 'apple'])  # ['apple', 'banana']\n",
    "\n",
    "# 튜플\n",
    "sorted([(2, 1), (1, 3)])    # [(1, 3), (2, 1)]\n",
    "```\n",
    "\n",
    "### 🎯 핵심 매개변수\n",
    "\n",
    "**reverse** - 정렬 순서 제어\n",
    "```python\n",
    "numbers = [3, 1, 4, 1, 5]\n",
    "sorted(numbers)              # [1, 1, 3, 4, 5] (오름차순)\n",
    "sorted(numbers, reverse=True) # [5, 4, 3, 1, 1] (내림차순)\n",
    "```\n",
    "\n",
    "**key** - 정렬 기준 설정\n",
    "```python\n",
    "# 길이 기준 정렬\n",
    "words = ['python', 'java', 'c', 'javascript']\n",
    "sorted(words, key=len)  # ['c', 'java', 'python', 'javascript']\n",
    "\n",
    "# 절댓값 기준 정렬\n",
    "numbers = [-3, -1, 2, -4]\n",
    "sorted(numbers, key=abs)  # [-1, 2, -3, -4]\n",
    "```\n",
    "\n",
    "### 💡 실전 활용 예시\n",
    "\n",
    "**학생 성적 정렬**\n",
    "```python\n",
    "students = [\n",
    "    {'name': '김철수', 'grade': 85},\n",
    "    {'name': '이영희', 'grade': 92},\n",
    "    {'name': '박민수', 'grade': 78}\n",
    "]\n",
    "\n",
    "# 성적 순으로 정렬\n",
    "by_grade = sorted(students, key=lambda x: x['grade'])\n",
    "print(by_grade[0]['name'])  # 박민수 (최저점)\n",
    "\n",
    "# 이름 순으로 정렬\n",
    "by_name = sorted(students, key=lambda x: x['name'])\n",
    "```\n",
    "\n",
    "**복합 정렬**\n",
    "```python\n",
    "# 먼저 나이순, 같으면 이름순\n",
    "people = [('김철수', 25), ('이영희', 23), ('박민수', 25)]\n",
    "sorted(people, key=lambda x: (x[1], x[0]))\n",
    "# [('이영희', 23), ('김철수', 25), ('박민수', 25)]\n",
    "```\n",
    "\n",
    "### 🔧 sort() vs sorted() 비교\n",
    "\n",
    "| 특징 | sort() | sorted() |\n",
    "|------|--------|----------|\n",
    "| 원본 변경 | ✅ 변경함 | ❌ 보존함 |\n",
    "| 반환값 | None | 새로운 리스트 |\n",
    "| 사용 대상 | 리스트만 | 모든 반복 가능 객체 |\n",
    "| 메모리 | 효율적 | 추가 메모리 사용 |\n",
    "\n",
    "```python\n",
    "# sort() - 리스트 메소드\n",
    "my_list = [3, 1, 4]\n",
    "my_list.sort()  # 원본 변경\n",
    "print(my_list)  # [1, 3, 4]\n",
    "\n",
    "# sorted() - 내장 함수\n",
    "my_list = [3, 1, 4]\n",
    "new_list = sorted(my_list)  # 새로운 리스트\n",
    "print(my_list)    # [3, 1, 4] (원본 보존)\n",
    "print(new_list)   # [1, 3, 4]\n",
    "```\n",
    "\n",
    "### 🎯 언제 사용할까?\n",
    "\n",
    "**sorted() 사용하는 경우:**\n",
    "- 원본 데이터를 보존하고 싶을 때\n",
    "- 튜플, 문자열 등 다른 자료형 정렬\n",
    "- 함수형 프로그래밍 스타일\n",
    "\n",
    "**sort() 사용하는 경우:**\n",
    "- 메모리를 절약하고 싶을 때\n",
    "- 원본 리스트만 사용할 때\n",
    "- 성능이 중요한 상황\n",
    "\n",
    "### 추가 자료\n",
    "- [Python 공식 문서 - sorted()](https://docs.python.org/3/library/functions.html#sorted)\n",
    "- [Python 정렬 HOW TO](https://docs.python.org/3/howto/sorting.html)\n",
    "- [Sorting Algorithms in Python](https://realpython.com/python-sort/)"
   ]
  },
  {
   "cell_type": "code",
   "execution_count": 22,
   "id": "37a521f2",
   "metadata": {},
   "outputs": [
    {
     "name": "stdout",
     "output_type": "stream",
     "text": [
      "[2, 4]\n"
     ]
    }
   ],
   "source": [
    "# filter 함수와 lambda 함수 사용\n",
    "numbers = [1, 2, 3, 4, 5]\n",
    "even_numbers = list(filter(lambda x: x % 2 == 0, numbers))  # 짝수만 필터링\n",
    "print(even_numbers)"
   ]
  },
  {
   "cell_type": "code",
   "execution_count": 24,
   "id": "6100764d",
   "metadata": {},
   "outputs": [
    {
     "name": "stdout",
     "output_type": "stream",
     "text": [
      "[3, 5, 7, 9, 11]\n"
     ]
    }
   ],
   "source": [
    "# map 함수와 lambda 함수 사용 ( map(function, sequence ))\n",
    "numbers = [1, 2, 3, 4, 5]\n",
    "\n",
    "new_numbers = list(map(lambda x: 2*x + 1, numbers)) # 빈칸에 코드를 입력하세요.\n",
    "print(new_numbers)"
   ]
  },
  {
   "cell_type": "code",
   "execution_count": 25,
   "id": "5665b2bd",
   "metadata": {},
   "outputs": [
    {
     "name": "stdout",
     "output_type": "stream",
     "text": [
      "Alice, 30 years old\n",
      "False\n",
      "False\n",
      "Alice & Bob, 55 years old\n",
      "30\n",
      "Alice\n",
      "Alice, 31 years old\n",
      ", 31 years old\n",
      "False\n",
      "\n",
      "31\n",
      "\n",
      "[31, '']\n",
      "Hello, !\n"
     ]
    }
   ],
   "source": [
    "# magic methods\n",
    "class Person:\n",
    "    def __init__(self, name, age):\n",
    "        self.name = name\n",
    "        self.age = age\n",
    "\n",
    "    def __str__(self):\n",
    "        return f\"{self.name}, {self.age} years old\"\n",
    "\n",
    "    def __eq__(self, other):\n",
    "        return self.name == other.name and self.age == other.age\n",
    "    def __lt__(self, other):\n",
    "        return self.age < other.age\n",
    "    def __add__(self, other):\n",
    "        return Person(self.name + \" & \" + other.name, self.age + other.age)\n",
    "    def __len__(self):\n",
    "        return self.age     \n",
    "    def __getitem__(self, index):\n",
    "        return self.name if index == 0 else self.age\n",
    "    def __setitem__(self, index, value):\n",
    "        if index == 0:\n",
    "            self.name = value\n",
    "        elif index == 1:\n",
    "            self.age = value   \n",
    "    def __delitem__(self, index):\n",
    "        if index == 0:\n",
    "            self.name = \"\"\n",
    "        elif index == 1:\n",
    "            self.age = 0\n",
    "    def __contains__(self, item):\n",
    "        return item in (self.name, self.age)\n",
    "    def __iter__(self):\n",
    "        yield self.name\n",
    "        yield self.age\n",
    "    def __next__(self):\n",
    "        if hasattr(self, '_iter_index'):\n",
    "            self._iter_index += 1\n",
    "        else:\n",
    "            self._iter_index = 0\n",
    "        if self._iter_index < 2:\n",
    "            return self[self._iter_index]\n",
    "        else:\n",
    "            raise StopIteration\n",
    "    def __reversed__(self):\n",
    "        return reversed((self.name, self.age))\n",
    "    def __hash__(self):\n",
    "        return hash((self.name, self.age))\n",
    "    def __call__(self, greeting):\n",
    "        return f\"{greeting}, {self.name}!\"\n",
    "    \n",
    "# Example usage of magic methods\n",
    "person1 = Person(\"Alice\", 30)\n",
    "person2 = Person(\"Bob\", 25)\n",
    "print(person1)  # __str__\n",
    "print(person1 == person2)  # __eq__\n",
    "print(person1 < person2)  # __lt__\n",
    "combined_person = person1 + person2  # __add__\n",
    "print(combined_person)  # __str__ of combined person\n",
    "print(len(person1))  # __len__\n",
    "print(person1[0])  # __getitem__ for name\n",
    "person1[1] = 31  # __setitem__ for age\n",
    "print(person1)  # Updated person1\n",
    "del person1[0]  # __delitem__ for name\n",
    "print(person1)  # Name should be empty now\n",
    "print(\"Alice\" in person1)  # __contains__\n",
    "for value in person1:  # __iter__\n",
    "    print(value)  # Iterating over name and age\n",
    "print(next(iter(person1)))  # __next__\n",
    "print(list(reversed(person1)))  # __reversed__\n",
    "print(person1(\"Hello\"))  # __call__ "
   ]
  },
  {
   "cell_type": "code",
   "execution_count": null,
   "id": "b01b43fc",
   "metadata": {},
   "outputs": [
    {
     "name": "stdout",
     "output_type": "stream",
     "text": [
      "Vector(6, 4)\n"
     ]
    }
   ],
   "source": [
    "class Vector:\n",
    "    def __init__(self, x, y):\n",
    "        self.x = x\n",
    "        self.y = y\n",
    "\n",
    "    def __add__(self, other):\n",
    "        if isinstance(other, Vector):\n",
    "            return Vector(self.x + other.x, self.y + other.y)\n",
    "        return NotImplemented\n",
    "\n",
    "    def __str__(self):\n",
    "        return f\"Vector({self.x}, {self.y})\"\n",
    "    def __add__(self, other):\n",
    "        if isinstance(other, Vector):\n",
    "            return Vector(self.x + other.x, self.y + other.y)\n",
    "        return NotImplemented\n",
    "\n",
    "# 두 Vector 객체 생성\n",
    "v1 = Vector(2, 3)\n",
    "v2 = Vector(4, 1)\n",
    "\n",
    "# 더하기 연산\n",
    "v3 = v1 + v2 # __add__ 메서드 호출\n",
    "print(v3)"
   ]
  },
  {
   "cell_type": "code",
   "execution_count": null,
   "id": "0f03fcc0",
   "metadata": {},
   "outputs": [],
   "source": []
  }
 ],
 "metadata": {
  "kernelspec": {
   "display_name": "base",
   "language": "python",
   "name": "python3"
  },
  "language_info": {
   "codemirror_mode": {
    "name": "ipython",
    "version": 3
   },
   "file_extension": ".py",
   "mimetype": "text/x-python",
   "name": "python",
   "nbconvert_exporter": "python",
   "pygments_lexer": "ipython3",
   "version": "3.13.5"
  }
 },
 "nbformat": 4,
 "nbformat_minor": 5
}
