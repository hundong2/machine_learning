{
 "cells": [
  {
   "cell_type": "markdown",
   "id": "9649aca7",
   "metadata": {},
   "source": [
    "[문제 1]\n",
    "아래 긴 문자열에서 모든 이메일 주소를 추출하는 정규식 패턴을 만들어 봅시다.\n",
    "\n",
    "결과값을 아래와 같이 만들어 주세요.\n",
    "\n",
    "['john.doe@example.com', 'john.doe@company.org', 'sarah.smith@example.net']"
   ]
  },
  {
   "cell_type": "code",
   "execution_count": 4,
   "id": "fdbdd050",
   "metadata": {},
   "outputs": [
    {
     "name": "stdout",
     "output_type": "stream",
     "text": [
      "['john.doe@example.com', 'john.doe@company.org', 'sarah.smith@example.net']\n"
     ]
    }
   ],
   "source": [
    "import re\n",
    "\n",
    "text = \"\"\"\n",
    "John's email is john.doe@example.com, and he can be reached at (555) 123-4567. \n",
    "His office email is john.doe@company.org. Sarah's email, sarah.smith@example.net, is used for her personal matters. \n",
    "Please note that her work phone number is +1-800-555-9876. The project deadline is 2024-08-26, but it could be extended to 26/08/2024.\n",
    "\"\"\"\n",
    "\n",
    "# 1. 이메일 주소 추출\n",
    "email_pattern = r\"\\b[A-Za-z0-9._%+-]+@[A-Za-z0-9.-]+\\.[A-Za-z]{2,}\\b\" # 여기에 코드를 작성해 주세요.\n",
    "emails = re.findall(email_pattern, text)\n",
    "print(emails)  "
   ]
  },
  {
   "cell_type": "markdown",
   "id": "e40420d3",
   "metadata": {},
   "source": [
    "## 📝 문제 1 해설: 이메일 주소 추출\n",
    "\n",
    "### 🔍 패턴 분석: `r\"\\b[A-Za-z0-9._%+-]+@[A-Za-z0-9.-]+\\.[A-Za-z]{2,}\\b\"`\n",
    "\n",
    "| 구성요소 | 설명 | 예시 |\n",
    "|---------|------|------|\n",
    "| `\\b` | 단어 경계 (시작) | 이메일이 독립된 단어임을 보장 |\n",
    "| `[A-Za-z0-9._%+-]+` | 사용자명 부분 | john.doe, user_123, admin+test |\n",
    "| `@` | 앳 기호 | 이메일의 필수 구분자 |\n",
    "| `[A-Za-z0-9.-]+` | 도메인명 | example, sub-domain, company123 |\n",
    "| `\\.` | 점 (리터럴) | 도메인과 TLD 구분 |\n",
    "| `[A-Za-z]{2,}` | 최상위 도메인 | com, org, net, co.kr |\n",
    "| `\\b` | 단어 경계 (끝) | 이메일 끝 확인 |\n",
    "\n",
    "### ✅ 정답 설명\n",
    "\n",
    "- **사용자명**: 영문자, 숫자, 점, 언더스코어, 퍼센트, 플러스, 하이픈 허용\n",
    "- **도메인**: 영문자, 숫자, 점, 하이픈 허용  \n",
    "- **TLD**: 영문자만 허용, 최소 2글자\n",
    "- **단어 경계**: 완전한 이메일 주소만 매칭"
   ]
  },
  {
   "cell_type": "markdown",
   "id": "489114b3",
   "metadata": {},
   "source": [
    "2. 그룹(Grouping)과 백참조(Backreferences)\n",
    "[문제 2]\n",
    "아래 문자열에서 이름과 나이를 추출해 봅시다.\n",
    "\n",
    "패턴 설명\n",
    "\n",
    "첫 번째 그룹: 'Name: ' 다음에 나오는 이름을 캡처\n",
    "두 번째 그룹: 'Age: ' 다음에 나오는 나이 캡처\n",
    "출력 결과가 아래와 같이 나오도록 패턴을 만들어 보세요.\n",
    "\n",
    "Name: John Doe, Age: 45 years old\n",
    "Name: Jane Smith, Age: 32 years old\n",
    "Name: Bob Brown, Age: 30 years old"
   ]
  },
  {
   "cell_type": "code",
   "execution_count": 6,
   "id": "49de666b",
   "metadata": {},
   "outputs": [
    {
     "name": "stdout",
     "output_type": "stream",
     "text": [
      "Name: John Doe, Age: 45 years old\n",
      "Name: Jane Smith, Age: 32 years old\n",
      "Name: Bob Brown, Age: 30 years old\n"
     ]
    }
   ],
   "source": [
    "import re\n",
    "\n",
    "# 텍스트 예시: 이름과 나이의 정보가 포함된 문자열\n",
    "text_2 = \"Name: John Doe, Age: 45; Name: Jane Smith, Age: 32; Name: Bob Brown, Age: 30\"\n",
    "\n",
    "pattern_2 = r\"Name: (?P<name>[A-Za-z\\s]+), Age: (?P<age>\\d+)\" # 명명된 그룹 사용\n",
    "\n",
    "matches_2 = re.finditer(pattern_2, text_2)\n",
    "for match in matches_2:\n",
    "    name = match.group('name').strip()  # 공백 제거\n",
    "    age = match.group('age')\n",
    "    print(f\"Name: {name}, Age: {age} years old\")"
   ]
  },
  {
   "cell_type": "markdown",
   "id": "e6606c8c",
   "metadata": {},
   "source": [
    "## 📝 문제 2 해설: 그룹화와 명명된 그룹\n",
    "\n",
    "### 🔧 수정된 내용\n",
    "**원래 코드의 문제점:**\n",
    "- 패턴에서는 일반 그룹 `([A-Za-z\\s]+)` 사용\n",
    "- 코드에서는 명명된 그룹 `match.group('name')` 호출\n",
    "- 이로 인해 `IndexError: no such group` 발생\n",
    "\n",
    "### ✅ 정답 패턴: `r\"Name: (?P<name>[A-Za-z\\s]+), Age: (?P<age>\\d+)\"`\n",
    "\n",
    "| 구성요소 | 설명 | 역할 |\n",
    "|---------|------|------|\n",
    "| `Name: ` | 리터럴 문자열 | 'Name: ' 정확히 매칭 |\n",
    "| `(?P<name>...)` | 명명된 그룹 | 이름을 'name'으로 캡처 |\n",
    "| `[A-Za-z\\s]+` | 문자 클래스 | 영문자와 공백 1개 이상 |\n",
    "| `, Age: ` | 리터럴 문자열 | ', Age: ' 정확히 매칭 |\n",
    "| `(?P<age>...)` | 명명된 그룹 | 나이를 'age'로 캡처 |\n",
    "| `\\d+` | 숫자 클래스 | 숫자 1개 이상 |\n",
    "\n",
    "### 🎯 핵심 개념\n",
    "- **명명된 그룹**: `(?P<그룹이름>패턴)` 형식\n",
    "- **그룹 접근**: `match.group('그룹이름')` 으로 접근\n",
    "- **가독성**: 숫자 인덱스보다 의미있는 이름 사용"
   ]
  },
  {
   "cell_type": "markdown",
   "id": "fe24c716",
   "metadata": {},
   "source": [
    "3. 파이썬에서의 정규표현식 활용\n",
    "[문제 3]\n",
    "\n",
    "빈칸을 채워 상황에 맞게 정규식 패턴을 사용하는 함수를 적용해 주세요.\n",
    "아래 함수 중에서 선택해서 사용하세요.\n",
    "search, match, findall, sub, compile"
   ]
  },
  {
   "cell_type": "code",
   "execution_count": 7,
   "id": "f59bc236",
   "metadata": {},
   "outputs": [
    {
     "name": "stdout",
     "output_type": "stream",
     "text": [
      "Search Example: Found phone number: 555-123-4567\n",
      "Match Example: No match found at the start of the text.\n",
      "Findall Example: Found phone numbers: ['555-123-4567', '987-654-3210']\n",
      "Sub Example: \n",
      "Welcome to the year 2024!\n",
      "Our office is located at 123 Baker Street.\n",
      "You can reach us at [REDACTED] or send an email to contact@example.com.\n",
      "The alternative number is [REDACTED]. \n",
      "Next year, in 2025, we plan to open another office.\n",
      "\n"
     ]
    }
   ],
   "source": [
    "import re\n",
    "\n",
    "text = \"\"\"\n",
    "Welcome to the year 2024!\n",
    "Our office is located at 123 Baker Street.\n",
    "You can reach us at 555-123-4567 or send an email to contact@example.com.\n",
    "The alternative number is 987-654-3210. \n",
    "Next year, in 2025, we plan to open another office.\n",
    "\"\"\"\n",
    "\n",
    "pattern = r\"\\d{3}-\\d{3}-\\d{4}\"\n",
    "\n",
    "\n",
    "# 텍스트 전체에서 첫 번째로 일치하는 전화번호를 찾음\n",
    "search_result = re.search(pattern, text)\n",
    "if search_result:\n",
    "    print(f\"Search Example: Found phone number: {search_result.group()}\")  \n",
    "    # 출력: Search Example: Found phone number: 555-123-4567\n",
    "\n",
    "\n",
    "# 텍스트의 시작 부분에서 패턴이 일치하는지 확인\n",
    "match_result = re.match(pattern, text)\n",
    "if match_result:\n",
    "    print(f\"Match Example: Found phone number: {match_result.group()}\")  \n",
    "else:\n",
    "    print(\"Match Example: No match found at the start of the text.\")\n",
    "    # 출력: Match Example: No match found at the start of the text.\n",
    "\n",
    "\n",
    "# 텍스트에서 모든 전화번호를 찾아 리스트로 반환\n",
    "findall_result = re.findall(pattern, text)\n",
    "print(f\"Findall Example: Found phone numbers: {findall_result}\")\n",
    "# 출력: Findall Example: Found phone numbers: ['555-123-4567', '987-654-3210']\n",
    "\n",
    "\n",
    "# 텍스트에서 모든 전화번호를 [REDACTED]로 치환\n",
    "sub_result = re.sub(pattern, \"[REDACTED]\", text)\n",
    "print(f\"Sub Example: {sub_result}\")  \n",
    "# 출력: 전화번호가 [REDACTED]로 치환된 텍스트"
   ]
  },
  {
   "cell_type": "markdown",
   "id": "8cc9751a",
   "metadata": {},
   "source": [
    "## 📝 문제 3 해설: 정규표현식 함수들\n",
    "\n",
    "### 🔧 정답 및 각 함수의 역할\n",
    "\n",
    "| 함수 | 정답 | 기능 | 반환값 |\n",
    "|------|------|------|--------|\n",
    "| `search` | ✅ | 텍스트 전체에서 **첫 번째** 매칭 찾기 | Match 객체 또는 None |\n",
    "| `match` | ✅ | 텍스트 **시작 부분**에서만 매칭 확인 | Match 객체 또는 None |\n",
    "| `findall` | ✅ | 텍스트에서 **모든** 매칭을 리스트로 반환 | 문자열 리스트 |\n",
    "| `sub` | ✅ | 매칭되는 부분을 다른 문자열로 **치환** | 치환된 새 문자열 |\n",
    "\n",
    "### 🎯 핵심 차이점\n",
    "\n",
    "#### 1. `search` vs `match`\n",
    "- **search**: 텍스트 어디서든 첫 번째 매칭 찾기\n",
    "- **match**: 텍스트 시작 부분에서만 매칭 확인\n",
    "\n",
    "#### 2. `search` vs `findall`  \n",
    "- **search**: 첫 번째 매칭만 (Match 객체)\n",
    "- **findall**: 모든 매칭 (문자열 리스트)\n",
    "\n",
    "#### 3. `sub`의 특징\n",
    "- 매칭된 모든 부분을 치환\n",
    "- 원본 텍스트는 변경되지 않음\n",
    "- 새로운 문자열 반환"
   ]
  },
  {
   "cell_type": "code",
   "execution_count": null,
   "id": "3198d5ba",
   "metadata": {},
   "outputs": [],
   "source": [
    "## 🎯 전체 요약 및 핵심 포인트\n",
    "\n",
    "### 📚 학습한 핵심 개념\n",
    "\n",
    "1. **이메일 패턴**: 단어 경계, 문자 클래스, 수량사 활용\n",
    "2. **그룹화**: 일반 그룹 `()` vs 명명된 그룹 `(?P<name>...)`\n",
    "3. **RE 함수들**: search, match, findall, sub의 차이점\n",
    "\n",
    "### 🔍 정규표현식 패턴 설계 원칙\n",
    "\n",
    "1. **정확성**: 원하는 것만 매칭하도록 구체적으로 작성\n",
    "2. **완전성**: 가능한 모든 유효한 형태를 포함\n",
    "3. **효율성**: 불필요한 백트래킹 방지\n",
    "4. **가독성**: 명명된 그룹 활용으로 이해하기 쉽게\n",
    "\n",
    "### ⚠️ 주의사항\n",
    "\n",
    "- **단어 경계 `\\b`**: 완전한 단어 매칭 보장\n",
    "- **이스케이프**: 특수문자 `\\.` 처리 주의\n",
    "- **그룹 이름**: 명명된 그룹 사용 시 일관성 유지\n",
    "- **함수 선택**: 용도에 맞는 적절한 함수 사용"
   ]
  },
  {
   "cell_type": "code",
   "execution_count": 8,
   "id": "c4b53728",
   "metadata": {},
   "outputs": [
    {
     "name": "stdout",
     "output_type": "stream",
     "text": [
      "=== 🚀 추가 실습 문제 ===\n",
      "보너스: URL 분해 결과\n",
      "1. 전체 URL: https://www.python.org/docs/\n",
      "   프로토콜: https\n",
      "   도메인: www.python.org\n",
      "   경로: /docs/\n",
      "\n",
      "2. 전체 URL: http://github.com/python/cpython\n",
      "   프로토콜: http\n",
      "   도메인: github.com\n",
      "   경로: /python/cpython\n",
      "\n",
      "3. 전체 URL: https://regex101.com/\n",
      "   프로토콜: https\n",
      "   도메인: regex101.com\n",
      "   경로: /\n",
      "\n",
      "4. 전체 URL: ftp://ftp.example.com/files/\n",
      "   프로토콜: ftp\n",
      "   도메인: ftp.example.com\n",
      "   경로: /files/\n",
      "\n",
      "✅ 모든 문제 해결 완료!\n",
      "정규표현식 마스터가 되신 것을 축하합니다! 🎉\n"
     ]
    }
   ],
   "source": [
    "print(\"=== 🚀 추가 실습 문제 ===\")\n",
    "\n",
    "# 보너스 문제: URL 추출 및 분해\n",
    "bonus_text = \"\"\"\n",
    "유용한 사이트들:\n",
    "- https://www.python.org/docs/\n",
    "- http://github.com/python/cpython  \n",
    "- https://regex101.com/\n",
    "- ftp://ftp.example.com/files/\n",
    "\"\"\"\n",
    "\n",
    "# URL을 프로토콜, 도메인, 경로로 분해하는 패턴\n",
    "url_pattern = r\"(?P<protocol>https?|ftp)://(?P<domain>[A-Za-z0-9.-]+)(?P<path>/[A-Za-z0-9./_-]*)?\"\n",
    "\n",
    "print(\"보너스: URL 분해 결과\")\n",
    "url_matches = re.finditer(url_pattern, bonus_text)\n",
    "\n",
    "for i, match in enumerate(url_matches, 1):\n",
    "    print(f\"{i}. 전체 URL: {match.group()}\")\n",
    "    print(f\"   프로토콜: {match.group('protocol')}\")\n",
    "    print(f\"   도메인: {match.group('domain')}\")\n",
    "    print(f\"   경로: {match.group('path') or '/'}\")\n",
    "    print()\n",
    "\n",
    "# 실행 결과 확인\n",
    "print(\"✅ 모든 문제 해결 완료!\")\n",
    "print(\"정규표현식 마스터가 되신 것을 축하합니다! 🎉\")"
   ]
  }
 ],
 "metadata": {
  "kernelspec": {
   "display_name": "base",
   "language": "python",
   "name": "python3"
  },
  "language_info": {
   "codemirror_mode": {
    "name": "ipython",
    "version": 3
   },
   "file_extension": ".py",
   "mimetype": "text/x-python",
   "name": "python",
   "nbconvert_exporter": "python",
   "pygments_lexer": "ipython3",
   "version": "3.13.5"
  }
 },
 "nbformat": 4,
 "nbformat_minor": 5
}
