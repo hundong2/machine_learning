{
  "nbformat": 4,
  "nbformat_minor": 0,
  "metadata": {
    "colab": {
      "provenance": [],
      "authorship_tag": "ABX9TyMp8C2Mg0mzFxA8P+Cx7czh",
      "include_colab_link": true
    },
    "kernelspec": {
      "name": "python3",
      "display_name": "Python 3"
    },
    "language_info": {
      "name": "python"
    }
  },
  "cells": [
    {
      "cell_type": "markdown",
      "metadata": {
        "id": "view-in-github",
        "colab_type": "text"
      },
      "source": [
        "<a href=\"https://colab.research.google.com/github/hundong2/machine_learning/blob/master/20230815/IndexingOfNdarray.ipynb\" target=\"_parent\"><img src=\"https://colab.research.google.com/assets/colab-badge.svg\" alt=\"Open In Colab\"/></a>"
      ]
    },
    {
      "cell_type": "markdown",
      "source": [
        "# data indexing of numpy ndarray\n",
        "1. 특정한 데이터만 추출\n",
        "  - 원하는 위치의 인덱스 값을 지정하면 해당 위치의 데이터 반환\n",
        "2. 슬라이싱( Slicing )\n",
        "  - 연속된 인덱스 상의 ndarray를 추출하는 방식 `:` 기호 사이에 시작 인덱스와 종료 인덱스 ( `시작 index` ~ `종료 인덱스 - 1 ` ) 데이터를 반환\n",
        "3. 팬시 인덱싱 ( fancy indexing )\n",
        "  - 일정한 인덱싱 집합을 list or ndarray 형태로 지정, 해당 위치 데이터의 ndarray를 반환\n",
        "4. 불린 인덱싱 ( boolean indexing )\n",
        "  - 특정 조건에 해당하는지 true/false 값 인덱싱 집합을 기반으로 ture에 해당하는 인덱스 위치에 데이터( darray )를 반환"
      ],
      "metadata": {
        "id": "ahiehcI1jzWX"
      }
    },
    {
      "cell_type": "markdown",
      "source": [
        "## 1. 특정한 데이터만 추출 ( 배열 )"
      ],
      "metadata": {
        "id": "VDSG_mIEmtFe"
      }
    },
    {
      "cell_type": "markdown",
      "source": [],
      "metadata": {
        "id": "ouKBkHZ0bj2E"
      }
    },
    {
      "cell_type": "code",
      "execution_count": null,
      "metadata": {
        "colab": {
          "base_uri": "https://localhost:8080/"
        },
        "id": "PavUcxSHjmtn",
        "outputId": "04a79214-f98e-499c-9f53-3355c0eab5c9"
      },
      "outputs": [
        {
          "output_type": "stream",
          "name": "stdout",
          "text": [
            "array1: [1 2 3 4 5 6 7 8 9]\n",
            "value: 3\n",
            "<class 'numpy.int64'>\n",
            " 맨 뒤의 값: 9 맨 뒤의 세번째 값 7\n"
          ]
        }
      ],
      "source": [
        "import numpy as np\n",
        "# 1 ~ 9 1 dimension ndarray\n",
        "array1 = np.arange(start=1, stop=10) # array1 = np.arange(1, 10)\n",
        "print('array1:', array1)\n",
        "\n",
        "value = array1[2]\n",
        "print('value:', value)\n",
        "print(type(value))\n",
        "print(' 맨 뒤의 값:', array1[-1], '맨 뒤의 세번째 값', array1[-3])"
      ]
    },
    {
      "cell_type": "code",
      "source": [
        "# 값 변경\n",
        "array1[0] = 9\n",
        "array1[8] = 0\n",
        "print('diff array:', array1)"
      ],
      "metadata": {
        "colab": {
          "base_uri": "https://localhost:8080/"
        },
        "id": "5cW9Yzc1lnFt",
        "outputId": "983aa1e1-aa66-41c1-b546-31c5439387c2"
      },
      "execution_count": null,
      "outputs": [
        {
          "output_type": "stream",
          "name": "stdout",
          "text": [
            "diff array: [9 2 3 4 5 6 7 8 0]\n"
          ]
        }
      ]
    },
    {
      "cell_type": "markdown",
      "source": [
        "- darray에 배열에 접근하는 방식은 일반 프로그래밍언어의 array접근 방식과 같다"
      ],
      "metadata": {
        "id": "AjKkPmZ6lwvN"
      }
    },
    {
      "cell_type": "code",
      "source": [
        "array3d = array1.reshape(-1,3)\n",
        "print('array3d:\\n', array3d)"
      ],
      "metadata": {
        "colab": {
          "base_uri": "https://localhost:8080/"
        },
        "id": "nGtQNsjDl48b",
        "outputId": "bb5fd3c3-7a9d-40a2-c62a-8dade7c98760"
      },
      "execution_count": null,
      "outputs": [
        {
          "output_type": "stream",
          "name": "stdout",
          "text": [
            "array3d:\n",
            " [[9 2 3]\n",
            " [4 5 6]\n",
            " [7 8 0]]\n"
          ]
        }
      ]
    },
    {
      "cell_type": "code",
      "source": [
        "print('row 0, col 1 :', array3d[0][1])\n",
        "print('row 1, col 2 :' , array3d[1][2])\n",
        "print('row2, col 0 :', array3d[2][0])"
      ],
      "metadata": {
        "colab": {
          "base_uri": "https://localhost:8080/"
        },
        "id": "HxTxg0admOPG",
        "outputId": "c000e901-078d-4c33-c1a5-27228a53aee2"
      },
      "execution_count": null,
      "outputs": [
        {
          "output_type": "stream",
          "name": "stdout",
          "text": [
            "row 0, col 1 : 2\n",
            "row 1, col 2 : 6\n",
            "row2, col 0 : 7\n"
          ]
        }
      ]
    },
    {
      "cell_type": "markdown",
      "source": [
        "## Slicing ( 슬라이싱 )\n",
        "- 특정 열 잘라서 가져오기"
      ],
      "metadata": {
        "id": "R4XgRY7ojnKe"
      }
    },
    {
      "cell_type": "code",
      "source": [
        "# 1차원\n",
        "array1 = np.arange(start=1, stop=10)\n",
        "array4 = array1[:3] # 0 부터 3개\n",
        "print(array4)\n",
        "\n",
        "array5 = array1[3:] #0,1,2 /(자르고)  3 부터 끝까지\n",
        "print(array5)\n",
        "\n",
        "array6 = array1[:] # 0 부터 끝까지\n",
        "print(array6)"
      ],
      "metadata": {
        "colab": {
          "base_uri": "https://localhost:8080/"
        },
        "id": "pqsbSyqCm3E-",
        "outputId": "2b226893-c061-4b13-98d6-75c5bb4ae449"
      },
      "execution_count": null,
      "outputs": [
        {
          "output_type": "stream",
          "name": "stdout",
          "text": [
            "[1 2 3]\n",
            "[4 5 6 7 8 9]\n",
            "[1 2 3 4 5 6 7 8 9]\n"
          ]
        }
      ]
    },
    {
      "cell_type": "code",
      "source": [
        "array1d = np.arange(start = 1, stop = 10)\n",
        "array2d = array1d.reshape(3,3)\n",
        "print('array2d:\\n', array2d)\n",
        "\n",
        "print(array2d[0:1, 0:3])\n",
        "\n",
        "print(array2d[0], ' shape : ' , array2d[0].shape)\n",
        "print(array2d[1], ' shape : ' , array2d[1].shape)"
      ],
      "metadata": {
        "colab": {
          "base_uri": "https://localhost:8080/"
        },
        "id": "KGmsvkPlbmvq",
        "outputId": "77e68e41-65eb-490f-9cf9-d16ba6f786b8"
      },
      "execution_count": null,
      "outputs": [
        {
          "output_type": "stream",
          "name": "stdout",
          "text": [
            "array2d:\n",
            " [[1 2 3]\n",
            " [4 5 6]\n",
            " [7 8 9]]\n",
            "[[1 2 3]]\n",
            "[1 2 3]  shape :  (3,)\n",
            "[4 5 6]  shape :  (3,)\n"
          ]
        }
      ]
    },
    {
      "cell_type": "markdown",
      "source": [
        "# 팬시 인덱싱 ( fancy indexing )\n",
        "- list나 ndarray로 인덱스 집합을 지정하면 해당 위치의 인덱스에 해당하는 ndarray를 반환\n"
      ],
      "metadata": {
        "id": "_T_-BHV2hbZu"
      }
    },
    {
      "cell_type": "code",
      "source": [
        "array1d = np.arange(start=1, stop=10)\n",
        "array2d = array1d.reshape(3,3)\n",
        "\n",
        "array3 = array2d[[0,1], 2]\n",
        "print(array2d)\n",
        "print(array3)"
      ],
      "metadata": {
        "colab": {
          "base_uri": "https://localhost:8080/"
        },
        "id": "ugfulqAHfif7",
        "outputId": "78ca448d-7b45-4868-8b01-f14e71af112a"
      },
      "execution_count": null,
      "outputs": [
        {
          "output_type": "stream",
          "name": "stdout",
          "text": [
            "[[1 2 3]\n",
            " [4 5 6]\n",
            " [7 8 9]]\n",
            "[3 6]\n"
          ]
        }
      ]
    },
    {
      "cell_type": "markdown",
      "source": [
        "# 불린 인덱싱 ( boolean indexing )\n",
        "\n",
        "- 조건은 필터링과 검색을 동시에 할 수 있다.\n",
        "- 1차원 ndarray 에서 [1,2,3,4,5,6,7,8,9] -> 5보다 큰값을 추출하는 방법\n",
        "\n",
        "## c#\n",
        "\n",
        "list = [1,2,3,4,5,6,7,8,9]\n",
        "\n",
        "list.where(x => x > 5 ).toList()"
      ],
      "metadata": {
        "id": "qXshnvwBhovq"
      }
    },
    {
      "cell_type": "code",
      "source": [
        "array1d = np.arange(start=1, stop=10)\n",
        "# [] array1d > 5 boolean indexing\n",
        "array3 = array1d[array1d > 5]\n",
        "print('result : ', array3)"
      ],
      "metadata": {
        "colab": {
          "base_uri": "https://localhost:8080/"
        },
        "id": "dHNWh7yyiFKJ",
        "outputId": "892ca3e0-b9d9-4c8e-a281-15cee338cf88"
      },
      "execution_count": 15,
      "outputs": [
        {
          "output_type": "stream",
          "name": "stdout",
          "text": [
            "result :  [6 7 8 9]\n"
          ]
        }
      ]
    },
    {
      "cell_type": "code",
      "source": [
        "array1d > 5"
      ],
      "metadata": {
        "colab": {
          "base_uri": "https://localhost:8080/"
        },
        "id": "AWCvt9pmiqEK",
        "outputId": "1a482e4f-3f19-4c43-8073-a987481ad37e"
      },
      "execution_count": 16,
      "outputs": [
        {
          "output_type": "execute_result",
          "data": {
            "text/plain": [
              "array([False, False, False, False, False,  True,  True,  True,  True])"
            ]
          },
          "metadata": {},
          "execution_count": 16
        }
      ]
    },
    {
      "cell_type": "code",
      "source": [
        "boolean_indexes = np.array([False, False, False, False, False, True, True, True, True])\n",
        "array4 = array1d[boolean_indexes]\n",
        "print(array4)"
      ],
      "metadata": {
        "colab": {
          "base_uri": "https://localhost:8080/"
        },
        "id": "bwulvUdJiz4y",
        "outputId": "984fc46c-a756-4191-fcb7-b803f1169562"
      },
      "execution_count": 17,
      "outputs": [
        {
          "output_type": "stream",
          "name": "stdout",
          "text": [
            "[6 7 8 9]\n"
          ]
        }
      ]
    }
  ]
}