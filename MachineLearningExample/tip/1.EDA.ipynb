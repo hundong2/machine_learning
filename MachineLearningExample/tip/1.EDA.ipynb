{
 "cells": [
  {
   "cell_type": "code",
   "execution_count": null,
   "id": "3a2ccd90",
   "metadata": {},
   "outputs": [],
   "source": [
    "# ================================================================\n",
    "# 1. 경고 메시지 설정\n",
    "# ================================================================\n",
    "# 파이썬 warning 무시 - FutureWarning 경고를 숨겨서 출력을 깔끔하게 만듦\n",
    "import warnings\n",
    "warnings.simplefilter(action='ignore', category=FutureWarning)\n",
    "\n",
    "# ================================================================\n",
    "# 2. 필수 라이브러리 import\n",
    "# ================================================================\n",
    "# 시각화를 위한 라이브러리 - 그래프 생성을 위한 matplotlib 모듈들\n",
    "import matplotlib.pyplot as plt  # 그래프 그리기 위한 기본 모듈\n",
    "import matplotlib.font_manager as fm  # 폰트 관리를 위한 모듈\n",
    "\n",
    "# ================================================================\n",
    "# 3. 한글 폰트 설정 (matplotlib 한글 깨짐 해결)\n",
    "# ================================================================\n",
    "# 한글 폰트 설정 - NotoSansKR 폰트를 시스템에 등록하여 한글 표시가 가능하도록 함\n",
    "fe = fm.FontEntry(fname='NotoSansKR-Regular.otf', name='NotoSansKR')  # 폰트 파일을 FontEntry 객체로 생성\n",
    "fm.fontManager.ttflist.insert(0, fe)  # 폰트 매니저의 폰트 리스트 맨 앞에 추가 (우선순위 최상위)\n",
    "plt.rc('font', family='NotoSansKR')  # matplotlib의 기본 폰트를 NotoSansKR로 설정\n",
    "\n",
    "# ================================================================\n",
    "# 4. 그래프 캔버스 생성\n",
    "# ================================================================\n",
    "# figure와 axes 생성 - 고해상도(dpi=150) 그래프를 위한 캔버스와 좌표축 생성\n",
    "fig, ax = plt.subplots(dpi=150)  # figure: 전체 그래프 창, ax: 실제 그래프가 그려질 좌표계\n",
    "# fig.set_size_inches(10,6)  # 그래프 크기 설정 (가로 10인치, 세로 6인치) - 주석 처리된 부분은 필요시 사용\n",
    "# fig.add_subplot(111)  # 대체 코드 - 단일 서브플롯을 추가하는 방법 (기본적으로 ax와 동일\n",
    "# fig.suptitle() 전체 제목 설정\n",
    "# fig.savefig('plot.png') 파일 저장 \n",
    "\n",
    "# ================================================================\n",
    "# 5. 그래프 제목과 축 라벨 설정\n",
    "# ================================================================\n",
    "# 타이틀, x축, y축 라벨 설정 - 그래프의 제목과 각 축의 의미를 명시\n",
    "ax.set_title(\"일별 중식계\")  # 그래프 상단에 표시될 제목\n",
    "ax.set_xlabel('일')  # x축(가로축) 라벨 - 시간(일)을 나타냄\n",
    "ax.set_ylabel('중식계')  # y축(세로축) 라벨 - 중식계 수치를 나타냄\n",
    "\n",
    "# ================================================================\n",
    "# 6. 데이터 시각화\n",
    "# ================================================================\n",
    "# 데이터 플롯 - train 데이터프레임의 인덱스(x축)와 '중식계' 컬럼(y축)을 선 그래프로 표시\n",
    "ax.plot(train.index, train['중식계'])  # 시계열 데이터를 선형 그래프로 시각화\n",
    "hline = ax.hlines(y=500, xmin=0, xmax=1230, color='red', linestyle='dotted')\n",
    "# 수평선 추가 - y=500 위치에 빨간 점선으로 수평선을 그려 기준선을 표시\n",
    "# ================================================================\n",
    "# 7. 그래프 출력\n",
    "# ================================================================\n",
    "# 그래프 표시 - 설정된 모든 요소들을 화면에 렌더링하여 출력\n",
    "plt.show()  # 완성된 그래프를 화면에 표시"
   ]
  },
  {
   "cell_type": "markdown",
   "id": "1d3e8bca",
   "metadata": {},
   "source": [
    "- `vline()` : 함수는 수직선을 그리는 코드 "
   ]
  },
  {
   "cell_type": "markdown",
   "id": "5927c302",
   "metadata": {},
   "source": []
  },
  {
   "cell_type": "code",
   "execution_count": null,
   "id": "9915b721",
   "metadata": {},
   "outputs": [],
   "source": [
    "# 일자에서 월 정보를 얻기 위한 함수\n",
    "def month(text:str):\n",
    "    return text[5:7]  # 문자열 슬라이싱 - \"YYYY-MM-DD\" 형식에서 MM 부분만 추출\n",
    "\n",
    "# 월 컬럼 추가 - month 함수가 적용된 결과\n",
    "train['월'] = train['일자'].apply(month)  # apply() - 각 행의 '일자' 컬럼에 month 함수를 적용하여 새로운 '월' 컬럼 생성\n",
    "\n",
    "# 그래프 생성 및 설정\n",
    "fig, ax = plt.subplots(figsize=(15, 5))  # subplots() - Figure와 Axes 객체를 생성, figsize로 그래프 크기 설정 (가로15, 세로5)\n",
    "\n",
    "# 월별 석식계 평균 시각화\n",
    "train.groupby('월').mean()['석식계'].plot(ax=ax)  # groupby() - '월'별로 그룹화, mean() - 각 그룹의 평균 계산, plot() - 선 그래프 그리기\n",
    "\n",
    "# 3월에 대한 수직선 추가\n",
    "ax.vlines(x=2, ymin=350, ymax=600, color='red', linestyle='dotted')  # vlines() - 수직선 그리기, x=2 위치에 빨간 점선\n",
    "# 7월에 대한 수직선 추가\n",
    "ax.vlines(x=6, ymin=350, ymax=600, color='green', linestyle='dotted')  # vlines() - x=6 위치에 초록 점선 수직선\n",
    "# 10월에 대한 수직선 추가\n",
    "ax.vlines(x=9, ymin=350, ymax=600, color='blue', linestyle='dotted')  # vlines() - x=9 위치에 파란 점선 수직선\n",
    "\n",
    "plt.show()  # show() - 완성된 그래프를 화면에 출력"
   ]
  }
 ],
 "metadata": {
  "language_info": {
   "name": "python"
  }
 },
 "nbformat": 4,
 "nbformat_minor": 5
}
