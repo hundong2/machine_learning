{
 "cells": [
  {
   "cell_type": "markdown",
   "id": "e1c054cc",
   "metadata": {},
   "source": [
    "# 태양광 발전량 예측"
   ]
  },
  {
   "cell_type": "code",
   "execution_count": null,
   "id": "56edaf7d",
   "metadata": {},
   "outputs": [],
   "source": [
    "import pandas as pd\n",
    "\n",
    "train = pd.read_csv('train.csv')\n",
    "test = pd.read_csv('test.csv')\n",
    "\n",
    "display(train)\n",
    "display(test)"
   ]
  },
  {
   "cell_type": "code",
   "execution_count": null,
   "id": "d4e0e22e",
   "metadata": {},
   "outputs": [],
   "source": [
    "from sklearn.model_selection import train_test_split\n",
    "from sklearn.preprocessing import StandardScaler\n",
    "import statsmodels.api as sm\n",
    "\n",
    "train_x = train.drop(columns=['TARGET', 'ID'])\n",
    "test_x = test.drop(columns=['ID'])\n",
    "\n",
    "train_y = train['TARGET']\n",
    "\n",
    "# 스케일링(표준화)\n",
    "scaler = StandardScaler()\n",
    "train_x_scaled = scaler.fit_transform(train_x)\n",
    "test_x_scaled = scaler.transform(test_x)\n",
    "\n",
    "# 스케일링된 데이터프레임 생성\n",
    "columns = train_x.columns\n",
    "train_x = pd.DataFrame(train_x_scaled, columns=columns)\n",
    "test_x = pd.DataFrame(test_x_scaled, columns=columns)\n",
    "\n",
    "train_x = sm.add_constant(train_x) # 상수항 추가\n",
    "test_x = sm.add_constant(test_x) # 상수항 추가\n",
    "\n",
    "train_x, val_x, train_y, val_y = train_test_split(train_x, train_y, test_size=0.2, random_state=42)"
   ]
  },
  {
   "cell_type": "code",
   "execution_count": null,
   "id": "e9913076",
   "metadata": {},
   "outputs": [],
   "source": [
    "model = sm.OLS(train_y, train_x)\n",
    "result = model.fit()"
   ]
  },
  {
   "cell_type": "code",
   "execution_count": null,
   "id": "1cab2038",
   "metadata": {},
   "outputs": [],
   "source": [
    "print(result.summary())"
   ]
  },
  {
   "cell_type": "code",
   "execution_count": null,
   "id": "6821dfac",
   "metadata": {},
   "outputs": [],
   "source": [
    "from sklearn.metrics import mean_absolute_error\n",
    "pred_val = result.predict(val_x)\n",
    "\n",
    "# MAE\n",
    "mae = mean_absolute_error(val_y, pred_val)\n",
    "print(\"Mean Absolute Error: \", mae)"
   ]
  },
  {
   "cell_type": "code",
   "execution_count": null,
   "id": "6b542bf9",
   "metadata": {},
   "outputs": [],
   "source": [
    "pred = result.predict(test_x)\n",
    "pred"
   ]
  },
  {
   "cell_type": "markdown",
   "id": "d0ce9b1f",
   "metadata": {},
   "source": []
  }
 ],
 "metadata": {
  "language_info": {
   "name": "python"
  }
 },
 "nbformat": 4,
 "nbformat_minor": 5
}
