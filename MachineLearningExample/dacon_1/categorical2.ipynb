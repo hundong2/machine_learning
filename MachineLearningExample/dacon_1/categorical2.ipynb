{
 "cells": [
  {
   "cell_type": "code",
   "execution_count": null,
   "id": "122a4eda",
   "metadata": {},
   "outputs": [],
   "source": [
    "# 예제 used car 데이터프레임 생성 (train/test)\n",
    "import pandas as pd\n",
    "\n",
    "train_used_car = pd.DataFrame({\n",
    "    'Brand': ['Ford','Honda','Ford','Toyota','Toyota','Toyota','Honda','Toyota','Toyota','Ford'],\n",
    "    'Model': ['Sedan','Sedan','SUV','Sedan','Sedan','Sedan','Truck','SUV','Sedan','Sedan'],\n",
    "    '정비 이력등급': ['없음','보통','없음','정기적','없음','정기적','없음','보통','없음','정기적'],\n",
    "    '주행거리': [44676.6,51638.2,57685.7,45822.0,38865.6,56178.5,58437.6,39963.5,61611.4,73547.4],\n",
    "    '중고차가격': [20052.0,16511.6,13936.9,25494.9,21297.9,22708.3,15314.2,23178.7,13233.2,11806.2]\n",
    "})\n",
    "\n",
    "test_used_car = pd.DataFrame({\n",
    "    'Brand': ['Toyota','Ford','Honda','Chevrolet','Toyota'],\n",
    "    'Model': ['SUV','Truck','Sedan','Sedan','Truck'],\n",
    "    '정비 이력등급': ['보통','없음','정기적','정기적','없음'],\n",
    "    '주행거리': [45000,30000,40000,50000,55000]\n",
    "})\n",
    "\n",
    "# 미리 확인\n",
    "display(train_used_car.head())\n",
    "display(test_used_car)\n"
   ]
  },
  {
   "cell_type": "code",
   "execution_count": 6,
   "id": "0e646233",
   "metadata": {},
   "outputs": [
    {
     "data": {
      "text/html": [
       "<div>\n",
       "<style scoped>\n",
       "    .dataframe tbody tr th:only-of-type {\n",
       "        vertical-align: middle;\n",
       "    }\n",
       "\n",
       "    .dataframe tbody tr th {\n",
       "        vertical-align: top;\n",
       "    }\n",
       "\n",
       "    .dataframe thead th {\n",
       "        text-align: right;\n",
       "    }\n",
       "</style>\n",
       "<table border=\"1\" class=\"dataframe\">\n",
       "  <thead>\n",
       "    <tr style=\"text-align: right;\">\n",
       "      <th></th>\n",
       "      <th>id</th>\n",
       "      <th>age</th>\n",
       "      <th>workclass</th>\n",
       "      <th>fnlwgt</th>\n",
       "      <th>education</th>\n",
       "      <th>education.num</th>\n",
       "      <th>marital.status</th>\n",
       "      <th>occupation</th>\n",
       "      <th>relationship</th>\n",
       "      <th>race</th>\n",
       "      <th>sex</th>\n",
       "      <th>capital.gain</th>\n",
       "      <th>capital.loss</th>\n",
       "      <th>hours.per.week</th>\n",
       "      <th>native.country</th>\n",
       "      <th>target</th>\n",
       "    </tr>\n",
       "  </thead>\n",
       "  <tbody>\n",
       "    <tr>\n",
       "      <th>0</th>\n",
       "      <td>0</td>\n",
       "      <td>32</td>\n",
       "      <td>Private</td>\n",
       "      <td>309513</td>\n",
       "      <td>Assoc-acdm</td>\n",
       "      <td>12</td>\n",
       "      <td>Married-civ-spouse</td>\n",
       "      <td>Craft-repair</td>\n",
       "      <td>Husband</td>\n",
       "      <td>White</td>\n",
       "      <td>Male</td>\n",
       "      <td>0</td>\n",
       "      <td>0</td>\n",
       "      <td>40</td>\n",
       "      <td>United-States</td>\n",
       "      <td>0</td>\n",
       "    </tr>\n",
       "    <tr>\n",
       "      <th>1</th>\n",
       "      <td>1</td>\n",
       "      <td>33</td>\n",
       "      <td>Private</td>\n",
       "      <td>205469</td>\n",
       "      <td>Some-college</td>\n",
       "      <td>10</td>\n",
       "      <td>Married-civ-spouse</td>\n",
       "      <td>Exec-managerial</td>\n",
       "      <td>Husband</td>\n",
       "      <td>White</td>\n",
       "      <td>Male</td>\n",
       "      <td>0</td>\n",
       "      <td>0</td>\n",
       "      <td>40</td>\n",
       "      <td>United-States</td>\n",
       "      <td>1</td>\n",
       "    </tr>\n",
       "    <tr>\n",
       "      <th>2</th>\n",
       "      <td>2</td>\n",
       "      <td>46</td>\n",
       "      <td>Private</td>\n",
       "      <td>149949</td>\n",
       "      <td>Some-college</td>\n",
       "      <td>10</td>\n",
       "      <td>Married-civ-spouse</td>\n",
       "      <td>Craft-repair</td>\n",
       "      <td>Husband</td>\n",
       "      <td>White</td>\n",
       "      <td>Male</td>\n",
       "      <td>0</td>\n",
       "      <td>0</td>\n",
       "      <td>40</td>\n",
       "      <td>United-States</td>\n",
       "      <td>0</td>\n",
       "    </tr>\n",
       "    <tr>\n",
       "      <th>3</th>\n",
       "      <td>3</td>\n",
       "      <td>23</td>\n",
       "      <td>Private</td>\n",
       "      <td>193090</td>\n",
       "      <td>Bachelors</td>\n",
       "      <td>13</td>\n",
       "      <td>Never-married</td>\n",
       "      <td>Adm-clerical</td>\n",
       "      <td>Own-child</td>\n",
       "      <td>White</td>\n",
       "      <td>Female</td>\n",
       "      <td>0</td>\n",
       "      <td>0</td>\n",
       "      <td>30</td>\n",
       "      <td>United-States</td>\n",
       "      <td>0</td>\n",
       "    </tr>\n",
       "    <tr>\n",
       "      <th>4</th>\n",
       "      <td>4</td>\n",
       "      <td>55</td>\n",
       "      <td>Private</td>\n",
       "      <td>60193</td>\n",
       "      <td>HS-grad</td>\n",
       "      <td>9</td>\n",
       "      <td>Divorced</td>\n",
       "      <td>Adm-clerical</td>\n",
       "      <td>Not-in-family</td>\n",
       "      <td>White</td>\n",
       "      <td>Female</td>\n",
       "      <td>0</td>\n",
       "      <td>0</td>\n",
       "      <td>40</td>\n",
       "      <td>United-States</td>\n",
       "      <td>0</td>\n",
       "    </tr>\n",
       "  </tbody>\n",
       "</table>\n",
       "</div>"
      ],
      "text/plain": [
       "   id  age workclass  fnlwgt     education  education.num      marital.status  \\\n",
       "0   0   32   Private  309513    Assoc-acdm             12  Married-civ-spouse   \n",
       "1   1   33   Private  205469  Some-college             10  Married-civ-spouse   \n",
       "2   2   46   Private  149949  Some-college             10  Married-civ-spouse   \n",
       "3   3   23   Private  193090     Bachelors             13       Never-married   \n",
       "4   4   55   Private   60193       HS-grad              9            Divorced   \n",
       "\n",
       "        occupation   relationship   race     sex  capital.gain  capital.loss  \\\n",
       "0     Craft-repair        Husband  White    Male             0             0   \n",
       "1  Exec-managerial        Husband  White    Male             0             0   \n",
       "2     Craft-repair        Husband  White    Male             0             0   \n",
       "3     Adm-clerical      Own-child  White  Female             0             0   \n",
       "4     Adm-clerical  Not-in-family  White  Female             0             0   \n",
       "\n",
       "   hours.per.week native.country  target  \n",
       "0              40  United-States       0  \n",
       "1              40  United-States       1  \n",
       "2              40  United-States       0  \n",
       "3              30  United-States       0  \n",
       "4              40  United-States       0  "
      ]
     },
     "execution_count": 6,
     "metadata": {},
     "output_type": "execute_result"
    }
   ],
   "source": [
    "from sklearn.ensemble import RandomForestClassifier\n",
    "import pandas as pd\n",
    "# 랜덤 포레스트 분류 모델 초기화\n",
    "model = RandomForestClassifier()\n",
    "\n",
    "train_income = pd.read_csv('humandata/train.csv')\n",
    "\n",
    "# 타겟 변수와 특성 분리\n",
    "train_income.head(5)\n"
   ]
  },
  {
   "cell_type": "code",
   "execution_count": 7,
   "id": "4750a8f4",
   "metadata": {},
   "outputs": [
    {
     "name": "stdout",
     "output_type": "stream",
     "text": [
      "<class 'pandas.core.frame.DataFrame'>\n",
      "RangeIndex: 17480 entries, 0 to 17479\n",
      "Data columns (total 16 columns):\n",
      " #   Column          Non-Null Count  Dtype \n",
      "---  ------          --------------  ----- \n",
      " 0   id              17480 non-null  int64 \n",
      " 1   age             17480 non-null  int64 \n",
      " 2   workclass       15644 non-null  object\n",
      " 3   fnlwgt          17480 non-null  int64 \n",
      " 4   education       17480 non-null  object\n",
      " 5   education.num   17480 non-null  int64 \n",
      " 6   marital.status  17480 non-null  object\n",
      " 7   occupation      15637 non-null  object\n",
      " 8   relationship    17480 non-null  object\n",
      " 9   race            17480 non-null  object\n",
      " 10  sex             17480 non-null  object\n",
      " 11  capital.gain    17480 non-null  int64 \n",
      " 12  capital.loss    17480 non-null  int64 \n",
      " 13  hours.per.week  17480 non-null  int64 \n",
      " 14  native.country  16897 non-null  object\n",
      " 15  target          17480 non-null  int64 \n",
      "dtypes: int64(8), object(8)\n",
      "memory usage: 2.1+ MB\n"
     ]
    },
    {
     "data": {
      "text/plain": [
       "None"
      ]
     },
     "metadata": {},
     "output_type": "display_data"
    }
   ],
   "source": [
    "display(train_income.info())"
   ]
  },
  {
   "cell_type": "code",
   "execution_count": 8,
   "id": "f5d5a8ad",
   "metadata": {},
   "outputs": [
    {
     "data": {
      "text/plain": [
       "array(['Craft-repair', 'Exec-managerial', 'Adm-clerical',\n",
       "       'Prof-specialty', 'Machine-op-inspct', 'Other-service', 'Sales',\n",
       "       'Farming-fishing', 'Transport-moving', 'Handlers-cleaners',\n",
       "       'Tech-support', 'Protective-serv', 'Priv-house-serv',\n",
       "       'Armed-Forces', nan], dtype=object)"
      ]
     },
     "metadata": {},
     "output_type": "display_data"
    },
    {
     "data": {
      "text/plain": [
       "array(['White', 'Black', 'Asian-Pac-Islander', 'Amer-Indian-Eskimo',\n",
       "       'Other'], dtype=object)"
      ]
     },
     "metadata": {},
     "output_type": "display_data"
    },
    {
     "data": {
      "text/plain": [
       "array(['Assoc-acdm', 'Some-college', 'Bachelors', 'HS-grad',\n",
       "       'Prof-school', '10th', '11th', 'Masters', '7th-8th', '1st-4th',\n",
       "       'Assoc-voc', '5th-6th', 'Doctorate', '9th', '12th', 'Preschool'],\n",
       "      dtype=object)"
      ]
     },
     "metadata": {},
     "output_type": "display_data"
    }
   ],
   "source": [
    "display(train_income['occupation'].unique())\n",
    "display(train_income['race'].unique())\n",
    "display(train_income['education'].unique())"
   ]
  },
  {
   "cell_type": "markdown",
   "id": "2d7407f1",
   "metadata": {},
   "source": [
    "# Ordinal(순서형) 범주형 변수 인코딩\n",
    "\n",
    "## label encoding 의 이해 및 구현\n",
    "## label encoding 의 한계와 적용시 주의점 이해 \n",
    "## Direct Mapping 통한 순서형 변수 인코딩 \n",
    "## Ordinal encoding 통한 순서형 변수 인코딩 방법 익히기 \n"
   ]
  },
  {
   "cell_type": "markdown",
   "id": "74e271b4",
   "metadata": {},
   "source": []
  },
  {
   "cell_type": "code",
   "execution_count": 9,
   "id": "7a780da2",
   "metadata": {},
   "outputs": [],
   "source": [
    "# label encoding \n",
    "\n",
    "import pandas as pd"
   ]
  },
  {
   "cell_type": "markdown",
   "id": "7f86dc6b",
   "metadata": {},
   "source": [
    "# label encoding \n",
    "\n",
    "## scikit-learn library \n",
    "\n",
    "- 각 카테고리(범주)에 고유한 정수를 할당 \n",
    "- 기계 학습 모델이 이해할 수 있는 형태로 데이터를 변환 "
   ]
  },
  {
   "cell_type": "code",
   "execution_count": 10,
   "id": "1fca4160",
   "metadata": {},
   "outputs": [
    {
     "ename": "KeyError",
     "evalue": "'Brand'",
     "output_type": "error",
     "traceback": [
      "\u001b[0;31m---------------------------------------------------------------------------\u001b[0m",
      "\u001b[0;31mKeyError\u001b[0m                                  Traceback (most recent call last)",
      "File \u001b[0;32m/opt/homebrew/anaconda3/lib/python3.13/site-packages/pandas/core/indexes/base.py:3805\u001b[0m, in \u001b[0;36mIndex.get_loc\u001b[0;34m(self, key)\u001b[0m\n\u001b[1;32m   3804\u001b[0m \u001b[38;5;28;01mtry\u001b[39;00m:\n\u001b[0;32m-> 3805\u001b[0m     \u001b[38;5;28;01mreturn\u001b[39;00m \u001b[38;5;28mself\u001b[39m\u001b[38;5;241m.\u001b[39m_engine\u001b[38;5;241m.\u001b[39mget_loc(casted_key)\n\u001b[1;32m   3806\u001b[0m \u001b[38;5;28;01mexcept\u001b[39;00m \u001b[38;5;167;01mKeyError\u001b[39;00m \u001b[38;5;28;01mas\u001b[39;00m err:\n",
      "File \u001b[0;32mindex.pyx:167\u001b[0m, in \u001b[0;36mpandas._libs.index.IndexEngine.get_loc\u001b[0;34m()\u001b[0m\n",
      "File \u001b[0;32mindex.pyx:196\u001b[0m, in \u001b[0;36mpandas._libs.index.IndexEngine.get_loc\u001b[0;34m()\u001b[0m\n",
      "File \u001b[0;32mpandas/_libs/hashtable_class_helper.pxi:7081\u001b[0m, in \u001b[0;36mpandas._libs.hashtable.PyObjectHashTable.get_item\u001b[0;34m()\u001b[0m\n",
      "File \u001b[0;32mpandas/_libs/hashtable_class_helper.pxi:7089\u001b[0m, in \u001b[0;36mpandas._libs.hashtable.PyObjectHashTable.get_item\u001b[0;34m()\u001b[0m\n",
      "\u001b[0;31mKeyError\u001b[0m: 'Brand'",
      "\nThe above exception was the direct cause of the following exception:\n",
      "\u001b[0;31mKeyError\u001b[0m                                  Traceback (most recent call last)",
      "Cell \u001b[0;32mIn[10], line 11\u001b[0m\n\u001b[1;32m      8\u001b[0m \u001b[38;5;28;01mfor\u001b[39;00m col \u001b[38;5;129;01min\u001b[39;00m categorical_var:\n\u001b[1;32m      9\u001b[0m     le_train \u001b[38;5;241m=\u001b[39m LabelEncoder()\n\u001b[0;32m---> 11\u001b[0m     train_used_car[col] \u001b[38;5;241m=\u001b[39m le_train\u001b[38;5;241m.\u001b[39mfit_transform(train_used_car[col])\n\u001b[1;32m     12\u001b[0m     label_encoders[col] \u001b[38;5;241m=\u001b[39m le_train\n\u001b[1;32m     14\u001b[0m display(train_used_car\u001b[38;5;241m.\u001b[39mhead())\n",
      "File \u001b[0;32m/opt/homebrew/anaconda3/lib/python3.13/site-packages/pandas/core/frame.py:4102\u001b[0m, in \u001b[0;36mDataFrame.__getitem__\u001b[0;34m(self, key)\u001b[0m\n\u001b[1;32m   4100\u001b[0m \u001b[38;5;28;01mif\u001b[39;00m \u001b[38;5;28mself\u001b[39m\u001b[38;5;241m.\u001b[39mcolumns\u001b[38;5;241m.\u001b[39mnlevels \u001b[38;5;241m>\u001b[39m \u001b[38;5;241m1\u001b[39m:\n\u001b[1;32m   4101\u001b[0m     \u001b[38;5;28;01mreturn\u001b[39;00m \u001b[38;5;28mself\u001b[39m\u001b[38;5;241m.\u001b[39m_getitem_multilevel(key)\n\u001b[0;32m-> 4102\u001b[0m indexer \u001b[38;5;241m=\u001b[39m \u001b[38;5;28mself\u001b[39m\u001b[38;5;241m.\u001b[39mcolumns\u001b[38;5;241m.\u001b[39mget_loc(key)\n\u001b[1;32m   4103\u001b[0m \u001b[38;5;28;01mif\u001b[39;00m is_integer(indexer):\n\u001b[1;32m   4104\u001b[0m     indexer \u001b[38;5;241m=\u001b[39m [indexer]\n",
      "File \u001b[0;32m/opt/homebrew/anaconda3/lib/python3.13/site-packages/pandas/core/indexes/base.py:3812\u001b[0m, in \u001b[0;36mIndex.get_loc\u001b[0;34m(self, key)\u001b[0m\n\u001b[1;32m   3807\u001b[0m     \u001b[38;5;28;01mif\u001b[39;00m \u001b[38;5;28misinstance\u001b[39m(casted_key, \u001b[38;5;28mslice\u001b[39m) \u001b[38;5;129;01mor\u001b[39;00m (\n\u001b[1;32m   3808\u001b[0m         \u001b[38;5;28misinstance\u001b[39m(casted_key, abc\u001b[38;5;241m.\u001b[39mIterable)\n\u001b[1;32m   3809\u001b[0m         \u001b[38;5;129;01mand\u001b[39;00m \u001b[38;5;28many\u001b[39m(\u001b[38;5;28misinstance\u001b[39m(x, \u001b[38;5;28mslice\u001b[39m) \u001b[38;5;28;01mfor\u001b[39;00m x \u001b[38;5;129;01min\u001b[39;00m casted_key)\n\u001b[1;32m   3810\u001b[0m     ):\n\u001b[1;32m   3811\u001b[0m         \u001b[38;5;28;01mraise\u001b[39;00m InvalidIndexError(key)\n\u001b[0;32m-> 3812\u001b[0m     \u001b[38;5;28;01mraise\u001b[39;00m \u001b[38;5;167;01mKeyError\u001b[39;00m(key) \u001b[38;5;28;01mfrom\u001b[39;00m\u001b[38;5;250m \u001b[39m\u001b[38;5;21;01merr\u001b[39;00m\n\u001b[1;32m   3813\u001b[0m \u001b[38;5;28;01mexcept\u001b[39;00m \u001b[38;5;167;01mTypeError\u001b[39;00m:\n\u001b[1;32m   3814\u001b[0m     \u001b[38;5;66;03m# If we have a listlike key, _check_indexing_error will raise\u001b[39;00m\n\u001b[1;32m   3815\u001b[0m     \u001b[38;5;66;03m#  InvalidIndexError. Otherwise we fall through and re-raise\u001b[39;00m\n\u001b[1;32m   3816\u001b[0m     \u001b[38;5;66;03m#  the TypeError.\u001b[39;00m\n\u001b[1;32m   3817\u001b[0m     \u001b[38;5;28mself\u001b[39m\u001b[38;5;241m.\u001b[39m_check_indexing_error(key)\n",
      "\u001b[0;31mKeyError\u001b[0m: 'Brand'"
     ]
    }
   ],
   "source": [
    "from sklearn.preprocessing import LabelEncoder\n",
    "import numpy as np\n",
    "\n",
    "categorical_var = ['Brand',  'Model', '정비 이력등급']\n",
    "\n",
    "label_encoders = {}\n",
    "\n",
    "for col in categorical_var:\n",
    "    le_train = LabelEncoder()\n",
    "\n",
    "    train_used_car[col] = le_train.fit_transform(train_used_car[col])\n",
    "    label_encoders[col] = le_train\n",
    "    \n",
    "display(train_used_car.head())\n",
    "\n",
    "# 인코딩을 어떻게 수행했는지 확인\n",
    "for col in categorical_var:\n",
    "    display(f\"{col} :\")\n",
    "    for i in range(len(label_encoders[col].classes_)):\n",
    "        display(f\"{label_encoders[col].classes_[i]} ({i})\")"
   ]
  },
  {
   "cell_type": "code",
   "execution_count": null,
   "id": "c821057c",
   "metadata": {},
   "outputs": [],
   "source": [
    "# 예제 used car 데이터프레임 생성 (train/test)\n",
    "import pandas as pd\n",
    "\n",
    "train_used_car = pd.DataFrame({\n",
    "    'Brand': ['Ford','Honda','Ford','Toyota','Toyota','Toyota','Honda','Toyota','Toyota','Ford'],\n",
    "    'Model': ['Sedan','Sedan','SUV','Sedan','Sedan','Sedan','Truck','SUV','Sedan','Sedan'],\n",
    "    '정비 이력등급': ['없음','보통','없음','정기적','없음','정기적','없음','보통','없음','정기적'],\n",
    "    '주행거리': [44676.6,51638.2,57685.7,45822.0,38865.6,56178.5,58437.6,39963.5,61611.4,73547.4],\n",
    "    '중고차가격': [20052.0,16511.6,13936.9,25494.9,21297.9,22708.3,15314.2,23178.7,13233.2,11806.2]\n",
    "})\n",
    "\n",
    "test_used_car = pd.DataFrame({\n",
    "    'Brand': ['Toyota','Ford','Honda','Chevrolet','Toyota'],\n",
    "    'Model': ['SUV','Truck','Sedan','Sedan','Truck'],\n",
    "    '정비 이력등급': ['보통','없음','정기적','정기적','없음'],\n",
    "    '주행거리': [45000,30000,40000,50000,55000]\n",
    "})\n",
    "\n",
    "# 미리 확인\n",
    "display(train_used_car.head())\n",
    "display(test_used_car)\n"
   ]
  },
  {
   "cell_type": "code",
   "execution_count": null,
   "id": "55c6f8df",
   "metadata": {},
   "outputs": [],
   "source": []
  }
 ],
 "metadata": {
  "kernelspec": {
   "display_name": "base",
   "language": "python",
   "name": "python3"
  },
  "language_info": {
   "codemirror_mode": {
    "name": "ipython",
    "version": 3
   },
   "file_extension": ".py",
   "mimetype": "text/x-python",
   "name": "python",
   "nbconvert_exporter": "python",
   "pygments_lexer": "ipython3",
   "version": "3.13.5"
  }
 },
 "nbformat": 4,
 "nbformat_minor": 5
}
