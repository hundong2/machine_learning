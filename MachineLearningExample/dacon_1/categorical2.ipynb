{
 "cells": [
  {
   "cell_type": "code",
   "execution_count": null,
   "id": "122a4eda",
   "metadata": {},
   "outputs": [],
   "source": [
    "# 예제 used car 데이터프레임 생성 (train/test)\n",
    "import pandas as pd\n",
    "\n",
    "train_used_car = pd.DataFrame({\n",
    "    'Brand': ['Ford','Honda','Ford','Toyota','Toyota','Toyota','Honda','Toyota','Toyota','Ford'],\n",
    "    'Model': ['Sedan','Sedan','SUV','Sedan','Sedan','Sedan','Truck','SUV','Sedan','Sedan'],\n",
    "    '정비 이력등급': ['없음','보통','없음','정기적','없음','정기적','없음','보통','없음','정기적'],\n",
    "    '주행거리': [44676.6,51638.2,57685.7,45822.0,38865.6,56178.5,58437.6,39963.5,61611.4,73547.4],\n",
    "    '중고차가격': [20052.0,16511.6,13936.9,25494.9,21297.9,22708.3,15314.2,23178.7,13233.2,11806.2]\n",
    "})\n",
    "\n",
    "test_used_car = pd.DataFrame({\n",
    "    'Brand': ['Toyota','Ford','Honda','Chevrolet','Toyota'],\n",
    "    'Model': ['SUV','Truck','Sedan','Sedan','Truck'],\n",
    "    '정비 이력등급': ['보통','없음','정기적','정기적','없음'],\n",
    "    '주행거리': [45000,30000,40000,50000,55000]\n",
    "})\n",
    "\n",
    "# 미리 확인\n",
    "display(train_used_car.head())\n",
    "display(test_used_car)\n"
   ]
  },
  {
   "cell_type": "code",
   "execution_count": 13,
   "id": "337d17c4",
   "metadata": {},
   "outputs": [
    {
     "ename": "FileNotFoundError",
     "evalue": "[Errno 2] No such file or directory: 'MachineLearningExample/dacon_1/train_used_car_sample.csv'",
     "output_type": "error",
     "traceback": [
      "\u001b[0;31m---------------------------------------------------------------------------\u001b[0m",
      "\u001b[0;31mFileNotFoundError\u001b[0m                         Traceback (most recent call last)",
      "Cell \u001b[0;32mIn[13], line 48\u001b[0m\n\u001b[1;32m     45\u001b[0m train_path \u001b[38;5;241m=\u001b[39m base_dir \u001b[38;5;241m/\u001b[39m \u001b[38;5;124m'\u001b[39m\u001b[38;5;124mtrain_used_car_sample.csv\u001b[39m\u001b[38;5;124m'\u001b[39m\n\u001b[1;32m     46\u001b[0m test_path \u001b[38;5;241m=\u001b[39m base_dir \u001b[38;5;241m/\u001b[39m \u001b[38;5;124m'\u001b[39m\u001b[38;5;124mtest_used_car_sample.csv\u001b[39m\u001b[38;5;124m'\u001b[39m\n\u001b[0;32m---> 48\u001b[0m existing_train \u001b[38;5;241m=\u001b[39m pd\u001b[38;5;241m.\u001b[39mread_csv(train_path)\n\u001b[1;32m     49\u001b[0m existing_test \u001b[38;5;241m=\u001b[39m pd\u001b[38;5;241m.\u001b[39mread_csv(test_path)\n\u001b[1;32m     51\u001b[0m updated_train \u001b[38;5;241m=\u001b[39m pd\u001b[38;5;241m.\u001b[39mconcat([existing_train, synthetic_train], ignore_index\u001b[38;5;241m=\u001b[39m\u001b[38;5;28;01mTrue\u001b[39;00m)\n",
      "File \u001b[0;32m/opt/homebrew/anaconda3/lib/python3.13/site-packages/pandas/io/parsers/readers.py:1026\u001b[0m, in \u001b[0;36mread_csv\u001b[0;34m(filepath_or_buffer, sep, delimiter, header, names, index_col, usecols, dtype, engine, converters, true_values, false_values, skipinitialspace, skiprows, skipfooter, nrows, na_values, keep_default_na, na_filter, verbose, skip_blank_lines, parse_dates, infer_datetime_format, keep_date_col, date_parser, date_format, dayfirst, cache_dates, iterator, chunksize, compression, thousands, decimal, lineterminator, quotechar, quoting, doublequote, escapechar, comment, encoding, encoding_errors, dialect, on_bad_lines, delim_whitespace, low_memory, memory_map, float_precision, storage_options, dtype_backend)\u001b[0m\n\u001b[1;32m   1013\u001b[0m kwds_defaults \u001b[38;5;241m=\u001b[39m _refine_defaults_read(\n\u001b[1;32m   1014\u001b[0m     dialect,\n\u001b[1;32m   1015\u001b[0m     delimiter,\n\u001b[0;32m   (...)\u001b[0m\n\u001b[1;32m   1022\u001b[0m     dtype_backend\u001b[38;5;241m=\u001b[39mdtype_backend,\n\u001b[1;32m   1023\u001b[0m )\n\u001b[1;32m   1024\u001b[0m kwds\u001b[38;5;241m.\u001b[39mupdate(kwds_defaults)\n\u001b[0;32m-> 1026\u001b[0m \u001b[38;5;28;01mreturn\u001b[39;00m _read(filepath_or_buffer, kwds)\n",
      "File \u001b[0;32m/opt/homebrew/anaconda3/lib/python3.13/site-packages/pandas/io/parsers/readers.py:620\u001b[0m, in \u001b[0;36m_read\u001b[0;34m(filepath_or_buffer, kwds)\u001b[0m\n\u001b[1;32m    617\u001b[0m _validate_names(kwds\u001b[38;5;241m.\u001b[39mget(\u001b[38;5;124m\"\u001b[39m\u001b[38;5;124mnames\u001b[39m\u001b[38;5;124m\"\u001b[39m, \u001b[38;5;28;01mNone\u001b[39;00m))\n\u001b[1;32m    619\u001b[0m \u001b[38;5;66;03m# Create the parser.\u001b[39;00m\n\u001b[0;32m--> 620\u001b[0m parser \u001b[38;5;241m=\u001b[39m TextFileReader(filepath_or_buffer, \u001b[38;5;241m*\u001b[39m\u001b[38;5;241m*\u001b[39mkwds)\n\u001b[1;32m    622\u001b[0m \u001b[38;5;28;01mif\u001b[39;00m chunksize \u001b[38;5;129;01mor\u001b[39;00m iterator:\n\u001b[1;32m    623\u001b[0m     \u001b[38;5;28;01mreturn\u001b[39;00m parser\n",
      "File \u001b[0;32m/opt/homebrew/anaconda3/lib/python3.13/site-packages/pandas/io/parsers/readers.py:1620\u001b[0m, in \u001b[0;36mTextFileReader.__init__\u001b[0;34m(self, f, engine, **kwds)\u001b[0m\n\u001b[1;32m   1617\u001b[0m     \u001b[38;5;28mself\u001b[39m\u001b[38;5;241m.\u001b[39moptions[\u001b[38;5;124m\"\u001b[39m\u001b[38;5;124mhas_index_names\u001b[39m\u001b[38;5;124m\"\u001b[39m] \u001b[38;5;241m=\u001b[39m kwds[\u001b[38;5;124m\"\u001b[39m\u001b[38;5;124mhas_index_names\u001b[39m\u001b[38;5;124m\"\u001b[39m]\n\u001b[1;32m   1619\u001b[0m \u001b[38;5;28mself\u001b[39m\u001b[38;5;241m.\u001b[39mhandles: IOHandles \u001b[38;5;241m|\u001b[39m \u001b[38;5;28;01mNone\u001b[39;00m \u001b[38;5;241m=\u001b[39m \u001b[38;5;28;01mNone\u001b[39;00m\n\u001b[0;32m-> 1620\u001b[0m \u001b[38;5;28mself\u001b[39m\u001b[38;5;241m.\u001b[39m_engine \u001b[38;5;241m=\u001b[39m \u001b[38;5;28mself\u001b[39m\u001b[38;5;241m.\u001b[39m_make_engine(f, \u001b[38;5;28mself\u001b[39m\u001b[38;5;241m.\u001b[39mengine)\n",
      "File \u001b[0;32m/opt/homebrew/anaconda3/lib/python3.13/site-packages/pandas/io/parsers/readers.py:1880\u001b[0m, in \u001b[0;36mTextFileReader._make_engine\u001b[0;34m(self, f, engine)\u001b[0m\n\u001b[1;32m   1878\u001b[0m     \u001b[38;5;28;01mif\u001b[39;00m \u001b[38;5;124m\"\u001b[39m\u001b[38;5;124mb\u001b[39m\u001b[38;5;124m\"\u001b[39m \u001b[38;5;129;01mnot\u001b[39;00m \u001b[38;5;129;01min\u001b[39;00m mode:\n\u001b[1;32m   1879\u001b[0m         mode \u001b[38;5;241m+\u001b[39m\u001b[38;5;241m=\u001b[39m \u001b[38;5;124m\"\u001b[39m\u001b[38;5;124mb\u001b[39m\u001b[38;5;124m\"\u001b[39m\n\u001b[0;32m-> 1880\u001b[0m \u001b[38;5;28mself\u001b[39m\u001b[38;5;241m.\u001b[39mhandles \u001b[38;5;241m=\u001b[39m get_handle(\n\u001b[1;32m   1881\u001b[0m     f,\n\u001b[1;32m   1882\u001b[0m     mode,\n\u001b[1;32m   1883\u001b[0m     encoding\u001b[38;5;241m=\u001b[39m\u001b[38;5;28mself\u001b[39m\u001b[38;5;241m.\u001b[39moptions\u001b[38;5;241m.\u001b[39mget(\u001b[38;5;124m\"\u001b[39m\u001b[38;5;124mencoding\u001b[39m\u001b[38;5;124m\"\u001b[39m, \u001b[38;5;28;01mNone\u001b[39;00m),\n\u001b[1;32m   1884\u001b[0m     compression\u001b[38;5;241m=\u001b[39m\u001b[38;5;28mself\u001b[39m\u001b[38;5;241m.\u001b[39moptions\u001b[38;5;241m.\u001b[39mget(\u001b[38;5;124m\"\u001b[39m\u001b[38;5;124mcompression\u001b[39m\u001b[38;5;124m\"\u001b[39m, \u001b[38;5;28;01mNone\u001b[39;00m),\n\u001b[1;32m   1885\u001b[0m     memory_map\u001b[38;5;241m=\u001b[39m\u001b[38;5;28mself\u001b[39m\u001b[38;5;241m.\u001b[39moptions\u001b[38;5;241m.\u001b[39mget(\u001b[38;5;124m\"\u001b[39m\u001b[38;5;124mmemory_map\u001b[39m\u001b[38;5;124m\"\u001b[39m, \u001b[38;5;28;01mFalse\u001b[39;00m),\n\u001b[1;32m   1886\u001b[0m     is_text\u001b[38;5;241m=\u001b[39mis_text,\n\u001b[1;32m   1887\u001b[0m     errors\u001b[38;5;241m=\u001b[39m\u001b[38;5;28mself\u001b[39m\u001b[38;5;241m.\u001b[39moptions\u001b[38;5;241m.\u001b[39mget(\u001b[38;5;124m\"\u001b[39m\u001b[38;5;124mencoding_errors\u001b[39m\u001b[38;5;124m\"\u001b[39m, \u001b[38;5;124m\"\u001b[39m\u001b[38;5;124mstrict\u001b[39m\u001b[38;5;124m\"\u001b[39m),\n\u001b[1;32m   1888\u001b[0m     storage_options\u001b[38;5;241m=\u001b[39m\u001b[38;5;28mself\u001b[39m\u001b[38;5;241m.\u001b[39moptions\u001b[38;5;241m.\u001b[39mget(\u001b[38;5;124m\"\u001b[39m\u001b[38;5;124mstorage_options\u001b[39m\u001b[38;5;124m\"\u001b[39m, \u001b[38;5;28;01mNone\u001b[39;00m),\n\u001b[1;32m   1889\u001b[0m )\n\u001b[1;32m   1890\u001b[0m \u001b[38;5;28;01massert\u001b[39;00m \u001b[38;5;28mself\u001b[39m\u001b[38;5;241m.\u001b[39mhandles \u001b[38;5;129;01mis\u001b[39;00m \u001b[38;5;129;01mnot\u001b[39;00m \u001b[38;5;28;01mNone\u001b[39;00m\n\u001b[1;32m   1891\u001b[0m f \u001b[38;5;241m=\u001b[39m \u001b[38;5;28mself\u001b[39m\u001b[38;5;241m.\u001b[39mhandles\u001b[38;5;241m.\u001b[39mhandle\n",
      "File \u001b[0;32m/opt/homebrew/anaconda3/lib/python3.13/site-packages/pandas/io/common.py:873\u001b[0m, in \u001b[0;36mget_handle\u001b[0;34m(path_or_buf, mode, encoding, compression, memory_map, is_text, errors, storage_options)\u001b[0m\n\u001b[1;32m    868\u001b[0m \u001b[38;5;28;01melif\u001b[39;00m \u001b[38;5;28misinstance\u001b[39m(handle, \u001b[38;5;28mstr\u001b[39m):\n\u001b[1;32m    869\u001b[0m     \u001b[38;5;66;03m# Check whether the filename is to be opened in binary mode.\u001b[39;00m\n\u001b[1;32m    870\u001b[0m     \u001b[38;5;66;03m# Binary mode does not support 'encoding' and 'newline'.\u001b[39;00m\n\u001b[1;32m    871\u001b[0m     \u001b[38;5;28;01mif\u001b[39;00m ioargs\u001b[38;5;241m.\u001b[39mencoding \u001b[38;5;129;01mand\u001b[39;00m \u001b[38;5;124m\"\u001b[39m\u001b[38;5;124mb\u001b[39m\u001b[38;5;124m\"\u001b[39m \u001b[38;5;129;01mnot\u001b[39;00m \u001b[38;5;129;01min\u001b[39;00m ioargs\u001b[38;5;241m.\u001b[39mmode:\n\u001b[1;32m    872\u001b[0m         \u001b[38;5;66;03m# Encoding\u001b[39;00m\n\u001b[0;32m--> 873\u001b[0m         handle \u001b[38;5;241m=\u001b[39m \u001b[38;5;28mopen\u001b[39m(\n\u001b[1;32m    874\u001b[0m             handle,\n\u001b[1;32m    875\u001b[0m             ioargs\u001b[38;5;241m.\u001b[39mmode,\n\u001b[1;32m    876\u001b[0m             encoding\u001b[38;5;241m=\u001b[39mioargs\u001b[38;5;241m.\u001b[39mencoding,\n\u001b[1;32m    877\u001b[0m             errors\u001b[38;5;241m=\u001b[39merrors,\n\u001b[1;32m    878\u001b[0m             newline\u001b[38;5;241m=\u001b[39m\u001b[38;5;124m\"\u001b[39m\u001b[38;5;124m\"\u001b[39m,\n\u001b[1;32m    879\u001b[0m         )\n\u001b[1;32m    880\u001b[0m     \u001b[38;5;28;01melse\u001b[39;00m:\n\u001b[1;32m    881\u001b[0m         \u001b[38;5;66;03m# Binary mode\u001b[39;00m\n\u001b[1;32m    882\u001b[0m         handle \u001b[38;5;241m=\u001b[39m \u001b[38;5;28mopen\u001b[39m(handle, ioargs\u001b[38;5;241m.\u001b[39mmode)\n",
      "\u001b[0;31mFileNotFoundError\u001b[0m: [Errno 2] No such file or directory: 'MachineLearningExample/dacon_1/train_used_car_sample.csv'"
     ]
    }
   ],
   "source": [
    "# 추가 가상 데이터 100개 생성 후 CSV에 병합 저장\n",
    "import random\n",
    "from pathlib import Path\n",
    "\n",
    "# 옵션 및 가중치\n",
    "brand_choices = ['Toyota', 'Ford', 'Honda', 'Chevrolet']\n",
    "brand_weights = [0.4, 0.3, 0.2, 0.1]\n",
    "model_choices = ['Sedan', 'SUV', 'Truck']\n",
    "model_weights = [0.5, 0.3, 0.2]\n",
    "maint_choices = ['없음', '보통', '정기적']\n",
    "maint_weights = [0.4, 0.3, 0.3]\n",
    "\n",
    "brand_base = {'Toyota': 23000, 'Ford': 20000, 'Honda': 19500, 'Chevrolet': 18500}\n",
    "model_adj = {'Sedan': 0, 'SUV': 2000, 'Truck': 1000}\n",
    "maint_adj = {'없음': 0, '보통': 500, '정기적': 1500}\n",
    "\n",
    "random.seed(42)\n",
    "\n",
    "# Train용 100개 생성 (가격 포함)\n",
    "train_rows = []\n",
    "for _ in range(100):\n",
    "    b = random.choices(brand_choices, weights=brand_weights, k=1)[0]\n",
    "    m = random.choices(model_choices, weights=model_weights, k=1)[0]\n",
    "    g = random.choices(maint_choices, weights=maint_weights, k=1)[0]\n",
    "    mileage = round(random.uniform(30000, 90000), 1)\n",
    "    price = brand_base[b] + model_adj[m] + maint_adj[g] - (mileage * 0.08) + random.uniform(-800, 800)\n",
    "    price = round(max(price, 5000.0), 1)\n",
    "    train_rows.append({'Brand': b, 'Model': m, '정비 이력등급': g, '주행거리': mileage, '중고차가격': price})\n",
    "\n",
    "synthetic_train = pd.DataFrame(train_rows)\n",
    "\n",
    "# Test용 100개 생성 (가격 제외)\n",
    "test_rows = []\n",
    "for _ in range(100):\n",
    "    b = random.choices(brand_choices, weights=brand_weights, k=1)[0]\n",
    "    m = random.choices(model_choices, weights=model_weights, k=1)[0]\n",
    "    g = random.choices(maint_choices, weights=maint_weights, k=1)[0]\n",
    "    mileage = round(random.uniform(30000, 90000), 1)\n",
    "    test_rows.append({'Brand': b, 'Model': m, '정비 이력등급': g, '주행거리': mileage})\n",
    "\n",
    "synthetic_test = pd.DataFrame(test_rows)\n",
    "\n",
    "# 기존 CSV 읽고 병합 저장\n",
    "base_dir = Path('MachineLearningExample/dacon_1')\n",
    "train_path = base_dir / 'train_used_car_sample.csv'\n",
    "test_path = base_dir / 'test_used_car_sample.csv'\n",
    "\n",
    "existing_train = pd.read_csv(train_path)\n",
    "existing_test = pd.read_csv(test_path)\n",
    "\n",
    "updated_train = pd.concat([existing_train, synthetic_train], ignore_index=True)\n",
    "updated_test = pd.concat([existing_test, synthetic_test], ignore_index=True)\n",
    "\n",
    "updated_train.to_csv(train_path, index=False)\n",
    "updated_test.to_csv(test_path, index=False)\n",
    "\n",
    "# 노트북 변수도 업데이트\n",
    "train_used_car = updated_train.copy()\n",
    "test_used_car = updated_test.copy()\n",
    "\n",
    "print(f\"train rows: {len(existing_train)} -> {len(updated_train)}\")\n",
    "print(f\"test rows: {len(existing_test)} -> {len(updated_test)}\")"
   ]
  },
  {
   "cell_type": "code",
   "execution_count": 6,
   "id": "0e646233",
   "metadata": {},
   "outputs": [
    {
     "data": {
      "text/html": [
       "<div>\n",
       "<style scoped>\n",
       "    .dataframe tbody tr th:only-of-type {\n",
       "        vertical-align: middle;\n",
       "    }\n",
       "\n",
       "    .dataframe tbody tr th {\n",
       "        vertical-align: top;\n",
       "    }\n",
       "\n",
       "    .dataframe thead th {\n",
       "        text-align: right;\n",
       "    }\n",
       "</style>\n",
       "<table border=\"1\" class=\"dataframe\">\n",
       "  <thead>\n",
       "    <tr style=\"text-align: right;\">\n",
       "      <th></th>\n",
       "      <th>id</th>\n",
       "      <th>age</th>\n",
       "      <th>workclass</th>\n",
       "      <th>fnlwgt</th>\n",
       "      <th>education</th>\n",
       "      <th>education.num</th>\n",
       "      <th>marital.status</th>\n",
       "      <th>occupation</th>\n",
       "      <th>relationship</th>\n",
       "      <th>race</th>\n",
       "      <th>sex</th>\n",
       "      <th>capital.gain</th>\n",
       "      <th>capital.loss</th>\n",
       "      <th>hours.per.week</th>\n",
       "      <th>native.country</th>\n",
       "      <th>target</th>\n",
       "    </tr>\n",
       "  </thead>\n",
       "  <tbody>\n",
       "    <tr>\n",
       "      <th>0</th>\n",
       "      <td>0</td>\n",
       "      <td>32</td>\n",
       "      <td>Private</td>\n",
       "      <td>309513</td>\n",
       "      <td>Assoc-acdm</td>\n",
       "      <td>12</td>\n",
       "      <td>Married-civ-spouse</td>\n",
       "      <td>Craft-repair</td>\n",
       "      <td>Husband</td>\n",
       "      <td>White</td>\n",
       "      <td>Male</td>\n",
       "      <td>0</td>\n",
       "      <td>0</td>\n",
       "      <td>40</td>\n",
       "      <td>United-States</td>\n",
       "      <td>0</td>\n",
       "    </tr>\n",
       "    <tr>\n",
       "      <th>1</th>\n",
       "      <td>1</td>\n",
       "      <td>33</td>\n",
       "      <td>Private</td>\n",
       "      <td>205469</td>\n",
       "      <td>Some-college</td>\n",
       "      <td>10</td>\n",
       "      <td>Married-civ-spouse</td>\n",
       "      <td>Exec-managerial</td>\n",
       "      <td>Husband</td>\n",
       "      <td>White</td>\n",
       "      <td>Male</td>\n",
       "      <td>0</td>\n",
       "      <td>0</td>\n",
       "      <td>40</td>\n",
       "      <td>United-States</td>\n",
       "      <td>1</td>\n",
       "    </tr>\n",
       "    <tr>\n",
       "      <th>2</th>\n",
       "      <td>2</td>\n",
       "      <td>46</td>\n",
       "      <td>Private</td>\n",
       "      <td>149949</td>\n",
       "      <td>Some-college</td>\n",
       "      <td>10</td>\n",
       "      <td>Married-civ-spouse</td>\n",
       "      <td>Craft-repair</td>\n",
       "      <td>Husband</td>\n",
       "      <td>White</td>\n",
       "      <td>Male</td>\n",
       "      <td>0</td>\n",
       "      <td>0</td>\n",
       "      <td>40</td>\n",
       "      <td>United-States</td>\n",
       "      <td>0</td>\n",
       "    </tr>\n",
       "    <tr>\n",
       "      <th>3</th>\n",
       "      <td>3</td>\n",
       "      <td>23</td>\n",
       "      <td>Private</td>\n",
       "      <td>193090</td>\n",
       "      <td>Bachelors</td>\n",
       "      <td>13</td>\n",
       "      <td>Never-married</td>\n",
       "      <td>Adm-clerical</td>\n",
       "      <td>Own-child</td>\n",
       "      <td>White</td>\n",
       "      <td>Female</td>\n",
       "      <td>0</td>\n",
       "      <td>0</td>\n",
       "      <td>30</td>\n",
       "      <td>United-States</td>\n",
       "      <td>0</td>\n",
       "    </tr>\n",
       "    <tr>\n",
       "      <th>4</th>\n",
       "      <td>4</td>\n",
       "      <td>55</td>\n",
       "      <td>Private</td>\n",
       "      <td>60193</td>\n",
       "      <td>HS-grad</td>\n",
       "      <td>9</td>\n",
       "      <td>Divorced</td>\n",
       "      <td>Adm-clerical</td>\n",
       "      <td>Not-in-family</td>\n",
       "      <td>White</td>\n",
       "      <td>Female</td>\n",
       "      <td>0</td>\n",
       "      <td>0</td>\n",
       "      <td>40</td>\n",
       "      <td>United-States</td>\n",
       "      <td>0</td>\n",
       "    </tr>\n",
       "  </tbody>\n",
       "</table>\n",
       "</div>"
      ],
      "text/plain": [
       "   id  age workclass  fnlwgt     education  education.num      marital.status  \\\n",
       "0   0   32   Private  309513    Assoc-acdm             12  Married-civ-spouse   \n",
       "1   1   33   Private  205469  Some-college             10  Married-civ-spouse   \n",
       "2   2   46   Private  149949  Some-college             10  Married-civ-spouse   \n",
       "3   3   23   Private  193090     Bachelors             13       Never-married   \n",
       "4   4   55   Private   60193       HS-grad              9            Divorced   \n",
       "\n",
       "        occupation   relationship   race     sex  capital.gain  capital.loss  \\\n",
       "0     Craft-repair        Husband  White    Male             0             0   \n",
       "1  Exec-managerial        Husband  White    Male             0             0   \n",
       "2     Craft-repair        Husband  White    Male             0             0   \n",
       "3     Adm-clerical      Own-child  White  Female             0             0   \n",
       "4     Adm-clerical  Not-in-family  White  Female             0             0   \n",
       "\n",
       "   hours.per.week native.country  target  \n",
       "0              40  United-States       0  \n",
       "1              40  United-States       1  \n",
       "2              40  United-States       0  \n",
       "3              30  United-States       0  \n",
       "4              40  United-States       0  "
      ]
     },
     "execution_count": 6,
     "metadata": {},
     "output_type": "execute_result"
    }
   ],
   "source": [
    "from sklearn.ensemble import RandomForestClassifier\n",
    "import pandas as pd\n",
    "# 랜덤 포레스트 분류 모델 초기화\n",
    "model = RandomForestClassifier()\n",
    "\n",
    "train_income = pd.read_csv('humandata/train.csv')\n",
    "\n",
    "# 타겟 변수와 특성 분리\n",
    "train_income.head(5)\n"
   ]
  },
  {
   "cell_type": "code",
   "execution_count": 7,
   "id": "4750a8f4",
   "metadata": {},
   "outputs": [
    {
     "name": "stdout",
     "output_type": "stream",
     "text": [
      "<class 'pandas.core.frame.DataFrame'>\n",
      "RangeIndex: 17480 entries, 0 to 17479\n",
      "Data columns (total 16 columns):\n",
      " #   Column          Non-Null Count  Dtype \n",
      "---  ------          --------------  ----- \n",
      " 0   id              17480 non-null  int64 \n",
      " 1   age             17480 non-null  int64 \n",
      " 2   workclass       15644 non-null  object\n",
      " 3   fnlwgt          17480 non-null  int64 \n",
      " 4   education       17480 non-null  object\n",
      " 5   education.num   17480 non-null  int64 \n",
      " 6   marital.status  17480 non-null  object\n",
      " 7   occupation      15637 non-null  object\n",
      " 8   relationship    17480 non-null  object\n",
      " 9   race            17480 non-null  object\n",
      " 10  sex             17480 non-null  object\n",
      " 11  capital.gain    17480 non-null  int64 \n",
      " 12  capital.loss    17480 non-null  int64 \n",
      " 13  hours.per.week  17480 non-null  int64 \n",
      " 14  native.country  16897 non-null  object\n",
      " 15  target          17480 non-null  int64 \n",
      "dtypes: int64(8), object(8)\n",
      "memory usage: 2.1+ MB\n"
     ]
    },
    {
     "data": {
      "text/plain": [
       "None"
      ]
     },
     "metadata": {},
     "output_type": "display_data"
    }
   ],
   "source": [
    "display(train_income.info())"
   ]
  },
  {
   "cell_type": "code",
   "execution_count": 8,
   "id": "f5d5a8ad",
   "metadata": {},
   "outputs": [
    {
     "data": {
      "text/plain": [
       "array(['Craft-repair', 'Exec-managerial', 'Adm-clerical',\n",
       "       'Prof-specialty', 'Machine-op-inspct', 'Other-service', 'Sales',\n",
       "       'Farming-fishing', 'Transport-moving', 'Handlers-cleaners',\n",
       "       'Tech-support', 'Protective-serv', 'Priv-house-serv',\n",
       "       'Armed-Forces', nan], dtype=object)"
      ]
     },
     "metadata": {},
     "output_type": "display_data"
    },
    {
     "data": {
      "text/plain": [
       "array(['White', 'Black', 'Asian-Pac-Islander', 'Amer-Indian-Eskimo',\n",
       "       'Other'], dtype=object)"
      ]
     },
     "metadata": {},
     "output_type": "display_data"
    },
    {
     "data": {
      "text/plain": [
       "array(['Assoc-acdm', 'Some-college', 'Bachelors', 'HS-grad',\n",
       "       'Prof-school', '10th', '11th', 'Masters', '7th-8th', '1st-4th',\n",
       "       'Assoc-voc', '5th-6th', 'Doctorate', '9th', '12th', 'Preschool'],\n",
       "      dtype=object)"
      ]
     },
     "metadata": {},
     "output_type": "display_data"
    }
   ],
   "source": [
    "display(train_income['occupation'].unique())\n",
    "display(train_income['race'].unique())\n",
    "display(train_income['education'].unique())"
   ]
  },
  {
   "cell_type": "markdown",
   "id": "2d7407f1",
   "metadata": {},
   "source": [
    "# Ordinal(순서형) 범주형 변수 인코딩\n",
    "\n",
    "## label encoding 의 이해 및 구현\n",
    "## label encoding 의 한계와 적용시 주의점 이해 \n",
    "## Direct Mapping 통한 순서형 변수 인코딩 \n",
    "## Ordinal encoding 통한 순서형 변수 인코딩 방법 익히기 \n"
   ]
  },
  {
   "cell_type": "markdown",
   "id": "74e271b4",
   "metadata": {},
   "source": []
  },
  {
   "cell_type": "code",
   "execution_count": 9,
   "id": "7a780da2",
   "metadata": {},
   "outputs": [],
   "source": [
    "# label encoding \n",
    "\n",
    "import pandas as pd"
   ]
  },
  {
   "cell_type": "markdown",
   "id": "7f86dc6b",
   "metadata": {},
   "source": [
    "# label encoding \n",
    "\n",
    "## scikit-learn library \n",
    "\n",
    "- 각 카테고리(범주)에 고유한 정수를 할당 \n",
    "- 기계 학습 모델이 이해할 수 있는 형태로 데이터를 변환 "
   ]
  },
  {
   "cell_type": "code",
   "execution_count": 11,
   "id": "1fca4160",
   "metadata": {},
   "outputs": [
    {
     "data": {
      "text/html": [
       "<div>\n",
       "<style scoped>\n",
       "    .dataframe tbody tr th:only-of-type {\n",
       "        vertical-align: middle;\n",
       "    }\n",
       "\n",
       "    .dataframe tbody tr th {\n",
       "        vertical-align: top;\n",
       "    }\n",
       "\n",
       "    .dataframe thead th {\n",
       "        text-align: right;\n",
       "    }\n",
       "</style>\n",
       "<table border=\"1\" class=\"dataframe\">\n",
       "  <thead>\n",
       "    <tr style=\"text-align: right;\">\n",
       "      <th></th>\n",
       "      <th>Brand</th>\n",
       "      <th>Model</th>\n",
       "      <th>정비 이력등급</th>\n",
       "      <th>주행거리</th>\n",
       "      <th>중고차가격</th>\n",
       "    </tr>\n",
       "  </thead>\n",
       "  <tbody>\n",
       "    <tr>\n",
       "      <th>0</th>\n",
       "      <td>0</td>\n",
       "      <td>1</td>\n",
       "      <td>1</td>\n",
       "      <td>44676.6</td>\n",
       "      <td>20052.0</td>\n",
       "    </tr>\n",
       "    <tr>\n",
       "      <th>1</th>\n",
       "      <td>1</td>\n",
       "      <td>1</td>\n",
       "      <td>0</td>\n",
       "      <td>51638.2</td>\n",
       "      <td>16511.6</td>\n",
       "    </tr>\n",
       "    <tr>\n",
       "      <th>2</th>\n",
       "      <td>0</td>\n",
       "      <td>0</td>\n",
       "      <td>1</td>\n",
       "      <td>57685.7</td>\n",
       "      <td>13936.9</td>\n",
       "    </tr>\n",
       "    <tr>\n",
       "      <th>3</th>\n",
       "      <td>2</td>\n",
       "      <td>1</td>\n",
       "      <td>2</td>\n",
       "      <td>45822.0</td>\n",
       "      <td>25494.9</td>\n",
       "    </tr>\n",
       "    <tr>\n",
       "      <th>4</th>\n",
       "      <td>2</td>\n",
       "      <td>1</td>\n",
       "      <td>1</td>\n",
       "      <td>38865.6</td>\n",
       "      <td>21297.9</td>\n",
       "    </tr>\n",
       "  </tbody>\n",
       "</table>\n",
       "</div>"
      ],
      "text/plain": [
       "   Brand  Model  정비 이력등급     주행거리    중고차가격\n",
       "0      0      1        1  44676.6  20052.0\n",
       "1      1      1        0  51638.2  16511.6\n",
       "2      0      0        1  57685.7  13936.9\n",
       "3      2      1        2  45822.0  25494.9\n",
       "4      2      1        1  38865.6  21297.9"
      ]
     },
     "metadata": {},
     "output_type": "display_data"
    },
    {
     "data": {
      "text/plain": [
       "'Brand :'"
      ]
     },
     "metadata": {},
     "output_type": "display_data"
    },
    {
     "data": {
      "text/plain": [
       "'Ford (0)'"
      ]
     },
     "metadata": {},
     "output_type": "display_data"
    },
    {
     "data": {
      "text/plain": [
       "'Honda (1)'"
      ]
     },
     "metadata": {},
     "output_type": "display_data"
    },
    {
     "data": {
      "text/plain": [
       "'Toyota (2)'"
      ]
     },
     "metadata": {},
     "output_type": "display_data"
    },
    {
     "data": {
      "text/plain": [
       "'Model :'"
      ]
     },
     "metadata": {},
     "output_type": "display_data"
    },
    {
     "data": {
      "text/plain": [
       "'SUV (0)'"
      ]
     },
     "metadata": {},
     "output_type": "display_data"
    },
    {
     "data": {
      "text/plain": [
       "'Sedan (1)'"
      ]
     },
     "metadata": {},
     "output_type": "display_data"
    },
    {
     "data": {
      "text/plain": [
       "'Truck (2)'"
      ]
     },
     "metadata": {},
     "output_type": "display_data"
    },
    {
     "data": {
      "text/plain": [
       "'정비 이력등급 :'"
      ]
     },
     "metadata": {},
     "output_type": "display_data"
    },
    {
     "data": {
      "text/plain": [
       "'보통 (0)'"
      ]
     },
     "metadata": {},
     "output_type": "display_data"
    },
    {
     "data": {
      "text/plain": [
       "'없음 (1)'"
      ]
     },
     "metadata": {},
     "output_type": "display_data"
    },
    {
     "data": {
      "text/plain": [
       "'정기적 (2)'"
      ]
     },
     "metadata": {},
     "output_type": "display_data"
    }
   ],
   "source": [
    "from sklearn.preprocessing import LabelEncoder\n",
    "import numpy as np\n",
    "import pandas as pd \n",
    "\n",
    "train_used_car = pd.read_csv('train_used_car_sample.csv')\n",
    "test_used_car = pd.read_csv('test_used_car_sample.csv')\n",
    "\n",
    "categorical_var = ['Brand',  'Model', '정비 이력등급']\n",
    "\n",
    "label_encoders = {}\n",
    "\n",
    "for col in categorical_var:\n",
    "    le_train = LabelEncoder()\n",
    "\n",
    "    train_used_car[col] = le_train.fit_transform(train_used_car[col])\n",
    "    label_encoders[col] = le_train\n",
    "    \n",
    "display(train_used_car.head())\n",
    "\n",
    "# 인코딩을 어떻게 수행했는지 확인\n",
    "for col in categorical_var:\n",
    "    display(f\"{col} :\")\n",
    "    for i in range(len(label_encoders[col].classes_)):\n",
    "        display(f\"{label_encoders[col].classes_[i]} ({i})\")"
   ]
  },
  {
   "cell_type": "code",
   "execution_count": 14,
   "id": "c821057c",
   "metadata": {},
   "outputs": [
    {
     "data": {
      "text/html": [
       "<div>\n",
       "<style scoped>\n",
       "    .dataframe tbody tr th:only-of-type {\n",
       "        vertical-align: middle;\n",
       "    }\n",
       "\n",
       "    .dataframe tbody tr th {\n",
       "        vertical-align: top;\n",
       "    }\n",
       "\n",
       "    .dataframe thead th {\n",
       "        text-align: right;\n",
       "    }\n",
       "</style>\n",
       "<table border=\"1\" class=\"dataframe\">\n",
       "  <thead>\n",
       "    <tr style=\"text-align: right;\">\n",
       "      <th></th>\n",
       "      <th>Brand</th>\n",
       "      <th>Model</th>\n",
       "      <th>정비 이력등급</th>\n",
       "      <th>주행거리</th>\n",
       "      <th>중고차가격</th>\n",
       "    </tr>\n",
       "  </thead>\n",
       "  <tbody>\n",
       "    <tr>\n",
       "      <th>0</th>\n",
       "      <td>Ford</td>\n",
       "      <td>Sedan</td>\n",
       "      <td>없음</td>\n",
       "      <td>44676.6</td>\n",
       "      <td>20052.0</td>\n",
       "    </tr>\n",
       "    <tr>\n",
       "      <th>1</th>\n",
       "      <td>Honda</td>\n",
       "      <td>Sedan</td>\n",
       "      <td>보통</td>\n",
       "      <td>51638.2</td>\n",
       "      <td>16511.6</td>\n",
       "    </tr>\n",
       "    <tr>\n",
       "      <th>2</th>\n",
       "      <td>Ford</td>\n",
       "      <td>SUV</td>\n",
       "      <td>없음</td>\n",
       "      <td>57685.7</td>\n",
       "      <td>13936.9</td>\n",
       "    </tr>\n",
       "    <tr>\n",
       "      <th>3</th>\n",
       "      <td>Toyota</td>\n",
       "      <td>Sedan</td>\n",
       "      <td>정기적</td>\n",
       "      <td>45822.0</td>\n",
       "      <td>25494.9</td>\n",
       "    </tr>\n",
       "    <tr>\n",
       "      <th>4</th>\n",
       "      <td>Toyota</td>\n",
       "      <td>Sedan</td>\n",
       "      <td>없음</td>\n",
       "      <td>38865.6</td>\n",
       "      <td>21297.9</td>\n",
       "    </tr>\n",
       "  </tbody>\n",
       "</table>\n",
       "</div>"
      ],
      "text/plain": [
       "    Brand  Model 정비 이력등급     주행거리    중고차가격\n",
       "0    Ford  Sedan      없음  44676.6  20052.0\n",
       "1   Honda  Sedan      보통  51638.2  16511.6\n",
       "2    Ford    SUV      없음  57685.7  13936.9\n",
       "3  Toyota  Sedan     정기적  45822.0  25494.9\n",
       "4  Toyota  Sedan      없음  38865.6  21297.9"
      ]
     },
     "metadata": {},
     "output_type": "display_data"
    },
    {
     "data": {
      "text/html": [
       "<div>\n",
       "<style scoped>\n",
       "    .dataframe tbody tr th:only-of-type {\n",
       "        vertical-align: middle;\n",
       "    }\n",
       "\n",
       "    .dataframe tbody tr th {\n",
       "        vertical-align: top;\n",
       "    }\n",
       "\n",
       "    .dataframe thead th {\n",
       "        text-align: right;\n",
       "    }\n",
       "</style>\n",
       "<table border=\"1\" class=\"dataframe\">\n",
       "  <thead>\n",
       "    <tr style=\"text-align: right;\">\n",
       "      <th></th>\n",
       "      <th>Brand</th>\n",
       "      <th>Model</th>\n",
       "      <th>정비 이력등급</th>\n",
       "      <th>주행거리</th>\n",
       "    </tr>\n",
       "  </thead>\n",
       "  <tbody>\n",
       "    <tr>\n",
       "      <th>0</th>\n",
       "      <td>Toyota</td>\n",
       "      <td>SUV</td>\n",
       "      <td>보통</td>\n",
       "      <td>45000</td>\n",
       "    </tr>\n",
       "    <tr>\n",
       "      <th>1</th>\n",
       "      <td>Ford</td>\n",
       "      <td>Truck</td>\n",
       "      <td>없음</td>\n",
       "      <td>30000</td>\n",
       "    </tr>\n",
       "    <tr>\n",
       "      <th>2</th>\n",
       "      <td>Honda</td>\n",
       "      <td>Sedan</td>\n",
       "      <td>정기적</td>\n",
       "      <td>40000</td>\n",
       "    </tr>\n",
       "    <tr>\n",
       "      <th>3</th>\n",
       "      <td>Chevrolet</td>\n",
       "      <td>Sedan</td>\n",
       "      <td>정기적</td>\n",
       "      <td>50000</td>\n",
       "    </tr>\n",
       "    <tr>\n",
       "      <th>4</th>\n",
       "      <td>Toyota</td>\n",
       "      <td>Truck</td>\n",
       "      <td>없음</td>\n",
       "      <td>55000</td>\n",
       "    </tr>\n",
       "  </tbody>\n",
       "</table>\n",
       "</div>"
      ],
      "text/plain": [
       "       Brand  Model 정비 이력등급   주행거리\n",
       "0     Toyota    SUV      보통  45000\n",
       "1       Ford  Truck      없음  30000\n",
       "2      Honda  Sedan     정기적  40000\n",
       "3  Chevrolet  Sedan     정기적  50000\n",
       "4     Toyota  Truck      없음  55000"
      ]
     },
     "metadata": {},
     "output_type": "display_data"
    }
   ],
   "source": [
    "# 예제 used car 데이터프레임 생성 (train/test)\n",
    "import pandas as pd\n",
    "\n",
    "train_used_car = pd.DataFrame({\n",
    "    'Brand': ['Ford','Honda','Ford','Toyota','Toyota','Toyota','Honda','Toyota','Toyota','Ford'],\n",
    "    'Model': ['Sedan','Sedan','SUV','Sedan','Sedan','Sedan','Truck','SUV','Sedan','Sedan'],\n",
    "    '정비 이력등급': ['없음','보통','없음','정기적','없음','정기적','없음','보통','없음','정기적'],\n",
    "    '주행거리': [44676.6,51638.2,57685.7,45822.0,38865.6,56178.5,58437.6,39963.5,61611.4,73547.4],\n",
    "    '중고차가격': [20052.0,16511.6,13936.9,25494.9,21297.9,22708.3,15314.2,23178.7,13233.2,11806.2]\n",
    "})\n",
    "\n",
    "test_used_car = pd.DataFrame({\n",
    "    'Brand': ['Toyota','Ford','Honda','Chevrolet','Toyota'],\n",
    "    'Model': ['SUV','Truck','Sedan','Sedan','Truck'],\n",
    "    '정비 이력등급': ['보통','없음','정기적','정기적','없음'],\n",
    "    '주행거리': [45000,30000,40000,50000,55000]\n",
    "})\n",
    "\n",
    "# 미리 확인\n",
    "display(train_used_car.head())\n",
    "display(test_used_car)\n"
   ]
  },
  {
   "cell_type": "code",
   "execution_count": 15,
   "id": "55c6f8df",
   "metadata": {},
   "outputs": [
    {
     "name": "stdout",
     "output_type": "stream",
     "text": [
      "label_encoders Brand Error: y contains previously unseen labels: 'Chevrolet'\n"
     ]
    },
    {
     "data": {
      "text/html": [
       "<div>\n",
       "<style scoped>\n",
       "    .dataframe tbody tr th:only-of-type {\n",
       "        vertical-align: middle;\n",
       "    }\n",
       "\n",
       "    .dataframe tbody tr th {\n",
       "        vertical-align: top;\n",
       "    }\n",
       "\n",
       "    .dataframe thead th {\n",
       "        text-align: right;\n",
       "    }\n",
       "</style>\n",
       "<table border=\"1\" class=\"dataframe\">\n",
       "  <thead>\n",
       "    <tr style=\"text-align: right;\">\n",
       "      <th></th>\n",
       "      <th>Brand</th>\n",
       "      <th>Model</th>\n",
       "      <th>정비 이력등급</th>\n",
       "      <th>주행거리</th>\n",
       "    </tr>\n",
       "  </thead>\n",
       "  <tbody>\n",
       "    <tr>\n",
       "      <th>0</th>\n",
       "      <td>Toyota</td>\n",
       "      <td>0</td>\n",
       "      <td>0</td>\n",
       "      <td>45000</td>\n",
       "    </tr>\n",
       "    <tr>\n",
       "      <th>1</th>\n",
       "      <td>Ford</td>\n",
       "      <td>2</td>\n",
       "      <td>1</td>\n",
       "      <td>30000</td>\n",
       "    </tr>\n",
       "    <tr>\n",
       "      <th>2</th>\n",
       "      <td>Honda</td>\n",
       "      <td>1</td>\n",
       "      <td>2</td>\n",
       "      <td>40000</td>\n",
       "    </tr>\n",
       "    <tr>\n",
       "      <th>3</th>\n",
       "      <td>Chevrolet</td>\n",
       "      <td>1</td>\n",
       "      <td>2</td>\n",
       "      <td>50000</td>\n",
       "    </tr>\n",
       "    <tr>\n",
       "      <th>4</th>\n",
       "      <td>Toyota</td>\n",
       "      <td>2</td>\n",
       "      <td>1</td>\n",
       "      <td>55000</td>\n",
       "    </tr>\n",
       "  </tbody>\n",
       "</table>\n",
       "</div>"
      ],
      "text/plain": [
       "       Brand  Model  정비 이력등급   주행거리\n",
       "0     Toyota      0        0  45000\n",
       "1       Ford      2        1  30000\n",
       "2      Honda      1        2  40000\n",
       "3  Chevrolet      1        2  50000\n",
       "4     Toyota      2        1  55000"
      ]
     },
     "metadata": {},
     "output_type": "display_data"
    },
    {
     "data": {
      "text/plain": [
       "Brand      object\n",
       "Model       int64\n",
       "정비 이력등급     int64\n",
       "dtype: object"
      ]
     },
     "metadata": {},
     "output_type": "display_data"
    }
   ],
   "source": [
    "test_ex1 = test_used_car.copy()\n",
    "\n",
    "for col in categorical_var:\n",
    "    \n",
    "    try :\n",
    "        test_ex1[col] = label_encoders[col].transform(test_ex1[col])\n",
    "    except Exception as e:\n",
    "         print(f\"label_encoders {col} Error: {e}\")\n",
    "        \n",
    "    \n",
    "display(test_ex1.head())\n",
    "display(test_ex1[categorical_var].dtypes)"
   ]
  },
  {
   "cell_type": "code",
   "execution_count": 16,
   "id": "7d6623b9",
   "metadata": {},
   "outputs": [
    {
     "data": {
      "text/html": [
       "<div>\n",
       "<style scoped>\n",
       "    .dataframe tbody tr th:only-of-type {\n",
       "        vertical-align: middle;\n",
       "    }\n",
       "\n",
       "    .dataframe tbody tr th {\n",
       "        vertical-align: top;\n",
       "    }\n",
       "\n",
       "    .dataframe thead th {\n",
       "        text-align: right;\n",
       "    }\n",
       "</style>\n",
       "<table border=\"1\" class=\"dataframe\">\n",
       "  <thead>\n",
       "    <tr style=\"text-align: right;\">\n",
       "      <th></th>\n",
       "      <th>Brand</th>\n",
       "      <th>Model</th>\n",
       "      <th>정비 이력등급</th>\n",
       "      <th>주행거리</th>\n",
       "    </tr>\n",
       "  </thead>\n",
       "  <tbody>\n",
       "    <tr>\n",
       "      <th>0</th>\n",
       "      <td>2</td>\n",
       "      <td>0</td>\n",
       "      <td>0</td>\n",
       "      <td>45000</td>\n",
       "    </tr>\n",
       "    <tr>\n",
       "      <th>1</th>\n",
       "      <td>0</td>\n",
       "      <td>2</td>\n",
       "      <td>1</td>\n",
       "      <td>30000</td>\n",
       "    </tr>\n",
       "    <tr>\n",
       "      <th>2</th>\n",
       "      <td>1</td>\n",
       "      <td>1</td>\n",
       "      <td>2</td>\n",
       "      <td>40000</td>\n",
       "    </tr>\n",
       "    <tr>\n",
       "      <th>3</th>\n",
       "      <td>3</td>\n",
       "      <td>1</td>\n",
       "      <td>2</td>\n",
       "      <td>50000</td>\n",
       "    </tr>\n",
       "    <tr>\n",
       "      <th>4</th>\n",
       "      <td>2</td>\n",
       "      <td>2</td>\n",
       "      <td>1</td>\n",
       "      <td>55000</td>\n",
       "    </tr>\n",
       "  </tbody>\n",
       "</table>\n",
       "</div>"
      ],
      "text/plain": [
       "   Brand  Model  정비 이력등급   주행거리\n",
       "0      2      0        0  45000\n",
       "1      0      2        1  30000\n",
       "2      1      1        2  40000\n",
       "3      3      1        2  50000\n",
       "4      2      2        1  55000"
      ]
     },
     "metadata": {},
     "output_type": "display_data"
    }
   ],
   "source": [
    "test_ex2 = test_used_car.copy()\n",
    "\n",
    "# train_used_car 데이터셋의 라벨 인코더 클래스에 '기타' 범주를 다시 추가\n",
    "for le in label_encoders.values():\n",
    "    le.classes_ = np.append(le.classes_, 'Other')\n",
    "\n",
    "# 새로운 범주값을 '기타'로 매핑하고 라벨 인코더를 적용하는 과정을 하나의 루프로 합치기\n",
    "for col in categorical_var:\n",
    "    # 새로운 값들을 '기타'로 매핑\n",
    "    test_ex2[col] = test_ex2[col].apply(lambda x: x if x in label_encoders[col].classes_ else 'Other')\n",
    "    # 라벨 인코더 적용\n",
    "    test_ex2[col] = label_encoders[col].transform(test_ex2[col])\n",
    "\n",
    "# 변환된 test_used_car 데이터셋 보여주기\n",
    "display(test_ex2.head())\n"
   ]
  },
  {
   "cell_type": "markdown",
   "id": "ea9017e7",
   "metadata": {},
   "source": [
    "# label encoding 의 경우 명목형 변수에 적용 될 때 문제가 있음\n",
    "\n",
    "- 고유 범주 값에 순서나 등ㅇ급의 의미가 없음. -> 이들에게 임의의 숫자를 할당하는 라벨 인코딩은 실제로 데이터에 없는 정보, 즉, 숫자 간의 순서나 중요도를 부여하는문제를 일으킬 수 있음. "
   ]
  },
  {
   "cell_type": "markdown",
   "id": "bfdfe4e9",
   "metadata": {},
   "source": [
    "- head 정보를 기반으로 `unique()` 정보를 확인 한다. \n",
    "\n",
    "```python\n",
    "train_income = pd.read_csv(\"train_income_simple.csv\")\n",
    "\n",
    "display(train_income.head())\n",
    "\n",
    "display(f\"'occupation' 컬럼의 고유값 : {train_income['occupation'].unique()}\")\n",
    "display(f\"'race' 컬럼의 고유값 : {train_income['race'].unique()}\")\n",
    "display(f\"'education' 컬럼의 고유값 : {train_income['education'].unique()}\")\n",
    "```"
   ]
  },
  {
   "cell_type": "markdown",
   "id": "31c6d7c6",
   "metadata": {},
   "source": [
    "- LabelEncoder\n",
    " \n",
    "```python\n",
    "from sklearn.preprocessing import LabelEncoder\n",
    "\n",
    "train_ex1 = train_income.copy()\n",
    "\n",
    "le_train = LabelEncoder()\n",
    "train_ex1['education'] = le_train.fit_transform(train_ex1['education'])\n",
    "\n",
    "# education column 변화 학인\n",
    "display(train_ex1.head())\n",
    "display(train_ex1['education'].dtypes)\n",
    "# education colum 고유값 확인\n",
    "display(f\"'education' 컬럼의 고유값 : {train_ex1['education'].unique()}\")\n",
    "\n",
    "```"
   ]
  },
  {
   "cell_type": "markdown",
   "id": "5831696a",
   "metadata": {},
   "source": [
    "# Test set data에 적용하기 \n",
    "\n",
    "```python\n",
    "test_income = pd.read_csv(\"test_income_simple.csv\")\n",
    "\n",
    "test_ex1 = test_income.copy()\n",
    " \n",
    "new_cat = set(test_ex1['education'].unique()) - set(le_train.classes_) \n",
    "display(f\"new categery that not in le_train.classes_ : {new_cat}\")\n",
    "\n",
    "test_ex1['education'] =  le_train.transform(test_ex1['education'])\n",
    "display(test_ex1)\n",
    "```\n",
    "\n"
   ]
  },
  {
   "cell_type": "code",
   "execution_count": 17,
   "id": "50223546",
   "metadata": {},
   "outputs": [
    {
     "name": "stderr",
     "output_type": "stream",
     "text": [
      "/var/folders/ct/csn7gw6j4lzg64vvct28bvj00000gn/T/ipykernel_92802/3268682417.py:19: FutureWarning: Downcasting behavior in `replace` is deprecated and will be removed in a future version. To retain the old behavior, explicitly call `result.infer_objects(copy=False)`. To opt-in to the future behavior, set `pd.set_option('future.no_silent_downcasting', True)`\n",
      "  train_ex2['education'] = train_ex2['education'].replace(education_map)\n"
     ]
    },
    {
     "data": {
      "text/html": [
       "<div>\n",
       "<style scoped>\n",
       "    .dataframe tbody tr th:only-of-type {\n",
       "        vertical-align: middle;\n",
       "    }\n",
       "\n",
       "    .dataframe tbody tr th {\n",
       "        vertical-align: top;\n",
       "    }\n",
       "\n",
       "    .dataframe thead th {\n",
       "        text-align: right;\n",
       "    }\n",
       "</style>\n",
       "<table border=\"1\" class=\"dataframe\">\n",
       "  <thead>\n",
       "    <tr style=\"text-align: right;\">\n",
       "      <th></th>\n",
       "      <th>id</th>\n",
       "      <th>age</th>\n",
       "      <th>workclass</th>\n",
       "      <th>fnlwgt</th>\n",
       "      <th>education</th>\n",
       "      <th>education.num</th>\n",
       "      <th>marital.status</th>\n",
       "      <th>occupation</th>\n",
       "      <th>relationship</th>\n",
       "      <th>race</th>\n",
       "      <th>sex</th>\n",
       "      <th>capital.gain</th>\n",
       "      <th>capital.loss</th>\n",
       "      <th>hours.per.week</th>\n",
       "      <th>native.country</th>\n",
       "      <th>target</th>\n",
       "    </tr>\n",
       "  </thead>\n",
       "  <tbody>\n",
       "    <tr>\n",
       "      <th>0</th>\n",
       "      <td>0</td>\n",
       "      <td>32</td>\n",
       "      <td>Private</td>\n",
       "      <td>309513</td>\n",
       "      <td>11</td>\n",
       "      <td>12</td>\n",
       "      <td>Married-civ-spouse</td>\n",
       "      <td>Craft-repair</td>\n",
       "      <td>Husband</td>\n",
       "      <td>White</td>\n",
       "      <td>Male</td>\n",
       "      <td>0</td>\n",
       "      <td>0</td>\n",
       "      <td>40</td>\n",
       "      <td>United-States</td>\n",
       "      <td>0</td>\n",
       "    </tr>\n",
       "    <tr>\n",
       "      <th>1</th>\n",
       "      <td>1</td>\n",
       "      <td>33</td>\n",
       "      <td>Private</td>\n",
       "      <td>205469</td>\n",
       "      <td>9</td>\n",
       "      <td>10</td>\n",
       "      <td>Married-civ-spouse</td>\n",
       "      <td>Exec-managerial</td>\n",
       "      <td>Husband</td>\n",
       "      <td>White</td>\n",
       "      <td>Male</td>\n",
       "      <td>0</td>\n",
       "      <td>0</td>\n",
       "      <td>40</td>\n",
       "      <td>United-States</td>\n",
       "      <td>1</td>\n",
       "    </tr>\n",
       "    <tr>\n",
       "      <th>2</th>\n",
       "      <td>2</td>\n",
       "      <td>46</td>\n",
       "      <td>Private</td>\n",
       "      <td>149949</td>\n",
       "      <td>9</td>\n",
       "      <td>10</td>\n",
       "      <td>Married-civ-spouse</td>\n",
       "      <td>Craft-repair</td>\n",
       "      <td>Husband</td>\n",
       "      <td>White</td>\n",
       "      <td>Male</td>\n",
       "      <td>0</td>\n",
       "      <td>0</td>\n",
       "      <td>40</td>\n",
       "      <td>United-States</td>\n",
       "      <td>0</td>\n",
       "    </tr>\n",
       "    <tr>\n",
       "      <th>3</th>\n",
       "      <td>3</td>\n",
       "      <td>23</td>\n",
       "      <td>Private</td>\n",
       "      <td>193090</td>\n",
       "      <td>12</td>\n",
       "      <td>13</td>\n",
       "      <td>Never-married</td>\n",
       "      <td>Adm-clerical</td>\n",
       "      <td>Own-child</td>\n",
       "      <td>White</td>\n",
       "      <td>Female</td>\n",
       "      <td>0</td>\n",
       "      <td>0</td>\n",
       "      <td>30</td>\n",
       "      <td>United-States</td>\n",
       "      <td>0</td>\n",
       "    </tr>\n",
       "    <tr>\n",
       "      <th>4</th>\n",
       "      <td>4</td>\n",
       "      <td>55</td>\n",
       "      <td>Private</td>\n",
       "      <td>60193</td>\n",
       "      <td>8</td>\n",
       "      <td>9</td>\n",
       "      <td>Divorced</td>\n",
       "      <td>Adm-clerical</td>\n",
       "      <td>Not-in-family</td>\n",
       "      <td>White</td>\n",
       "      <td>Female</td>\n",
       "      <td>0</td>\n",
       "      <td>0</td>\n",
       "      <td>40</td>\n",
       "      <td>United-States</td>\n",
       "      <td>0</td>\n",
       "    </tr>\n",
       "  </tbody>\n",
       "</table>\n",
       "</div>"
      ],
      "text/plain": [
       "   id  age workclass  fnlwgt  education  education.num      marital.status  \\\n",
       "0   0   32   Private  309513         11             12  Married-civ-spouse   \n",
       "1   1   33   Private  205469          9             10  Married-civ-spouse   \n",
       "2   2   46   Private  149949          9             10  Married-civ-spouse   \n",
       "3   3   23   Private  193090         12             13       Never-married   \n",
       "4   4   55   Private   60193          8              9            Divorced   \n",
       "\n",
       "        occupation   relationship   race     sex  capital.gain  capital.loss  \\\n",
       "0     Craft-repair        Husband  White    Male             0             0   \n",
       "1  Exec-managerial        Husband  White    Male             0             0   \n",
       "2     Craft-repair        Husband  White    Male             0             0   \n",
       "3     Adm-clerical      Own-child  White  Female             0             0   \n",
       "4     Adm-clerical  Not-in-family  White  Female             0             0   \n",
       "\n",
       "   hours.per.week native.country  target  \n",
       "0              40  United-States       0  \n",
       "1              40  United-States       1  \n",
       "2              40  United-States       0  \n",
       "3              30  United-States       0  \n",
       "4              40  United-States       0  "
      ]
     },
     "metadata": {},
     "output_type": "display_data"
    },
    {
     "data": {
      "text/plain": [
       "dtype('int64')"
      ]
     },
     "metadata": {},
     "output_type": "display_data"
    },
    {
     "data": {
      "text/plain": [
       "array([11,  9, 12,  8, 14,  5,  6, 13,  3,  1, 10,  2, 15,  4,  7,  0])"
      ]
     },
     "metadata": {},
     "output_type": "display_data"
    }
   ],
   "source": [
    "train_ex2 = train_income.copy()\n",
    "education_map = {'Preschool' : 0, \n",
    "                 '1st-4th' : 1, \n",
    "                 '5th-6th' : 2, \n",
    "                 '7th-8th' : 3,\n",
    "                 '9th' : 4,\n",
    "                 '10th' : 5,\n",
    "                 '11th' : 6, \n",
    "                 '12th': 7, \n",
    "                 'HS-grad' : 8,\n",
    "                 'Some-college' : 9,\n",
    "                 'Assoc-voc' : 10,\n",
    "                 'Assoc-acdm' : 11,\n",
    "                 'Bachelors' : 12,\n",
    "                 'Masters' : 13,\n",
    "                 'Prof-school' : 14,\n",
    "                 'Doctorate': 15 } \n",
    "\n",
    "train_ex2['education'] = train_ex2['education'].replace(education_map)\n",
    "display(train_ex2.head())\n",
    "display(train_ex2['education'].dtype)\n",
    "display(train_ex2['education'].unique())"
   ]
  },
  {
   "cell_type": "markdown",
   "id": "320a21b3",
   "metadata": {},
   "source": [
    "# labelEncoder는 각 범주를 자동으로 정수로 변환하지만, 범주 간의 순서 또는 중요도를 고려 안함. \n",
    "# 따라서, 순서형 범주형 변수의 경우, 범주의 순서를 고려하여 직접 매핑하는 것이 더 적합\n",
    "\n"
   ]
  }
 ],
 "metadata": {
  "kernelspec": {
   "display_name": "base",
   "language": "python",
   "name": "python3"
  },
  "language_info": {
   "codemirror_mode": {
    "name": "ipython",
    "version": 3
   },
   "file_extension": ".py",
   "mimetype": "text/x-python",
   "name": "python",
   "nbconvert_exporter": "python",
   "pygments_lexer": "ipython3",
   "version": "3.13.5"
  }
 },
 "nbformat": 4,
 "nbformat_minor": 5
}
