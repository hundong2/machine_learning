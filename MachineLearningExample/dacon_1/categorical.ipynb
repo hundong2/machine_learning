{
 "cells": [
  {
   "cell_type": "markdown",
   "id": "7f21230a",
   "metadata": {},
   "source": [
    "# 범주형 (Categorical) 변수 유형 이해 \n",
    "\n",
    "- 명목형(Nominal) 변수\n",
    "  - 순서, 크기의 의미가 없는 독립적인 범주\n",
    "  - 서로 상위나 하위 관계가 없음\n",
    "    - example) 혈액형, 색상 \n",
    "- 순서형(Ordinal) 변수\n",
    "  - 순서, 크기의 의미가 내포된\n",
    "  - 명확한 순서가 있어 등급을 나타낼 수 있음\n",
    "    - 고객 만족도\n",
    "    - 교육 수준"
   ]
  },
  {
   "cell_type": "code",
   "execution_count": 3,
   "id": "e9fc7afa",
   "metadata": {},
   "outputs": [
    {
     "ename": "NameError",
     "evalue": "name 'train_used_car' is not defined",
     "output_type": "error",
     "traceback": [
      "\u001b[0;31m---------------------------------------------------------------------------\u001b[0m",
      "\u001b[0;31mNameError\u001b[0m                                 Traceback (most recent call last)",
      "Cell \u001b[0;32mIn[3], line 10\u001b[0m\n\u001b[1;32m      7\u001b[0m model \u001b[38;5;241m=\u001b[39m RandomForestClassifier()\n\u001b[1;32m      9\u001b[0m \u001b[38;5;66;03m# 타겟 변수와 특성 분리\u001b[39;00m\n\u001b[0;32m---> 10\u001b[0m X \u001b[38;5;241m=\u001b[39m train_used_car[[\u001b[38;5;124m'\u001b[39m\u001b[38;5;124mBrand\u001b[39m\u001b[38;5;124m'\u001b[39m, \u001b[38;5;124m'\u001b[39m\u001b[38;5;124m정비 이력등급\u001b[39m\u001b[38;5;124m'\u001b[39m, \u001b[38;5;124m'\u001b[39m\u001b[38;5;124mModel\u001b[39m\u001b[38;5;124m'\u001b[39m, \u001b[38;5;124m'\u001b[39m\u001b[38;5;124m주행거리\u001b[39m\u001b[38;5;124m'\u001b[39m]]  \n\u001b[1;32m     11\u001b[0m y \u001b[38;5;241m=\u001b[39m train_used_car[\u001b[38;5;124m'\u001b[39m\u001b[38;5;124m중고차가격\u001b[39m\u001b[38;5;124m'\u001b[39m]  \u001b[38;5;66;03m# 수치형 타겟\u001b[39;00m\n\u001b[1;32m     13\u001b[0m \u001b[38;5;66;03m# 모델 학습 시도\u001b[39;00m\n",
      "\u001b[0;31mNameError\u001b[0m: name 'train_used_car' is not defined"
     ]
    }
   ],
   "source": [
    "# Random Forest Classifier 모델은 주로 수치형 데이터를 학습하여 사용한다. \n",
    "# 하지만, 범주형 데이터를 사용할 때는 원-핫 인코딩을 통해 수치형으로 변환해야 한다.\n",
    "# 이 코드는 범주형 데이터를 원-핫 인코딩하여 Random Forest Classifier 모델을 학습하는 예시이다.\n",
    "from sklearn.ensemble import RandomForestClassifier\n",
    "\n",
    "# 랜덤 포레스트 분류 모델 초기화\n",
    "model = RandomForestClassifier()\n",
    "\n",
    "# 타겟 변수와 특성 분리\n",
    "X = train_used_car[['Brand', '정비 이력등급', 'Model', '주행거리']]  \n",
    "y = train_used_car['중고차가격']  # 수치형 타겟\n",
    "\n",
    "# 모델 학습 시도\n",
    "try:\n",
    "    model.fit(X, y)\n",
    "    print(f\"Data is fitted \")\n",
    "except Exception as e:\n",
    "    print(f\"Error: {e}\")"
   ]
  },
  {
   "cell_type": "code",
   "execution_count": null,
   "id": "a7ffa9b4",
   "metadata": {},
   "outputs": [],
   "source": []
  }
 ],
 "metadata": {
  "kernelspec": {
   "display_name": "base",
   "language": "python",
   "name": "python3"
  },
  "language_info": {
   "codemirror_mode": {
    "name": "ipython",
    "version": 3
   },
   "file_extension": ".py",
   "mimetype": "text/x-python",
   "name": "python",
   "nbconvert_exporter": "python",
   "pygments_lexer": "ipython3",
   "version": "3.13.5"
  }
 },
 "nbformat": 4,
 "nbformat_minor": 5
}
