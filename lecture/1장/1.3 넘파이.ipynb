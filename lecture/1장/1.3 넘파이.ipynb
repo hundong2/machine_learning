{
 "cells": [
  {
   "cell_type": "markdown",
   "metadata": {},
   "source": [
    "### Numpy ndarray 개요"
   ]
  },
  {
   "cell_type": "code",
   "execution_count": 1,
   "metadata": {},
   "outputs": [],
   "source": [
    "import numpy as np"
   ]
  },
  {
   "cell_type": "code",
   "execution_count": 2,
   "metadata": {},
   "outputs": [
    {
     "name": "stdout",
     "output_type": "stream",
     "text": [
      "array1 type: <class 'numpy.ndarray'>\n",
      "array1 array 형태: (3,)\n",
      "array2 type: <class 'numpy.ndarray'>\n",
      "array2 array 형태: (2, 3)\n",
      "array3 type: <class 'numpy.ndarray'>\n",
      "array3 array 형태: (1, 3)\n"
     ]
    }
   ],
   "source": [
    "array1 = np.array([1,2,3])\n",
    "print('array1 type:',type(array1))\n",
    "print('array1 array 형태:',array1.shape)\n",
    "\n",
    "array2 = np.array([[1,2,3],\n",
    "                  [2,3,4]])\n",
    "print('array2 type:',type(array2))\n",
    "print('array2 array 형태:',array2.shape)\n",
    "\n",
    "array3 = np.array([[1,2,3]])\n",
    "print('array3 type:',type(array3))\n",
    "print('array3 array 형태:',array3.shape)"
   ]
  },
  {
   "cell_type": "code",
   "execution_count": 3,
   "metadata": {},
   "outputs": [
    {
     "name": "stdout",
     "output_type": "stream",
     "text": [
      "array1: 1차원, array2: 2차원, array3: 2차원\n"
     ]
    }
   ],
   "source": [
    "print('array1: {0}차원, array2: {1}차원, array3: {2}차원'.format(array1.ndim,array2.ndim,array3.ndim))\n"
   ]
  },
  {
   "cell_type": "code",
   "execution_count": 4,
   "metadata": {},
   "outputs": [
    {
     "name": "stdout",
     "output_type": "stream",
     "text": [
      "<class 'list'>\n",
      "<class 'numpy.ndarray'>\n",
      "[1 2 3] int64\n"
     ]
    }
   ],
   "source": [
    "list1 = [1,2,3]\n",
    "print(type(list1))\n",
    "array1 = np.array(list1)\n",
    "print(type(array1))\n",
    "print(array1, array1.dtype)"
   ]
  },
  {
   "cell_type": "code",
   "execution_count": null,
   "metadata": {},
   "outputs": [
    {
     "name": "stdout",
     "output_type": "stream",
     "text": [
      "['1' '2' 'test'] <U21\n",
      "[1. 2. 3.] float64\n"
     ]
    }
   ],
   "source": [
    "list2 = [1, 2, 'test']\n",
    "array2 = np.array(list2)\n",
    "print(array2, array2.dtype) # this type is 'U21' (Unicode string with max length 21)\n",
    "# numpy converts max length of string to fit the longest string in the list\n",
    "\n",
    "list3 = [1, 2, 3.0]\n",
    "array3 = np.array(list3)\n",
    "print(array3, array3.dtype) # this type is 'float64'"
   ]
  },
  {
   "cell_type": "code",
   "execution_count": 6,
   "metadata": {},
   "outputs": [
    {
     "name": "stdout",
     "output_type": "stream",
     "text": [
      "[1. 2. 3.] float64\n",
      "[1 2 3] int32\n",
      "[1 2 3] int32\n"
     ]
    }
   ],
   "source": [
    "array_int = np.array([1, 2, 3])\n",
    "array_float = array_int.astype('float64')\n",
    "print(array_float, array_float.dtype)\n",
    "\n",
    "array_int1= array_float.astype('int32')\n",
    "print(array_int1, array_int1.dtype)\n",
    "\n",
    "array_float1 = np.array([1.1, 2.1, 3.1])\n",
    "array_int2= array_float1.astype('int32')\n",
    "print(array_int2, array_int2.dtype)\n"
   ]
  },
  {
   "cell_type": "markdown",
   "metadata": {},
   "source": [
    "### ndarray를 편리하게 생성하기 - arange, zeros, ones"
   ]
  },
  {
   "cell_type": "code",
   "execution_count": 7,
   "metadata": {},
   "outputs": [
    {
     "name": "stdout",
     "output_type": "stream",
     "text": [
      "[0 1 2 3 4 5 6 7 8 9]\n",
      "int64 (10,)\n"
     ]
    }
   ],
   "source": [
    "sequence_array = np.arange(10)\n",
    "print(sequence_array)\n",
    "print(sequence_array.dtype, sequence_array.shape)\n",
    "\n"
   ]
  },
  {
   "cell_type": "code",
   "execution_count": 8,
   "metadata": {},
   "outputs": [
    {
     "name": "stdout",
     "output_type": "stream",
     "text": [
      "[[0 0]\n",
      " [0 0]\n",
      " [0 0]]\n",
      "int32 (3, 2)\n",
      "[[1. 1.]\n",
      " [1. 1.]\n",
      " [1. 1.]]\n",
      "float64 (3, 2)\n"
     ]
    }
   ],
   "source": [
    "zero_array = np.zeros((3,2),dtype='int32')\n",
    "print(zero_array)\n",
    "print(zero_array.dtype, zero_array.shape)\n",
    "\n",
    "one_array = np.ones((3,2))\n",
    "print(one_array)\n",
    "print(one_array.dtype, one_array.shape)"
   ]
  },
  {
   "cell_type": "markdown",
   "metadata": {},
   "source": [
    "### reshape"
   ]
  },
  {
   "cell_type": "code",
   "execution_count": 9,
   "metadata": {},
   "outputs": [
    {
     "name": "stdout",
     "output_type": "stream",
     "text": [
      "array1:\n",
      " [0 1 2 3 4 5 6 7 8 9]\n",
      "array2:\n",
      " [[0 1 2 3 4]\n",
      " [5 6 7 8 9]]\n",
      "array3:\n",
      " [[0 1]\n",
      " [2 3]\n",
      " [4 5]\n",
      " [6 7]\n",
      " [8 9]]\n"
     ]
    }
   ],
   "source": [
    "array1 = np.arange(10)\n",
    "print('array1:\\n', array1)\n",
    "\n",
    "array2 = array1.reshape(2,5)\n",
    "print('array2:\\n',array2)\n",
    "\n",
    "array3 = array1.reshape(5,2)\n",
    "print('array3:\\n',array3)"
   ]
  },
  {
   "cell_type": "code",
   "execution_count": 10,
   "metadata": {},
   "outputs": [
    {
     "ename": "ValueError",
     "evalue": "cannot reshape array of size 10 into shape (4,3)",
     "output_type": "error",
     "traceback": [
      "\u001b[0;31m---------------------------------------------------------------------------\u001b[0m",
      "\u001b[0;31mValueError\u001b[0m                                Traceback (most recent call last)",
      "Cell \u001b[0;32mIn[10], line 1\u001b[0m\n\u001b[0;32m----> 1\u001b[0m array1\u001b[38;5;241m.\u001b[39mreshape(\u001b[38;5;241m4\u001b[39m,\u001b[38;5;241m3\u001b[39m)\n",
      "\u001b[0;31mValueError\u001b[0m: cannot reshape array of size 10 into shape (4,3)"
     ]
    }
   ],
   "source": [
    "array1.reshape(4,3)"
   ]
  },
  {
   "cell_type": "code",
   "execution_count": 11,
   "metadata": {},
   "outputs": [
    {
     "name": "stdout",
     "output_type": "stream",
     "text": [
      "[0 1 2 3 4 5 6 7 8 9]\n",
      "array2 shape: (2, 5)\n",
      "array3 shape: (5, 2)\n"
     ]
    }
   ],
   "source": [
    "array1 = np.arange(10)\n",
    "print(array1)\n",
    "\n",
    "array2 = array1.reshape(-1,5)\n",
    "print('array2 shape:',array2.shape)\n",
    "\n",
    "array3 = array1.reshape(5,-1)\n",
    "print('array3 shape:',array3.shape)"
   ]
  },
  {
   "cell_type": "code",
   "execution_count": 13,
   "metadata": {},
   "outputs": [
    {
     "name": "stdout",
     "output_type": "stream",
     "text": [
      "[[0 1 2 3 4]\n",
      " [5 6 7 8 9]]\n",
      "[[0 1]\n",
      " [2 3]\n",
      " [4 5]\n",
      " [6 7]\n",
      " [8 9]]\n"
     ]
    }
   ],
   "source": [
    "print(array2)\n",
    "print(array3)"
   ]
  },
  {
   "cell_type": "code",
   "execution_count": 14,
   "metadata": {},
   "outputs": [
    {
     "ename": "ValueError",
     "evalue": "cannot reshape array of size 10 into shape (4)",
     "output_type": "error",
     "traceback": [
      "\u001b[0;31m---------------------------------------------------------------------------\u001b[0m",
      "\u001b[0;31mValueError\u001b[0m                                Traceback (most recent call last)",
      "Cell \u001b[0;32mIn[14], line 2\u001b[0m\n\u001b[1;32m      1\u001b[0m array1 \u001b[38;5;241m=\u001b[39m np\u001b[38;5;241m.\u001b[39marange(\u001b[38;5;241m10\u001b[39m)\n\u001b[0;32m----> 2\u001b[0m array4 \u001b[38;5;241m=\u001b[39m array1\u001b[38;5;241m.\u001b[39mreshape(\u001b[38;5;241m-\u001b[39m\u001b[38;5;241m1\u001b[39m,\u001b[38;5;241m4\u001b[39m)\n",
      "\u001b[0;31mValueError\u001b[0m: cannot reshape array of size 10 into shape (4)"
     ]
    }
   ],
   "source": [
    "array1 = np.arange(10)\n",
    "array4 = array1.reshape(-1,4)"
   ]
  },
  {
   "cell_type": "code",
   "execution_count": 16,
   "metadata": {},
   "outputs": [
    {
     "name": "stdout",
     "output_type": "stream",
     "text": [
      "array3d:\n",
      " [[[0, 1], [2, 3]], [[4, 5], [6, 7]]]\n",
      "array3d shape: (2, 2, 2)\n",
      "array3d ndim: 3\n",
      "array5:\n",
      " [[0], [1], [2], [3], [4], [5], [6], [7]]\n",
      "array5 shape: (8, 1)\n",
      "array5 ndim: 2\n",
      "array6:\n",
      " [[0], [1], [2], [3], [4], [5], [6], [7]]\n",
      "array6 shape: (8, 1)\n",
      "array6 ndim: 2\n"
     ]
    }
   ],
   "source": [
    "array1 = np.arange(8)\n",
    "array3d = array1.reshape((2,2,2))\n",
    "print('array3d:\\n',array3d.tolist())\n",
    "print('array3d shape:',array3d.shape)\n",
    "print('array3d ndim:',array3d.ndim)\n",
    "\n",
    "# 3차원 ndarray를 2차원 ndarray로 변환\n",
    "array5 = array3d.reshape(-1,1)\n",
    "print('array5:\\n',array5.tolist())\n",
    "print('array5 shape:',array5.shape)\n",
    "print('array5 ndim:',array5.ndim)\n",
    "\n",
    "# 1차원 ndarray를 2차원 ndarray로 변환\n",
    "array6 = array1.reshape(-1,1)\n",
    "print('array6:\\n',array6.tolist())\n",
    "print('array6 shape:',array6.shape)\n",
    "print('array6 ndim:',array6.ndim)   "
   ]
  },
  {
   "cell_type": "markdown",
   "metadata": {},
   "source": [
    "### indexing"
   ]
  },
  {
   "cell_type": "markdown",
   "metadata": {},
   "source": [
    "* 단일값 추출"
   ]
  },
  {
   "cell_type": "code",
   "execution_count": 17,
   "metadata": {},
   "outputs": [
    {
     "name": "stdout",
     "output_type": "stream",
     "text": [
      "array1: [1 2 3 4 5 6 7 8 9]\n",
      "value: 3\n",
      "<class 'numpy.int64'>\n"
     ]
    }
   ],
   "source": [
    "# 1에서 부터 9 까지의 1차원 ndarray 생성 \n",
    "array1 = np.arange(start=1, stop=10)\n",
    "print('array1:',array1)\n",
    "# index는 0 부터 시작하므로 array1[2]는 3번째 index 위치의 데이터 값을 의미\n",
    "value = array1[2]\n",
    "print('value:',value)\n",
    "print(type(value))"
   ]
  },
  {
   "cell_type": "code",
   "execution_count": 18,
   "metadata": {},
   "outputs": [
    {
     "name": "stdout",
     "output_type": "stream",
     "text": [
      "맨 뒤의 값: 9 , 맨 뒤에서 두번째 값: 8\n"
     ]
    }
   ],
   "source": [
    "print('맨 뒤의 값:',array1[-1], ', 맨 뒤에서 두번째 값:',array1[-2])"
   ]
  },
  {
   "cell_type": "code",
   "execution_count": 19,
   "metadata": {},
   "outputs": [
    {
     "name": "stdout",
     "output_type": "stream",
     "text": [
      "array1: [9 2 3 4 5 6 7 8 0]\n"
     ]
    }
   ],
   "source": [
    "array1[0] = 9\n",
    "array1[8] = 0\n",
    "print('array1:',array1)"
   ]
  },
  {
   "cell_type": "code",
   "execution_count": 20,
   "metadata": {},
   "outputs": [
    {
     "name": "stdout",
     "output_type": "stream",
     "text": [
      "[[1 2 3]\n",
      " [4 5 6]\n",
      " [7 8 9]]\n",
      "(row=0,col=0) index 가리키는 값: 1\n",
      "(row=0,col=1) index 가리키는 값: 2\n",
      "(row=1,col=0) index 가리키는 값: 4\n",
      "(row=2,col=2) index 가리키는 값: 9\n"
     ]
    }
   ],
   "source": [
    "array1d = np.arange(start=1, stop=10)\n",
    "array2d = array1d.reshape(3,3)\n",
    "print(array2d)\n",
    "\n",
    "print('(row=0,col=0) index 가리키는 값:', array2d[0,0] )\n",
    "print('(row=0,col=1) index 가리키는 값:', array2d[0,1] )\n",
    "print('(row=1,col=0) index 가리키는 값:', array2d[1,0] )\n",
    "print('(row=2,col=2) index 가리키는 값:', array2d[2,2] )"
   ]
  },
  {
   "cell_type": "markdown",
   "metadata": {},
   "source": [
    "* Slicing"
   ]
  },
  {
   "cell_type": "code",
   "execution_count": 21,
   "metadata": {},
   "outputs": [
    {
     "name": "stdout",
     "output_type": "stream",
     "text": [
      "[1 2 3]\n",
      "<class 'numpy.ndarray'>\n"
     ]
    }
   ],
   "source": [
    "array1 = np.arange(start=1, stop=10)\n",
    "array3 = array1[0:3]\n",
    "print(array3)\n",
    "print(type(array3))"
   ]
  },
  {
   "cell_type": "code",
   "execution_count": 22,
   "metadata": {},
   "outputs": [
    {
     "name": "stdout",
     "output_type": "stream",
     "text": [
      "[1 2 3]\n",
      "[4 5 6 7 8 9]\n",
      "[1 2 3 4 5 6 7 8 9]\n"
     ]
    }
   ],
   "source": [
    "array1 = np.arange(start=1, stop=10)\n",
    "array4 = array1[:3]\n",
    "print(array4)\n",
    "\n",
    "array5 = array1[3:]\n",
    "print(array5)\n",
    "\n",
    "array6 = array1[:]\n",
    "print(array6)"
   ]
  },
  {
   "cell_type": "code",
   "execution_count": 23,
   "metadata": {},
   "outputs": [
    {
     "name": "stdout",
     "output_type": "stream",
     "text": [
      "array2d:\n",
      " [[1 2 3]\n",
      " [4 5 6]\n",
      " [7 8 9]]\n",
      "array2d[0:2, 0:2] \n",
      " [[1 2]\n",
      " [4 5]]\n",
      "array2d[1:3, 0:3] \n",
      " [[4 5 6]\n",
      " [7 8 9]]\n",
      "array2d[1:3, :] \n",
      " [[4 5 6]\n",
      " [7 8 9]]\n",
      "array2d[:, :] \n",
      " [[1 2 3]\n",
      " [4 5 6]\n",
      " [7 8 9]]\n",
      "array2d[:2, 1:] \n",
      " [[2 3]\n",
      " [5 6]]\n",
      "array2d[:2, 0] \n",
      " [1 4]\n"
     ]
    }
   ],
   "source": [
    "array1d = np.arange(start=1, stop=10)\n",
    "array2d = array1d.reshape(3,3)\n",
    "print('array2d:\\n',array2d)\n",
    "\n",
    "print('array2d[0:2, 0:2] \\n', array2d[0:2, 0:2])\n",
    "print('array2d[1:3, 0:3] \\n', array2d[1:3, 0:3])\n",
    "print('array2d[1:3, :] \\n', array2d[1:3, :])\n",
    "print('array2d[:, :] \\n', array2d[:, :])\n",
    "print('array2d[:2, 1:] \\n', array2d[:2, 1:])\n",
    "print('array2d[:2, 0] \\n', array2d[:2, 0])"
   ]
  },
  {
   "cell_type": "code",
   "execution_count": 26,
   "metadata": {},
   "outputs": [
    {
     "name": "stdout",
     "output_type": "stream",
     "text": [
      "array2\n",
      " [[1 2 3]\n",
      " [4 5 6]\n",
      " [7 8 9]]\n",
      "array2d[0] shape: (3,) array2d[1] shape: (3,)\n",
      "array2d dimensions: 2\n",
      "array2d[0] dim : 1 array2d[1] dim: 1\n",
      "[1 2 3]\n",
      "[4 5 6]\n",
      "array2d[0] shape: (3,) array2d[1] shape: (3,)\n"
     ]
    }
   ],
   "source": [
    "print('array2\\n', array2d)\n",
    "print('array2d[0] shape:', array2d[0].shape, 'array2d[1] shape:', array2d[1].shape )\n",
    "print('array2d dimensions:', array2d.ndim)\n",
    "print('array2d[0] dim :', array2d[0].ndim, 'array2d[1] dim:', array2d[1].ndim)\n",
    "print(array2d[0])\n",
    "print(array2d[1])\n",
    "print('array2d[0] shape:', array2d[0].shape, 'array2d[1] shape:', array2d[1].shape )"
   ]
  },
  {
   "cell_type": "markdown",
   "metadata": {},
   "source": [
    "* fancy indexing"
   ]
  },
  {
   "cell_type": "code",
   "execution_count": 29,
   "metadata": {},
   "outputs": [
    {
     "name": "stdout",
     "output_type": "stream",
     "text": [
      "array2d:\n",
      " [[1 2 3]\n",
      " [4 5 6]\n",
      " [7 8 9]]\n",
      "array3:\n",
      " [3 6]\n",
      "array2d[[0,1], 2] =>  [3, 6]\n",
      "array2d[[0,1], 0:2] =>  [[1, 2], [4, 5]]\n",
      "array2d[[0,1]] =>  [[1, 2, 3], [4, 5, 6]]\n"
     ]
    }
   ],
   "source": [
    "array1d = np.arange(start=1, stop=10)\n",
    "array2d = array1d.reshape(3,3)\n",
    "\n",
    "print('array2d:\\n', array2d)\n",
    "\n",
    "array3 = array2d[[0,1], 2]\n",
    "print('array3:\\n', array3)\n",
    "print('array2d[[0,1], 2] => ',array3.tolist())\n",
    "\n",
    "array4 = array2d[[0,1], 0:2]\n",
    "print('array2d[[0,1], 0:2] => ',array4.tolist())\n",
    "\n",
    "array5 = array2d[[0,1]]\n",
    "print('array2d[[0,1]] => ',array5.tolist())"
   ]
  },
  {
   "cell_type": "markdown",
   "metadata": {},
   "source": [
    "* Boolean indexing"
   ]
  },
  {
   "cell_type": "code",
   "execution_count": 32,
   "metadata": {},
   "outputs": [
    {
     "name": "stdout",
     "output_type": "stream",
     "text": [
      "array1d: [False False False False False  True  True  True  True]\n",
      "array1d > 5 불린 인덱싱 결과 값 : [6 7 8 9]\n"
     ]
    }
   ],
   "source": [
    "array1d = np.arange(start=1, stop=10)\n",
    "print('array1d:', array1d > 5)\n",
    "# [ ] 안에 array1d > 5 Boolean indexing을 적용 \n",
    "array3 = array1d[array1d > 5]\n",
    "print('array1d > 5 불린 인덱싱 결과 값 :', array3)"
   ]
  },
  {
   "cell_type": "code",
   "execution_count": 33,
   "metadata": {},
   "outputs": [
    {
     "data": {
      "text/plain": [
       "array([False, False, False, False, False,  True,  True,  True,  True])"
      ]
     },
     "execution_count": 33,
     "metadata": {},
     "output_type": "execute_result"
    }
   ],
   "source": [
    "array1d > 5"
   ]
  },
  {
   "cell_type": "code",
   "execution_count": 34,
   "metadata": {},
   "outputs": [
    {
     "name": "stdout",
     "output_type": "stream",
     "text": [
      "불린 인덱스로 필터링 결과 : [6 7 8 9]\n"
     ]
    }
   ],
   "source": [
    "boolean_indexes = np.array([False, False, False, False, False,  True,  True,  True,  True])\n",
    "array3 = array1d[boolean_indexes]\n",
    "print('불린 인덱스로 필터링 결과 :', array3)"
   ]
  },
  {
   "cell_type": "code",
   "execution_count": 36,
   "metadata": {},
   "outputs": [
    {
     "name": "stdout",
     "output_type": "stream",
     "text": [
      "[5 6 7 8]\n",
      "array1d: [1 2 3 4 5 6 7 8 9]\n",
      "일반 인덱스로 필터링 결과 : [6 7 8 9]\n"
     ]
    }
   ],
   "source": [
    "indexes = np.array([5,6,7,8])\n",
    "print(indexes)\n",
    "print('array1d:', array1d)\n",
    "array4 = array1d[ indexes ]\n",
    "print('일반 인덱스로 필터링 결과 :',array4)"
   ]
  },
  {
   "cell_type": "markdown",
   "metadata": {},
   "source": [
    "# NumPy의 np와 ndarray 차이점\n",
    "\n",
    "NumPy에서 `np`는 NumPy 라이브러리 자체를 의미하고, `ndarray`는 NumPy의 핵심 데이터 구조인 다차원 배열 객체를 의미합니다.\n",
    "\n",
    "## 예시 파일\n",
    "\n",
    "````python\n",
    "import numpy as np\n",
    "\n",
    "print(\"=== np와 ndarray의 차이점 완벽 이해하기 ===\\n\")\n",
    "\n",
    "# 1. np는 NumPy 라이브러리 자체\n",
    "print(\"1. np는 NumPy 라이브러리:\")\n",
    "print(f\"   np의 타입: {type(np)}\")\n",
    "print(f\"   np는 모듈입니다: {np}\")\n",
    "print()\n",
    "\n",
    "# 2. ndarray는 NumPy의 데이터 구조\n",
    "arr = np.array([1, 2, 3, 4, 5])\n",
    "print(\"2. ndarray는 NumPy의 데이터 구조:\")\n",
    "print(f\"   배열: {arr}\")\n",
    "print(f\"   배열의 타입: {type(arr)}\")\n",
    "print(f\"   정확한 클래스명: {arr.__class__}\")\n",
    "print()\n",
    "\n",
    "# 3. np를 통한 함수 호출 vs ndarray 메서드\n",
    "print(\"3. np 함수 vs ndarray 메서드 비교:\")\n",
    "original_array = np.array([3, 1, 9, 5])\n",
    "print(f\"   원본 배열: {original_array}\")\n",
    "\n",
    "# np.sort() - 함수 방식 (원본 유지)\n",
    "sorted_by_np = np.sort(original_array)\n",
    "print(f\"   np.sort() 결과: {sorted_by_np}\")\n",
    "print(f\"   원본 배열 상태: {original_array}\")\n",
    "\n",
    "# ndarray.sort() - 메서드 방식 (원본 변경)\n",
    "copy_array = original_array.copy()\n",
    "result = copy_array.sort()\n",
    "print(f\"   ndarray.sort() 결과: {result}\")\n",
    "print(f\"   원본 배열 상태: {copy_array}\")\n",
    "print()\n",
    "\n",
    "# 4. np를 통해 접근할 수 있는 것들\n",
    "print(\"4. np를 통해 접근할 수 있는 것들:\")\n",
    "print(\"   - 배열 생성 함수들:\")\n",
    "print(f\"     np.array(): {type(np.array)}\")\n",
    "print(f\"     np.zeros(): {type(np.zeros)}\")\n",
    "print(f\"     np.ones(): {type(np.ones)}\")\n",
    "print(f\"     np.arange(): {type(np.arange)}\")\n",
    "\n",
    "print(\"   - 수학 함수들:\")\n",
    "print(f\"     np.sin(): {type(np.sin)}\")\n",
    "print(f\"     np.cos(): {type(np.cos)}\")\n",
    "print(f\"     np.sum(): {type(np.sum)}\")\n",
    "\n",
    "print(\"   - 상수들:\")\n",
    "print(f\"     np.pi: {np.pi}\")\n",
    "print(f\"     np.e: {np.e}\")\n",
    "print()\n",
    "\n",
    "# 5. ndarray 객체가 가진 속성과 메서드들\n",
    "print(\"5. ndarray 객체의 속성과 메서드들:\")\n",
    "sample_array = np.array([[1, 2, 3], [4, 5, 6]])\n",
    "print(f\"   배열: \\n{sample_array}\")\n",
    "print(f\"   속성들:\")\n",
    "print(f\"     .shape: {sample_array.shape}\")\n",
    "print(f\"     .dtype: {sample_array.dtype}\")\n",
    "print(f\"     .ndim: {sample_array.ndim}\")\n",
    "print(f\"     .size: {sample_array.size}\")\n",
    "print()\n",
    "\n",
    "print(f\"   메서드들:\")\n",
    "print(f\"     .reshape(): {type(sample_array.reshape)}\")\n",
    "print(f\"     .flatten(): {type(sample_array.flatten)}\")\n",
    "print(f\"     .sum(): {type(sample_array.sum)}\")\n",
    "print(f\"     .mean(): {type(sample_array.mean)}\")\n",
    "print()\n",
    "\n",
    "# 6. 실제 사용 예시 비교\n",
    "print(\"6. 실제 사용 예시 비교:\")\n",
    "data = np.array([1, 2, 3, 4, 5])\n",
    "\n",
    "# np를 통한 함수 호출\n",
    "print(\"   np를 통한 함수 호출:\")\n",
    "print(f\"     np.sum(data): {np.sum(data)}\")\n",
    "print(f\"     np.mean(data): {np.mean(data)}\")\n",
    "print(f\"     np.max(data): {np.max(data)}\")\n",
    "\n",
    "# ndarray 메서드 호출\n",
    "print(\"   ndarray 메서드 호출:\")\n",
    "print(f\"     data.sum(): {data.sum()}\")\n",
    "print(f\"     data.mean(): {data.mean()}\")\n",
    "print(f\"     data.max(): {data.max()}\")\n",
    "print()\n",
    "\n",
    "# 7. 정렬 함수의 차이점 상세 분석\n",
    "print(\"7. 정렬 함수의 차이점 상세 분석:\")\n",
    "test_array = np.array([5, 2, 8, 1, 9])\n",
    "print(f\"   테스트 배열: {test_array}\")\n",
    "\n",
    "# np.sort() - 새로운 배열 반환\n",
    "sorted_new = np.sort(test_array)\n",
    "print(f\"   np.sort() 후:\")\n",
    "print(f\"     반환값: {sorted_new}\")\n",
    "print(f\"     원본 배열: {test_array}\")\n",
    "\n",
    "# ndarray.sort() - 원본 배열 수정\n",
    "test_array_copy = test_array.copy()\n",
    "return_value = test_array_copy.sort()\n",
    "print(f\"   ndarray.sort() 후:\")\n",
    "print(f\"     반환값: {return_value}\")\n",
    "print(f\"     원본 배열: {test_array_copy}\")\n",
    "print()\n",
    "\n",
    "# 8. 메모리 관점에서의 차이\n",
    "print(\"8. 메모리 관점에서의 차이:\")\n",
    "large_array = np.random.randint(0, 100, size=1000000)\n",
    "print(f\"   대용량 배열 크기: {large_array.size} 개 원소\")\n",
    "\n",
    "# np.sort()는 새로운 메모리 할당\n",
    "import time\n",
    "start_time = time.time()\n",
    "sorted_copy = np.sort(large_array)\n",
    "np_sort_time = time.time() - start_time\n",
    "print(f\"   np.sort() 시간: {np_sort_time:.4f}초 (새 배열 생성)\")\n",
    "\n",
    "# ndarray.sort()는 기존 메모리 사용\n",
    "large_array_copy = large_array.copy()\n",
    "start_time = time.time()\n",
    "large_array_copy.sort()\n",
    "ndarray_sort_time = time.time() - start_time\n",
    "print(f\"   ndarray.sort() 시간: {ndarray_sort_time:.4f}초 (기존 배열 수정)\")\n",
    "print()\n",
    "\n",
    "print(\"=== 핵심 정리 ===\")\n",
    "print(\"• np: NumPy 라이브러리 모듈\")\n",
    "print(\"  - 함수들과 상수들을 제공\")\n",
    "print(\"  - 배열을 생성하고 조작하는 도구\")\n",
    "print(\"• ndarray: NumPy의 다차원 배열 객체\")\n",
    "print(\"  - 실제 데이터를 담는 컨테이너\")\n",
    "print(\"  - 자체적인 메서드와 속성을 가짐\")\n",
    "print(\"• np.sort(): 새로운 정렬된 배열 반환 (원본 유지)\")\n",
    "print(\"• ndarray.sort(): 원본 배열을 직접 정렬 (메모리 효율적)\")\n",
    "````\n",
    "\n",
    "## 답변\n",
    "\n",
    "### 핵심 차이점\n",
    "\n",
    "**np (NumPy 라이브러리)**\n",
    "- NumPy 라이브러리 자체를 의미하는 모듈\n",
    "- 배열 생성, 수학 함수, 상수 등을 제공하는 도구상자\n",
    "- `import numpy as np`로 가져와서 사용\n",
    "\n",
    "**ndarray (N-dimensional Array)**\n",
    "- NumPy의 핵심 데이터 구조인 다차원 배열 객체\n",
    "- 실제 데이터를 저장하고 관리하는 컨테이너\n",
    "- `np.array()`를 통해 생성되는 객체의 타입\n",
    "\n",
    "### 정렬 함수의 중요한 차이점\n",
    "\n",
    "````python\n",
    "# 새로운 셀에 추가\n",
    "\n",
    "import numpy as np\n",
    "\n",
    "# 원본 배열\n",
    "original = np.array([3, 1, 9, 5])\n",
    "print(f\"원본 배열: {original}\")\n",
    "\n",
    "# 1. np.sort() - 함수 방식\n",
    "sorted_copy = np.sort(original)\n",
    "print(f\"np.sort() 결과: {sorted_copy}\")\n",
    "print(f\"원본 배열 상태: {original}\")  # 변경되지 않음\n",
    "\n",
    "# 2. ndarray.sort() - 메서드 방식\n",
    "original_copy = original.copy()\n",
    "return_value = original_copy.sort()\n",
    "print(f\"ndarray.sort() 반환값: {return_value}\")  # None\n",
    "print(f\"원본 배열 상태: {original_copy}\")  # 변경됨\n",
    "````\n",
    "\n",
    "### 사용 패턴 비교\n",
    "\n",
    "| 구분 | np | ndarray |\n",
    "|------|-----|---------|\n",
    "| **정체성** | 라이브러리 모듈 | 데이터 객체 |\n",
    "| **생성** | `import numpy as np` | `np.array([1,2,3])` |\n",
    "| **함수 호출** | `np.sort(array)` | `array.sort()` |\n",
    "| **반환값** | 새로운 배열 | 원본 수정 또는 None |\n",
    "| **메모리** | 추가 메모리 사용 | 기존 메모리 활용 |\n",
    "\n",
    "### 언제 어떤 것을 사용할까?\n",
    "\n",
    "**np.sort() 사용 시기:**\n",
    "- 원본 데이터를 보존해야 할 때\n",
    "- 정렬된 새로운 배열이 필요할 때\n",
    "- 함수형 프로그래밍 스타일을 선호할 때\n",
    "\n",
    "**ndarray.sort() 사용 시기:**\n",
    "- 메모리를 절약해야 할 때\n",
    "- 원본 데이터 수정이 허용될 때\n",
    "- 대용량 데이터 처리 시\n",
    "\n",
    "### 추가 자료\n",
    "- [NumPy 공식 문서 - ndarray](https://numpy.org/doc/stable/reference/generated/numpy.ndarray.html)\n",
    "- [NumPy 정렬 함수 가이드](https://numpy.org/doc/stable/reference/routines.sort.html)\n",
    "- [NumPy 메모리 레이아웃 이해하기](https://numpy.org/doc/stable/user/basics.indexing.html#memory-layout)"
   ]
  },
  {
   "cell_type": "markdown",
   "metadata": {},
   "source": [
    "### 행렬의 정렬 – sort( )와 argsort( )\n",
    "\n",
    "* 행렬 정렬"
   ]
  },
  {
   "cell_type": "code",
   "execution_count": 37,
   "metadata": {},
   "outputs": [
    {
     "name": "stdout",
     "output_type": "stream",
     "text": [
      "원본 행렬: [3 1 9 5]\n",
      "np.sort( ) 호출 후 반환된 정렬 행렬: [1 3 5 9]\n",
      "np.sort( ) 호출 후 원본 행렬: [3 1 9 5]\n",
      "org_array.sort( ) 호출 후 반환된 행렬: None\n",
      "org_array.sort( ) 호출 후 원본 행렬: [1 3 5 9]\n"
     ]
    }
   ],
   "source": [
    "org_array = np.array([ 3, 1, 9, 5]) \n",
    "print('원본 행렬:', org_array)\n",
    "# np.sort( )로 정렬 \n",
    "sort_array1 = np.sort(org_array)         \n",
    "print ('np.sort( ) 호출 후 반환된 정렬 행렬:', sort_array1) \n",
    "print('np.sort( ) 호출 후 원본 행렬:', org_array)\n",
    "# ndarray.sort( )로 정렬\n",
    "sort_array2 = org_array.sort()\n",
    "print('org_array.sort( ) 호출 후 반환된 행렬:', sort_array2)\n",
    "print('org_array.sort( ) 호출 후 원본 행렬:', org_array)\n"
   ]
  },
  {
   "cell_type": "code",
   "execution_count": 38,
   "metadata": {},
   "outputs": [
    {
     "name": "stdout",
     "output_type": "stream",
     "text": [
      "내림차순으로 정렬: [9 5 3 1]\n"
     ]
    }
   ],
   "source": [
    "sort_array1_desc = np.sort(org_array)[::-1]\n",
    "print ('내림차순으로 정렬:', sort_array1_desc) "
   ]
  },
  {
   "cell_type": "markdown",
   "metadata": {},
   "source": [
    "NumPy 배열 슬라이싱에서 :: 사용법\n",
    "NumPy 배열에서 [::-1]과 같은 슬라이싱 문법은 배열의 순서를 역순으로 만드는 강력한 기능입니다.\n",
    "\n",
    "예시 파일"
   ]
  },
  {
   "cell_type": "code",
   "execution_count": 39,
   "metadata": {},
   "outputs": [
    {
     "name": "stdout",
     "output_type": "stream",
     "text": [
      "=== NumPy 슬라이싱 :: 문법 완벽 이해하기 ===\n",
      "\n",
      "원본 배열: [ 1  2  3  4  5  6  7  8  9 10]\n",
      "\n",
      "=== 기본 슬라이싱 예제 ===\n",
      "전체 배열 [:]: [ 1  2  3  4  5  6  7  8  9 10]\n",
      "처음부터 5까지 [:5]: [1 2 3 4 5]\n",
      "3부터 끝까지 [3:]: [ 4  5  6  7  8  9 10]\n",
      "2부터 8까지 [2:8]: [3 4 5 6 7 8]\n",
      "\n",
      "=== step 파라미터 사용 ===\n",
      "2칸씩 건너뛰기 [::2]: [1 3 5 7 9]\n",
      "3칸씩 건너뛰기 [::3]: [ 1  4  7 10]\n",
      "처음부터 8까지 2칸씩 [:8:2]: [1 3 5 7]\n",
      "\n",
      "=== 역순 슬라이싱 ===\n",
      "전체 역순 [::-1]: [10  9  8  7  6  5  4  3  2  1]\n",
      "2칸씩 역순 [::-2]: [10  8  6  4  2]\n",
      "끝에서 3번째부터 역순 [-3::-1]: [8 7 6 5 4 3 2 1]\n",
      "\n",
      "=== 정렬과 역순 활용 ===\n",
      "정렬 전 배열: [3 1 9 5 2 8 4]\n",
      "오름차순 정렬: [1 2 3 4 5 8 9]\n",
      "내림차순 정렬: [9 8 5 4 3 2 1]\n",
      "\n",
      "=== 2차원 배열 슬라이싱 ===\n",
      "원본 2차원 배열:\n",
      "[[ 1  2  3  4]\n",
      " [ 5  6  7  8]\n",
      " [ 9 10 11 12]]\n",
      "\n",
      "행 순서 역순 [::-1]:\n",
      "[[ 9 10 11 12]\n",
      " [ 5  6  7  8]\n",
      " [ 1  2  3  4]]\n",
      "\n",
      "열 순서 역순 [:, ::-1]:\n",
      "[[ 4  3  2  1]\n",
      " [ 8  7  6  5]\n",
      " [12 11 10  9]]\n",
      "\n",
      "행과 열 모두 역순 [::-1, ::-1]:\n",
      "[[12 11 10  9]\n",
      " [ 8  7  6  5]\n",
      " [ 4  3  2  1]]\n",
      "\n",
      "=== 실제 데이터 처리 예제 ===\n",
      "학생 이름: ['Alice' 'Bob' 'Charlie' 'David' 'Eve' 'Frank' 'Grace']\n",
      "학생 점수: [85 92 78 96 88 73 91]\n",
      "\n",
      "성적 높은 순으로 정렬된 인덱스: [3 1 6 4 0 2 5]\n",
      "성적 순 학생 이름: ['David' 'Bob' 'Grace' 'Eve' 'Alice' 'Charlie' 'Frank']\n",
      "성적 순 점수: [96 92 91 88 85 78 73]\n",
      "\n",
      "=== 다양한 step 값 실험 ===\n",
      "테스트 배열: [ 0  1  2  3  4  5  6  7  8  9 10 11 12 13 14 15 16 17 18 19]\n",
      "step=1 (기본): [ 0  1  2  3  4  5  6  7  8  9 10 11 12 13 14 15 16 17 18 19]\n",
      "step=2: [ 0  2  4  6  8 10 12 14 16 18]\n",
      "step=3: [ 0  3  6  9 12 15 18]\n",
      "step=-1 (역순): [19 18 17 16 15 14 13 12 11 10  9  8  7  6  5  4  3  2  1  0]\n",
      "step=-2 (2칸씩 역순): [19 17 15 13 11  9  7  5  3  1]\n",
      "\n",
      "=== 부분 구간 역순 ===\n",
      "원본: [0 1 2 3 4 5 6 7 8 9]\n",
      "3~7 구간만 역순 [3:8][::-1]: [7 6 5 4 3]\n",
      "처음 5개만 역순 [:5][::-1]: [4 3 2 1 0]\n",
      "마지막 5개만 역순 [-5:][::-1]: [9 8 7 6 5]\n",
      "\n",
      "=== 핵심 정리 ===\n",
      "• [start:stop:step] - 슬라이싱의 기본 문법\n",
      "• [::-1] - 전체 배열을 역순으로\n",
      "• [::2] - 2칸씩 건너뛰며 선택\n",
      "• [::-2] - 2칸씩 건너뛰며 역순으로\n",
      "• 정렬 후 [::-1]로 내림차순 만들기\n",
      "• 2차원에서는 각 축별로 독립적으로 적용 가능\n"
     ]
    }
   ],
   "source": [
    "import numpy as np\n",
    "\n",
    "print(\"=== NumPy 슬라이싱 :: 문법 완벽 이해하기 ===\\n\")\n",
    "\n",
    "# 1. 기본 슬라이싱 문법 [start:stop:step]\n",
    "original_array = np.array([1, 2, 3, 4, 5, 6, 7, 8, 9, 10])\n",
    "print(\"원본 배열:\", original_array)\n",
    "\n",
    "# 기본 슬라이싱 예제들\n",
    "print(\"\\n=== 기본 슬라이싱 예제 ===\")\n",
    "print(\"전체 배열 [:]:\", original_array[:])\n",
    "print(\"처음부터 5까지 [:5]:\", original_array[:5])\n",
    "print(\"3부터 끝까지 [3:]:\", original_array[3:])\n",
    "print(\"2부터 8까지 [2:8]:\", original_array[2:8])\n",
    "\n",
    "# 2. step 파라미터 사용\n",
    "print(\"\\n=== step 파라미터 사용 ===\")\n",
    "print(\"2칸씩 건너뛰기 [::2]:\", original_array[::2])\n",
    "print(\"3칸씩 건너뛰기 [::3]:\", original_array[::3])\n",
    "print(\"처음부터 8까지 2칸씩 [:8:2]:\", original_array[:8:2])\n",
    "\n",
    "# 3. 역순 슬라이싱\n",
    "print(\"\\n=== 역순 슬라이싱 ===\")\n",
    "print(\"전체 역순 [::-1]:\", original_array[::-1])\n",
    "print(\"2칸씩 역순 [::-2]:\", original_array[::-2])\n",
    "print(\"끝에서 3번째부터 역순 [-3::-1]:\", original_array[-3::-1])\n",
    "\n",
    "# 4. 정렬과 역순의 실제 사용 예\n",
    "print(\"\\n=== 정렬과 역순 활용 ===\")\n",
    "unsorted_array = np.array([3, 1, 9, 5, 2, 8, 4])\n",
    "print(\"정렬 전 배열:\", unsorted_array)\n",
    "\n",
    "# 오름차순 정렬\n",
    "sorted_asc = np.sort(unsorted_array)\n",
    "print(\"오름차순 정렬:\", sorted_asc)\n",
    "\n",
    "# 내림차순 정렬 (정렬 후 역순)\n",
    "sorted_desc = np.sort(unsorted_array)[::-1]\n",
    "print(\"내림차순 정렬:\", sorted_desc)\n",
    "\n",
    "# 5. 2차원 배열에서의 슬라이싱\n",
    "print(\"\\n=== 2차원 배열 슬라이싱 ===\")\n",
    "array_2d = np.array([[1, 2, 3, 4],\n",
    "                     [5, 6, 7, 8],\n",
    "                     [9, 10, 11, 12]])\n",
    "print(\"원본 2차원 배열:\")\n",
    "print(array_2d)\n",
    "\n",
    "print(\"\\n행 순서 역순 [::-1]:\")\n",
    "print(array_2d[::-1])\n",
    "\n",
    "print(\"\\n열 순서 역순 [:, ::-1]:\")\n",
    "print(array_2d[:, ::-1])\n",
    "\n",
    "print(\"\\n행과 열 모두 역순 [::-1, ::-1]:\")\n",
    "print(array_2d[::-1, ::-1])\n",
    "\n",
    "# 6. 실제 데이터 처리 예제\n",
    "print(\"\\n=== 실제 데이터 처리 예제 ===\")\n",
    "student_scores = np.array([85, 92, 78, 96, 88, 73, 91])\n",
    "student_names = np.array(['Alice', 'Bob', 'Charlie', 'David', 'Eve', 'Frank', 'Grace'])\n",
    "\n",
    "print(\"학생 이름:\", student_names)\n",
    "print(\"학생 점수:\", student_scores)\n",
    "\n",
    "# 점수 순으로 정렬 (높은 순)\n",
    "sorted_indices = np.argsort(student_scores)[::-1]\n",
    "print(\"\\n성적 높은 순으로 정렬된 인덱스:\", sorted_indices)\n",
    "print(\"성적 순 학생 이름:\", student_names[sorted_indices])\n",
    "print(\"성적 순 점수:\", student_scores[sorted_indices])\n",
    "\n",
    "# 7. 다양한 step 값 실험\n",
    "print(\"\\n=== 다양한 step 값 실험 ===\")\n",
    "test_array = np.arange(20)\n",
    "print(\"테스트 배열:\", test_array)\n",
    "print(\"step=1 (기본):\", test_array[::1])\n",
    "print(\"step=2:\", test_array[::2])\n",
    "print(\"step=3:\", test_array[::3])\n",
    "print(\"step=-1 (역순):\", test_array[::-1])\n",
    "print(\"step=-2 (2칸씩 역순):\", test_array[::-2])\n",
    "\n",
    "# 8. 부분 구간 역순\n",
    "print(\"\\n=== 부분 구간 역순 ===\")\n",
    "numbers = np.array([0, 1, 2, 3, 4, 5, 6, 7, 8, 9])\n",
    "print(\"원본:\", numbers)\n",
    "print(\"3~7 구간만 역순 [3:8][::-1]:\", numbers[3:8][::-1])\n",
    "print(\"처음 5개만 역순 [:5][::-1]:\", numbers[:5][::-1])\n",
    "print(\"마지막 5개만 역순 [-5:][::-1]:\", numbers[-5:][::-1])\n",
    "\n",
    "print(\"\\n=== 핵심 정리 ===\")\n",
    "print(\"• [start:stop:step] - 슬라이싱의 기본 문법\")\n",
    "print(\"• [::-1] - 전체 배열을 역순으로\")\n",
    "print(\"• [::2] - 2칸씩 건너뛰며 선택\")\n",
    "print(\"• [::-2] - 2칸씩 건너뛰며 역순으로\")\n",
    "print(\"• 정렬 후 [::-1]로 내림차순 만들기\")\n",
    "print(\"• 2차원에서는 각 축별로 독립적으로 적용 가능\")"
   ]
  },
  {
   "cell_type": "markdown",
   "metadata": {},
   "source": [
    "슬라이싱 문법의 기본 구조\n",
    "NumPy 배열의 슬라이싱은 [start:stop:step] 형태로 작동합니다:\n",
    "\n",
    "start: 시작 인덱스 (생략 시 처음부터)\n",
    "stop: 끝 인덱스 (생략 시 끝까지)\n",
    "step: 간격 (생략 시 1, 음수면 역순)\n",
    "[::-1]의 의미"
   ]
  },
  {
   "cell_type": "code",
   "execution_count": 40,
   "metadata": {},
   "outputs": [
    {
     "name": "stdout",
     "output_type": "stream",
     "text": [
      "원본 배열: [3 1 9 5]\n",
      "오름차순 정렬: [1 3 5 9]\n",
      "내림차순 정렬: [9 5 3 1]\n",
      "\n",
      "=== [::-1] 분해 설명 ===\n",
      "[::-1]는 다음과 같은 의미:\n",
      "  start: 생략 (끝에서 시작)\n",
      "  stop: 생략 (처음까지)\n",
      "  step: -1 (한 칸씩 뒤로)\n",
      "원본: [0 1 2 3 4 5 6 7 8 9]\n",
      "\n",
      "=== 다양한 패턴 ===\n",
      "[::1]  (기본): [0 1 2 3 4 5 6 7 8 9]\n",
      "[::2]  (2칸씩): [0 2 4 6 8]\n",
      "[::3]  (3칸씩): [0 3 6 9]\n",
      "[::-1] (역순): [9 8 7 6 5 4 3 2 1 0]\n",
      "[::-2] (2칸씩 역순): [9 7 5 3 1]\n",
      "[2:8:2] (2~7 중 2칸씩): [2 4 6]\n",
      "[7:1:-1] (7~2까지 역순): [7 6 5 4 3 2]\n",
      "원본 2차원 배열:\n",
      "[[1 2 3]\n",
      " [4 5 6]\n",
      " [7 8 9]]\n",
      "\n",
      "행 순서 역순 [::-1]:\n",
      "[[7 8 9]\n",
      " [4 5 6]\n",
      " [1 2 3]]\n",
      "\n",
      "열 순서 역순 [:, ::-1]:\n",
      "[[3 2 1]\n",
      " [6 5 4]\n",
      " [9 8 7]]\n",
      "\n",
      "행과 열 모두 역순 [::-1, ::-1]:\n",
      "[[9 8 7]\n",
      " [6 5 4]\n",
      " [3 2 1]]\n"
     ]
    }
   ],
   "source": [
    "# 새로운 셀에 추가\n",
    "\n",
    "import numpy as np\n",
    "\n",
    "# 기본 예제\n",
    "org_array = np.array([3, 1, 9, 5])\n",
    "print(\"원본 배열:\", org_array)\n",
    "\n",
    "# 정렬 후 역순으로 만들기\n",
    "sorted_asc = np.sort(org_array)\n",
    "print(\"오름차순 정렬:\", sorted_asc)\n",
    "\n",
    "sorted_desc = np.sort(org_array)[::-1]\n",
    "print(\"내림차순 정렬:\", sorted_desc)\n",
    "\n",
    "# [::-1] 분해 설명\n",
    "print(\"\\n=== [::-1] 분해 설명 ===\")\n",
    "print(\"[::-1]는 다음과 같은 의미:\")\n",
    "print(\"  start: 생략 (끝에서 시작)\")\n",
    "print(\"  stop: 생략 (처음까지)\")\n",
    "print(\"  step: -1 (한 칸씩 뒤로)\")\n",
    "\n",
    "# 추가 예제 셀\n",
    "data = np.array([0, 1, 2, 3, 4, 5, 6, 7, 8, 9])\n",
    "print(\"원본:\", data)\n",
    "\n",
    "print(\"\\n=== 다양한 패턴 ===\")\n",
    "print(\"[::1]  (기본):\", data[::1])\n",
    "print(\"[::2]  (2칸씩):\", data[::2])\n",
    "print(\"[::3]  (3칸씩):\", data[::3])\n",
    "print(\"[::-1] (역순):\", data[::-1])\n",
    "print(\"[::-2] (2칸씩 역순):\", data[::-2])\n",
    "print(\"[2:8:2] (2~7 중 2칸씩):\", data[2:8:2])\n",
    "print(\"[7:1:-1] (7~2까지 역순):\", data[7:1:-1])\n",
    "\n",
    "# 2차원 배열 예제\n",
    "array_2d = np.array([[1, 2, 3],\n",
    "                     [4, 5, 6], \n",
    "                     [7, 8, 9]])\n",
    "print(\"원본 2차원 배열:\")\n",
    "print(array_2d)\n",
    "\n",
    "print(\"\\n행 순서 역순 [::-1]:\")\n",
    "print(array_2d[::-1])\n",
    "\n",
    "print(\"\\n열 순서 역순 [:, ::-1]:\")\n",
    "print(array_2d[:, ::-1])\n",
    "\n",
    "print(\"\\n행과 열 모두 역순 [::-1, ::-1]:\")\n",
    "print(array_2d[::-1, ::-1])"
   ]
  },
  {
   "cell_type": "markdown",
   "metadata": {},
   "source": [
    "# 실제 사용 사례  \n",
    "\n",
    "내림차순 정렬: np.sort(array)[::-1]  \n",
    "배열 뒤집기: array[::-1]  \n",
    "부분 역순: array[2:8][::-1]  \n",
    "건너뛰며 선택: array[::2]  \n",
    "거꾸로 건너뛰기: array[::-2]  \n",
    "\n",
    "# 성능 고려사항  \n",
    "\n",
    "[::-1]은 새로운 배열을 생성하지 않고 뷰(view)를 반환  \n",
    "메모리 효율적이며 빠른 연산  \n",
    "원본 데이터는 변경되지 않음  \n",
    "추가 자료  \n",
    " "
   ]
  },
  {
   "cell_type": "code",
   "execution_count": 42,
   "metadata": {},
   "outputs": [
    {
     "name": "stdout",
     "output_type": "stream",
     "text": [
      "로우 방향으로 정렬:\n",
      " [[ 7  1]\n",
      " [ 8 12]]\n",
      "컬럼 방향으로 정렬:\n",
      " [[ 8 12]\n",
      " [ 1  7]]\n",
      "원본 행렬:\n",
      " [[ 8 12]\n",
      " [ 1  7]]\n"
     ]
    }
   ],
   "source": [
    "array2d = np.array([[8, 12], \n",
    "                   [7, 1 ]])\n",
    "\n",
    "sort_array2d_axis0 = np.sort(array2d, axis=0)\n",
    "print('로우 방향으로 정렬:\\n', sort_array2d_axis0)\n",
    "\n",
    "sort_array2d_axis1 = np.sort(array2d, axis=1)\n",
    "print('컬럼 방향으로 정렬:\\n', sort_array2d_axis1)\n",
    "\n",
    "print('원본 행렬:\\n', np.sort(array2d))"
   ]
  },
  {
   "cell_type": "markdown",
   "metadata": {},
   "source": [
    "* 정렬 행렬의 인덱스 반환"
   ]
  },
  {
   "cell_type": "code",
   "execution_count": 43,
   "metadata": {},
   "outputs": [
    {
     "name": "stdout",
     "output_type": "stream",
     "text": [
      "<class 'numpy.ndarray'>\n",
      "행렬 정렬 시 원본 행렬의 인덱스: [1 0 3 2]\n"
     ]
    }
   ],
   "source": [
    "org_array = np.array([ 3, 1, 9, 5]) \n",
    "sort_indices = np.argsort(org_array)\n",
    "print(type(sort_indices))\n",
    "print('행렬 정렬 시 원본 행렬의 인덱스:', sort_indices)"
   ]
  },
  {
   "cell_type": "code",
   "execution_count": 44,
   "metadata": {},
   "outputs": [
    {
     "name": "stdout",
     "output_type": "stream",
     "text": [
      "행렬 내림차순 정렬 시 원본 행렬의 인덱스: [2 3 0 1]\n"
     ]
    }
   ],
   "source": [
    "org_array = np.array([ 3, 1, 9, 5]) \n",
    "sort_indices_desc = np.argsort(org_array)[::-1]\n",
    "print('행렬 내림차순 정렬 시 원본 행렬의 인덱스:', sort_indices_desc)"
   ]
  },
  {
   "cell_type": "code",
   "execution_count": 46,
   "metadata": {},
   "outputs": [
    {
     "name": "stdout",
     "output_type": "stream",
     "text": [
      "성적 오름차순 정렬 시 score_array의 인덱스: [0 2 4 1 3]\n",
      "성적 오름차순으로 name_array의 이름 출력: ['John' 'Sarah' 'Samuel' 'Mike' 'Kate']\n",
      "성적 오름차순으로 score_array의 성적 출력: [78 84 88 95 98]\n"
     ]
    }
   ],
   "source": [
    "import numpy as np\n",
    "\n",
    "name_array = np.array(['John', 'Mike', 'Sarah', 'Kate', 'Samuel'])\n",
    "score_array= np.array([78, 95, 84, 98, 88])\n",
    "\n",
    "sort_indices_asc = np.argsort(score_array)\n",
    "print('성적 오름차순 정렬 시 score_array의 인덱스:', sort_indices_asc)\n",
    "print('성적 오름차순으로 name_array의 이름 출력:', name_array[sort_indices_asc])\n",
    "print('성적 오름차순으로 score_array의 성적 출력:', score_array[sort_indices_asc])"
   ]
  },
  {
   "cell_type": "markdown",
   "metadata": {},
   "source": [
    "### 선형대수 연산 – 행렬 내적과 전치 행렬 구하기\n",
    "\n",
    "* 행렬 내적"
   ]
  },
  {
   "cell_type": "code",
   "execution_count": null,
   "metadata": {},
   "outputs": [],
   "source": [
    "A = np.array([[1, 2, 3],\n",
    "              [4, 5, 6]])\n",
    "B = np.array([[7, 8],\n",
    "              [9, 10],\n",
    "              [11, 12]])\n",
    "\n",
    "dot_product = np.dot(A, B)\n",
    "print('행렬 내적 결과:\\n', dot_product)"
   ]
  },
  {
   "cell_type": "markdown",
   "metadata": {},
   "source": [
    "* 전치 행렬"
   ]
  },
  {
   "cell_type": "code",
   "execution_count": null,
   "metadata": {},
   "outputs": [],
   "source": [
    "A = np.array([[1, 2],\n",
    "              [3, 4]])\n",
    "transpose_mat = np.transpose(A)\n",
    "print('A의 전치 행렬:\\n', transpose_mat)"
   ]
  },
  {
   "cell_type": "code",
   "execution_count": null,
   "metadata": {},
   "outputs": [],
   "source": []
  },
  {
   "cell_type": "code",
   "execution_count": null,
   "metadata": {},
   "outputs": [],
   "source": []
  }
 ],
 "metadata": {
  "kernelspec": {
   "display_name": "base",
   "language": "python",
   "name": "python3"
  },
  "language_info": {
   "codemirror_mode": {
    "name": "ipython",
    "version": 3
   },
   "file_extension": ".py",
   "mimetype": "text/x-python",
   "name": "python",
   "nbconvert_exporter": "python",
   "pygments_lexer": "ipython3",
   "version": "3.13.5"
  }
 },
 "nbformat": 4,
 "nbformat_minor": 2
}
