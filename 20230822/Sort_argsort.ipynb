{
  "nbformat": 4,
  "nbformat_minor": 0,
  "metadata": {
    "colab": {
      "provenance": [],
      "authorship_tag": "ABX9TyNtvnCo/+82oAK2i55xcaje",
      "include_colab_link": true
    },
    "kernelspec": {
      "name": "python3",
      "display_name": "Python 3"
    },
    "language_info": {
      "name": "python"
    }
  },
  "cells": [
    {
      "cell_type": "markdown",
      "metadata": {
        "id": "view-in-github",
        "colab_type": "text"
      },
      "source": [
        "<a href=\"https://colab.research.google.com/github/hundong2/machine_learning/blob/master/20230822/Sort_argsort.ipynb\" target=\"_parent\"><img src=\"https://colab.research.google.com/assets/colab-badge.svg\" alt=\"Open In Colab\"/></a>"
      ]
    },
    {
      "cell_type": "code",
      "execution_count": 1,
      "metadata": {
        "id": "5KsMbvzbj8qT"
      },
      "outputs": [],
      "source": [
        "import numpy as np\n"
      ]
    },
    {
      "cell_type": "code",
      "source": [
        "org_array = np.array([3,1,9,5])\n",
        "print(org_array)\n",
        "\n",
        "# np.sort()\n",
        "sort_array1 = np.sort(org_array)\n",
        "print('sort : ', sort_array1)\n",
        "\n",
        "# ndarray.sort()\n",
        "sort_array2 = org_array.sort()\n",
        "print('sort array : ', sort_array2 )\n",
        "print('sort array origin : ', org_array)"
      ],
      "metadata": {
        "colab": {
          "base_uri": "https://localhost:8080/"
        },
        "id": "-d4rl3MBkHXT",
        "outputId": "47bc8522-1690-4b32-9b7c-22290373761d"
      },
      "execution_count": 3,
      "outputs": [
        {
          "output_type": "stream",
          "name": "stdout",
          "text": [
            "[3 1 9 5]\n",
            "sort :  [1 3 5 9]\n",
            "sort array :  None\n",
            "sort array origin :  [1 3 5 9]\n"
          ]
        }
      ]
    },
    {
      "cell_type": "code",
      "source": [
        "sort_array1_desc = np.sort(org_array)[::-1]\n",
        "print(sort_array1_desc)"
      ],
      "metadata": {
        "colab": {
          "base_uri": "https://localhost:8080/"
        },
        "id": "R3R6XI-qljju",
        "outputId": "9ce8e5b5-3ddd-4bad-d45e-ad7468686fd0"
      },
      "execution_count": 4,
      "outputs": [
        {
          "output_type": "stream",
          "name": "stdout",
          "text": [
            "[9 5 3 1]\n"
          ]
        }
      ]
    },
    {
      "cell_type": "code",
      "source": [
        "array2d = np.array([[8, 12], [7,1]])\n",
        "sort_array2d_axis0 = np.sort(array2d, axis=0) # row\n",
        "sort_array2d_axis1 = np.sort(array2d, axis=1) # col\n",
        "\n",
        "\n",
        "print(sort_array2d_axis0)\n",
        "print(sort_array2d_axis1)"
      ],
      "metadata": {
        "colab": {
          "base_uri": "https://localhost:8080/"
        },
        "id": "69LfQU7HmBBX",
        "outputId": "9afb82f8-b0b1-40a8-a85d-53745fbf6e06"
      },
      "execution_count": 6,
      "outputs": [
        {
          "output_type": "stream",
          "name": "stdout",
          "text": [
            "[[ 7  1]\n",
            " [ 8 12]]\n",
            "[[ 8 12]\n",
            " [ 1  7]]\n"
          ]
        }
      ]
    },
    {
      "cell_type": "markdown",
      "source": [
        "# 정렬 된 행렬의 인덱스를 반환하기\n",
        "\n",
        "np.argsort() 는 정렬 행렬의 원본 행렬 인덱스를 ndarray 형으로 반환한다.\n"
      ],
      "metadata": {
        "id": "u0tJw1RZm55A"
      }
    },
    {
      "cell_type": "code",
      "source": [
        "org_array = np.array([3, 1, 9, 5])\n",
        "sort_indices = np.argsort(org_array)\n",
        "print(type(sort_indices))\n",
        "print(' index array ', sort_indices)"
      ],
      "metadata": {
        "colab": {
          "base_uri": "https://localhost:8080/"
        },
        "id": "vTX_195YnKsK",
        "outputId": "08a4258e-9a8f-4cc6-8e4a-e1775b73bf39"
      },
      "execution_count": 9,
      "outputs": [
        {
          "output_type": "stream",
          "name": "stdout",
          "text": [
            "<class 'numpy.ndarray'>\n",
            " index array  [1 0 3 2]\n"
          ]
        }
      ]
    },
    {
      "cell_type": "markdown",
      "source": [
        "# ndarray 에 array 배열을 index를 넣으면 index 순으로 정렬이 된다."
      ],
      "metadata": {
        "id": "bkreFb0OoWR_"
      }
    },
    {
      "cell_type": "code",
      "source": [
        "name_array = np.array(['A', 'B', 'C', 'D', 'E'])\n",
        "score_array = np.array([70, 99, 83, 97, 89])\n",
        "\n",
        "sort_indices_asc = np.argsort(score_array)\n",
        "print('sort indices asc ', sort_indices_asc)\n",
        "print('score asc : ', name_array[sort_indices_asc])"
      ],
      "metadata": {
        "colab": {
          "base_uri": "https://localhost:8080/"
        },
        "id": "0upYARFeojr0",
        "outputId": "9a0775ab-71d3-41ed-a834-5175e4a7df47"
      },
      "execution_count": 11,
      "outputs": [
        {
          "output_type": "stream",
          "name": "stdout",
          "text": [
            "sort indices asc  [0 2 4 3 1]\n",
            "score asc :  ['A' 'C' 'E' 'D' 'B']\n"
          ]
        }
      ]
    }
  ]
}