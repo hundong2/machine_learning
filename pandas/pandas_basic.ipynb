{
 "cells": [
  {
   "cell_type": "markdown",
   "id": "46563592",
   "metadata": {},
   "source": [
    "# pandas\n",
    "\n",
    "## DataFrame\n",
    "\n",
    "- 엑셀 시트와 같은 형테로 데이터를 표현\n",
    "\n",
    "## Series\n",
    "\n",
    "- 데이터 프레임의 한열을 나타내는데 사용되는 자료구조.\n",
    "- 시리즈는 엑셀의 한열과 유사 \n",
    "- 기본적으로 인덱스(index)와 값(value)로 이루어져 있다. "
   ]
  },
  {
   "cell_type": "code",
   "execution_count": 1,
   "id": "c42cf9ed",
   "metadata": {},
   "outputs": [
    {
     "name": "stdout",
     "output_type": "stream",
     "text": [
      "0    10\n",
      "1    20\n",
      "2    30\n",
      "3    40\n",
      "4    50\n",
      "dtype: int64\n",
      "<class 'pandas.core.series.Series'>\n"
     ]
    }
   ],
   "source": [
    "import pandas as pd\n",
    "# pandas Series\n",
    "\n",
    "data = [ 10, 20, 30, 40, 50]\n",
    "series1 = pd.Series(data)\n",
    "print(series1)\n",
    "print(type(series1))"
   ]
  },
  {
   "cell_type": "code",
   "execution_count": 3,
   "id": "3862e812",
   "metadata": {},
   "outputs": [
    {
     "name": "stdout",
     "output_type": "stream",
     "text": [
      "array type <class 'numpy.ndarray'>\n",
      "0    10\n",
      "1    20\n",
      "2    30\n",
      "3    40\n",
      "4    50\n",
      "dtype: int64\n"
     ]
    }
   ],
   "source": [
    "# numpy array로부터 Series 생성\n",
    "import numpy as np\n",
    "data_array = np.array([10, 20, 30, 40, 50])\n",
    "print('array type', type(data_array))\n",
    "series2 = pd.Series(data_array)\n",
    "print(series2)"
   ]
  },
  {
   "cell_type": "code",
   "execution_count": 4,
   "id": "af99a67a",
   "metadata": {},
   "outputs": [
    {
     "data": {
      "text/plain": [
       "a    10\n",
       "b    20\n",
       "c    30\n",
       "d    40\n",
       "e    50\n",
       "dtype: int64"
      ]
     },
     "execution_count": 4,
     "metadata": {},
     "output_type": "execute_result"
    }
   ],
   "source": [
    "data_dict = {\n",
    "    'a': 10,\n",
    "    'b': 20,\n",
    "    'c': 30,\n",
    "    'd': 40,\n",
    "    'e': 50\n",
    "}\n",
    "series = pd.Series(data_dict)\n",
    "series"
   ]
  },
  {
   "cell_type": "code",
   "execution_count": 5,
   "id": "3d571845",
   "metadata": {},
   "outputs": [
    {
     "data": {
      "text/plain": [
       "0    10\n",
       "1    20\n",
       "2    30\n",
       "3    40\n",
       "4    50\n",
       "Name: MySeries, dtype: int64"
      ]
     },
     "execution_count": 5,
     "metadata": {},
     "output_type": "execute_result"
    }
   ],
   "source": [
    "data = [10, 20, 30, 40, 50]\n",
    "series = pd.Series(data, name='MySeries')\n",
    "series"
   ]
  },
  {
   "cell_type": "code",
   "execution_count": 6,
   "id": "8de8c2e7",
   "metadata": {},
   "outputs": [
    {
     "data": {
      "text/plain": [
       "0    10.0\n",
       "1    20.0\n",
       "2    30.0\n",
       "3    40.0\n",
       "4    50.0\n",
       "Name: MySeries, dtype: float64"
      ]
     },
     "execution_count": 6,
     "metadata": {},
     "output_type": "execute_result"
    }
   ],
   "source": [
    "data = [10, 20, 30, 40, 50]\n",
    "series = pd.Series(data, name='MySeries', dtype='float')\n",
    "series"
   ]
  },
  {
   "cell_type": "markdown",
   "id": "82d0ce5e",
   "metadata": {},
   "source": [
    "# dtype \n",
    "| type      | 설명           |\n",
    "|-----------|----------------|\n",
    "| int       | 정수형 데이터   |\n",
    "| float     | 부동소수점 데이터|\n",
    "| complex   | 복소수 데이터   |\n",
    "| bool      | True/False 논리값|\n",
    "| object    | 문자열 등 일반 객체|\n",
    "| category  | 범주형 데이터   |\n",
    "| datetime64| 날짜/시간 데이터|\n",
    "| timedelta64| 시간 간격 데이터|\n",
    "| string    | 문자열 데이터   |\n",
    "| uint      | 부호 없는 정수  |\n"
   ]
  },
  {
   "cell_type": "code",
   "execution_count": null,
   "id": "8f8a2d7c",
   "metadata": {},
   "outputs": [],
   "source": [
    "# 🎯 dtype 파라미터를 사용하는 이유\n",
    "\n",
    "## 1️⃣ 메모리 효율성 최적화\n",
    "- 적절한 데이터 타입 선택으로 메모리 사용량 크게 절약\n",
    "- 대용량 데이터 처리 시 성능 향상\n",
    "\n",
    "## 2️⃣ 연산 속도 향상\n",
    "- 데이터 타입이 명확하면 연산 속도 빨라짐\n",
    "- 타입 변환 오버헤드 감소\n",
    "\n",
    "## 3️⃣ 데이터 무결성 보장\n",
    "- 예상치 못한 타입 변환 방지\n",
    "- 일관된 데이터 처리 보장\n",
    "\n",
    "## 4️⃣ 명시적 의도 표현\n",
    "- 코드의 가독성과 유지보수성 향상\n",
    "- 데이터 처리 의도를 명확히 표현"
   ]
  },
  {
   "cell_type": "code",
   "execution_count": 7,
   "id": "5acf5849",
   "metadata": {},
   "outputs": [
    {
     "name": "stdout",
     "output_type": "stream",
     "text": [
      "=== 1. 메모리 효율성 비교 ===\n",
      "기본 타입: int64\n",
      "메모리 사용량: 40132 bytes\n",
      "int32 타입: int32\n",
      "메모리 사용량: 20132 bytes\n",
      "int8 타입: int8\n",
      "메모리 사용량: 5132 bytes\n",
      "\n",
      "💡 메모리 절약률: 87.2%\n"
     ]
    }
   ],
   "source": [
    "print(\"=== 1. 메모리 효율성 비교 ===\")\n",
    "\n",
    "# 같은 데이터를 다른 dtype으로 생성\n",
    "data = [1, 2, 3, 4, 5] * 1000  # 5000개 데이터\n",
    "\n",
    "# 기본 타입 (추론)\n",
    "series_default = pd.Series(data)\n",
    "print(f\"기본 타입: {series_default.dtype}\")\n",
    "print(f\"메모리 사용량: {series_default.memory_usage(deep=True)} bytes\")\n",
    "\n",
    "# int32로 명시적 지정\n",
    "series_int32 = pd.Series(data, dtype='int32')\n",
    "print(f\"int32 타입: {series_int32.dtype}\")\n",
    "print(f\"메모리 사용량: {series_int32.memory_usage(deep=True)} bytes\")\n",
    "\n",
    "# int8로 명시적 지정 (값이 1-5이므로 충분)\n",
    "series_int8 = pd.Series(data, dtype='int8')\n",
    "print(f\"int8 타입: {series_int8.dtype}\") \n",
    "print(f\"메모리 사용량: {series_int8.memory_usage(deep=True)} bytes\")\n",
    "\n",
    "print(f\"\\n💡 메모리 절약률: {((series_default.memory_usage(deep=True) - series_int8.memory_usage(deep=True)) / series_default.memory_usage(deep=True) * 100):.1f}%\")"
   ]
  },
  {
   "cell_type": "code",
   "execution_count": 11,
   "id": "79389f17",
   "metadata": {},
   "outputs": [
    {
     "name": "stdout",
     "output_type": "stream",
     "text": [
      "\n",
      "=== 2. 연산 속도 비교 ===\n",
      "기본 타입 연산 시간: 0.015148초\n",
      "int32 타입 연산 시간: 0.007144초\n",
      "속도 향상: 2.12배\n",
      "\n",
      "기본 추론 타입: int64\n",
      "명시 지정 타입: int32\n"
     ]
    }
   ],
   "source": [
    "print(\"\\n=== 2. 연산 속도 비교 ===\")\n",
    "import time\n",
    "\n",
    "# 대용량 데이터 생성\n",
    "large_data = list(range(100000))\n",
    "\n",
    "# 기본 타입으로 생성\n",
    "start_time = time.time()\n",
    "series_default = pd.Series(large_data)\n",
    "result1 = series_default * 2\n",
    "time_default = time.time() - start_time\n",
    "\n",
    "# 명시적 int32 타입으로 생성\n",
    "start_time = time.time()\n",
    "series_int32 = pd.Series(large_data, dtype='int32')\n",
    "result2 = series_int32 * 2\n",
    "time_int32 = time.time() - start_time\n",
    "\n",
    "print(f\"기본 타입 연산 시간: {time_default:.6f}초\")\n",
    "print(f\"int32 타입 연산 시간: {time_int32:.6f}초\")\n",
    "print(f\"속도 향상: {(time_default/time_int32):.2f}배\")\n",
    "\n",
    "# 타입 확인\n",
    "print(f\"\\n기본 추론 타입: {series_default.dtype}\")\n",
    "print(f\"명시 지정 타입: {series_int32.dtype}\")"
   ]
  },
  {
   "cell_type": "code",
   "execution_count": 8,
   "id": "ead8c278",
   "metadata": {},
   "outputs": [
    {
     "name": "stdout",
     "output_type": "stream",
     "text": [
      "\n",
      "=== 3. 데이터 무결성 보장 ===\n",
      "🚨 dtype 미지정 시 문제점:\n",
      "자동 추론 타입: object\n",
      "데이터: [1, 2, 3, '4', 5]\n",
      "모든 데이터가 문자열로 변환됨! ❌\n",
      "\n",
      "✅ dtype 명시 시 해결:\n",
      "정수 변환 성공\n",
      "\n",
      "올바른 데이터 타입: int32\n",
      "데이터: [1, 2, 3, 4, 5]\n"
     ]
    }
   ],
   "source": [
    "print(\"\\n=== 3. 데이터 무결성 보장 ===\")\n",
    "\n",
    "# 문제 상황: 의도치 않은 타입 변환\n",
    "print(\"🚨 dtype 미지정 시 문제점:\")\n",
    "mixed_data = [1, 2, 3, '4', 5]  # 문자열이 섞인 데이터\n",
    "series_auto = pd.Series(mixed_data)\n",
    "print(f\"자동 추론 타입: {series_auto.dtype}\")\n",
    "print(f\"데이터: {series_auto.tolist()}\")\n",
    "print(f\"모든 데이터가 문자열로 변환됨! ❌\")\n",
    "\n",
    "print(\"\\n✅ dtype 명시 시 해결:\")\n",
    "try:\n",
    "    # 정수형으로 강제 지정\n",
    "    series_int = pd.Series(mixed_data, dtype='int')\n",
    "    print(\"정수 변환 성공\")\n",
    "except ValueError as e:\n",
    "    print(f\"타입 오류 감지: {e}\")\n",
    "    print(\"데이터 품질 문제를 사전에 발견! ✅\")\n",
    "\n",
    "# 올바른 데이터로 재시도\n",
    "clean_data = [1, 2, 3, 4, 5]\n",
    "series_clean = pd.Series(clean_data, dtype='int32')\n",
    "print(f\"\\n올바른 데이터 타입: {series_clean.dtype}\")\n",
    "print(f\"데이터: {series_clean.tolist()}\")"
   ]
  },
  {
   "cell_type": "code",
   "execution_count": 9,
   "id": "03d40fde",
   "metadata": {},
   "outputs": [
    {
     "name": "stdout",
     "output_type": "stream",
     "text": [
      "\n",
      "=== 4. 실무 활용 예시 ===\n",
      "📊 범주형 데이터 활용:\n",
      "문자열 타입 메모리: 490132 bytes\n",
      "범주형 타입 메모리: 7471 bytes\n",
      "메모리 절약: 98.6%\n",
      "\n",
      "범주형 데이터 정보:\n",
      "카테고리: ['대기', '완료', '진행']\n",
      "카테고리 개수: 3\n",
      "\n",
      "🔘 불린 데이터 활용:\n",
      "불린 타입 메모리: 5132 bytes\n",
      "True 개수: 3000\n",
      "False 개수: 2000\n"
     ]
    }
   ],
   "source": [
    "print(\"\\n=== 4. 실무 활용 예시 ===\")\n",
    "\n",
    "# 예시 1: 범주형 데이터 (category)\n",
    "print(\"📊 범주형 데이터 활용:\")\n",
    "status_data = ['대기', '진행', '완료', '대기', '완료', '진행', '대기'] * 1000\n",
    "\n",
    "# 일반 문자열로 저장\n",
    "series_str = pd.Series(status_data, dtype='object')\n",
    "print(f\"문자열 타입 메모리: {series_str.memory_usage(deep=True)} bytes\")\n",
    "\n",
    "# 범주형으로 저장\n",
    "series_cat = pd.Series(status_data, dtype='category')\n",
    "print(f\"범주형 타입 메모리: {series_cat.memory_usage(deep=True)} bytes\")\n",
    "print(f\"메모리 절약: {((series_str.memory_usage(deep=True) - series_cat.memory_usage(deep=True)) / series_str.memory_usage(deep=True) * 100):.1f}%\")\n",
    "\n",
    "print(f\"\\n범주형 데이터 정보:\")\n",
    "print(f\"카테고리: {series_cat.cat.categories.tolist()}\")\n",
    "print(f\"카테고리 개수: {series_cat.nunique()}\")\n",
    "\n",
    "# 예시 2: 불린 데이터 (bool)\n",
    "print(\"\\n🔘 불린 데이터 활용:\")\n",
    "boolean_data = [True, False, True, True, False] * 1000\n",
    "\n",
    "series_bool = pd.Series(boolean_data, dtype='bool')\n",
    "print(f\"불린 타입 메모리: {series_bool.memory_usage(deep=True)} bytes\")\n",
    "print(f\"True 개수: {series_bool.sum()}\")\n",
    "print(f\"False 개수: {(~series_bool).sum()}\")"
   ]
  },
  {
   "cell_type": "markdown",
   "id": "944988d6",
   "metadata": {},
   "source": [
    "## 🎯 dtype 선택 가이드\n",
    "\n",
    "### 📝 상황별 최적 dtype 선택\n",
    "\n",
    "| 데이터 종류 | 권장 dtype | 이유 | 예시 |\n",
    "|------------|-----------|------|------|\n",
    "| 작은 정수 (0-255) | `int8` | 메모리 절약 | 나이, 점수 |\n",
    "| 일반 정수 | `int32` | 성능과 메모리 균형 | ID, 개수 |\n",
    "| 큰 정수 | `int64` | 오버플로우 방지 | 인구수, 매출액 |\n",
    "| 소수점 | `float32` | 일반적인 정밀도 | 가격, 비율 |\n",
    "| 고정밀 소수 | `float64` | 높은 정밀도 | 과학적 계산 |\n",
    "| 범주형 | `category` | 메모리 절약 | 성별, 등급, 상태 |\n",
    "| 참/거짓 | `bool` | 명확성 | 플래그, 조건 |\n",
    "| 문자열 | `string` | 명시적 표현 | 이름, 주소 |\n",
    "| 날짜/시간 | `datetime64` | 시간 연산 | 생년월일, 주문일시 |\n",
    "\n",
    "### ⚡ 성능 최적화 팁\n",
    "\n",
    "1. **메모리 우선**: 데이터 범위에 맞는 최소 타입 선택\n",
    "2. **연산 우선**: 자주 계산하는 데이터는 적절한 숫자 타입\n",
    "3. **가독성 우선**: 코드 이해를 위해 명시적 타입 지정\n",
    "4. **호환성 고려**: 다른 시스템과의 데이터 교환 시 표준 타입 사용\n",
    "\n",
    "### 🚨 주의사항\n",
    "\n",
    "- **오버플로우**: 작은 타입 사용 시 값 범위 초과 주의\n",
    "- **정밀도 손실**: float32 사용 시 정밀도 확인\n",
    "- **타입 변환 비용**: 빈번한 타입 변환은 성능 저하\n",
    "- **호환성**: 외부 라이브러리와의 호환성 고려"
   ]
  },
  {
   "cell_type": "code",
   "execution_count": 10,
   "id": "48e889dd",
   "metadata": {},
   "outputs": [
    {
     "name": "stdout",
     "output_type": "stream",
     "text": [
      "=== 5. 실전 예시: 고객 데이터 최적화 ===\n",
      "📊 고객 데이터 최적화 전후 비교:\n",
      "최적화 전 총 메모리: 750,660 bytes\n",
      "최적화 후 총 메모리: 80,868 bytes\n",
      "메모리 절약률: 89.2%\n",
      "\n",
      "📋 컬럼별 최적화 결과:\n",
      "  customer_id: 80,132 → 40,132 bytes (49.9% 절약)\n",
      "  age: 80,132 → 10,132 bytes (87.4% 절약)\n",
      "  gender: 500,132 → 10,340 bytes (97.9% 절약)\n",
      "  is_premium: 10,132 → 10,132 bytes (0.0% 절약)\n",
      "  satisfaction: 80,132 → 10,132 bytes (87.4% 절약)\n",
      "\n",
      "🎉 결론: dtype 최적화로 메모리를 89.2% 절약했습니다!\n"
     ]
    }
   ],
   "source": [
    "print(\"=== 5. 실전 예시: 고객 데이터 최적화 ===\")\n",
    "\n",
    "# 고객 데이터 예시\n",
    "print(\"📊 고객 데이터 최적화 전후 비교:\")\n",
    "\n",
    "# 비최적화 버전\n",
    "customers_unoptimized = {\n",
    "    'customer_id': pd.Series([i for i in range(10000)]),  # 기본 int64\n",
    "    'age': pd.Series([25, 30, 35, 40, 45] * 2000),  # 기본 int64\n",
    "    'gender': pd.Series(['M', 'F'] * 5000),  # object\n",
    "    'is_premium': pd.Series([True, False] * 5000),  # bool (이미 최적)\n",
    "    'satisfaction': pd.Series([1, 2, 3, 4, 5] * 2000)  # 기본 int64\n",
    "}\n",
    "\n",
    "# 최적화 버전\n",
    "customers_optimized = {\n",
    "    'customer_id': pd.Series([i for i in range(10000)], dtype='int32'),\n",
    "    'age': pd.Series([25, 30, 35, 40, 45] * 2000, dtype='int8'),\n",
    "    'gender': pd.Series(['M', 'F'] * 5000, dtype='category'),\n",
    "    'is_premium': pd.Series([True, False] * 5000, dtype='bool'),\n",
    "    'satisfaction': pd.Series([1, 2, 3, 4, 5] * 2000, dtype='int8')\n",
    "}\n",
    "\n",
    "# 메모리 사용량 비교\n",
    "total_unoptimized = sum(series.memory_usage(deep=True) for series in customers_unoptimized.values())\n",
    "total_optimized = sum(series.memory_usage(deep=True) for series in customers_optimized.values())\n",
    "\n",
    "print(f\"최적화 전 총 메모리: {total_unoptimized:,} bytes\")\n",
    "print(f\"최적화 후 총 메모리: {total_optimized:,} bytes\")\n",
    "print(f\"메모리 절약률: {((total_unoptimized - total_optimized) / total_unoptimized * 100):.1f}%\")\n",
    "\n",
    "# 각 컬럼별 상세 비교\n",
    "print(f\"\\n📋 컬럼별 최적화 결과:\")\n",
    "for col in customers_unoptimized.keys():\n",
    "    before = customers_unoptimized[col].memory_usage(deep=True)\n",
    "    after = customers_optimized[col].memory_usage(deep=True)\n",
    "    savings = (before - after) / before * 100\n",
    "    print(f\"  {col}: {before:,} → {after:,} bytes ({savings:.1f}% 절약)\")\n",
    "\n",
    "print(f\"\\n🎉 결론: dtype 최적화로 메모리를 {((total_unoptimized - total_optimized) / total_unoptimized * 100):.1f}% 절약했습니다!\")"
   ]
  },
  {
   "cell_type": "code",
   "execution_count": 12,
   "id": "d326f663",
   "metadata": {},
   "outputs": [
    {
     "data": {
      "text/plain": [
       "a    1\n",
       "b    2\n",
       "c    3\n",
       "d    4\n",
       "Name: MySeries, dtype: int32"
      ]
     },
     "execution_count": 12,
     "metadata": {},
     "output_type": "execute_result"
    }
   ],
   "source": [
    "data1 = [1, 2, 3, 4]\n",
    "index = ['a', 'b', 'c', 'd']\n",
    "\n",
    "series = pd.Series(data1, index=index, name='MySeries', dtype='int32')\n",
    "series"
   ]
  },
  {
   "cell_type": "markdown",
   "id": "7b027391",
   "metadata": {},
   "source": [
    "# Pandas Series\n"
   ]
  },
  {
   "cell_type": "code",
   "execution_count": 13,
   "id": "17fffb12",
   "metadata": {},
   "outputs": [
    {
     "name": "stdout",
     "output_type": "stream",
     "text": [
      "a    1\n",
      "b    2\n",
      "c    3\n",
      "d    4\n",
      "e    5\n",
      "f    6\n",
      "g    7\n",
      "h    8\n",
      "Name: MySeries, dtype: int32\n"
     ]
    }
   ],
   "source": [
    "import pandas as pd\n",
    "\n",
    "data1 = [1, 2, 3, 4, 5, 6, 7, 8]\n",
    "index = ['a', 'b', 'c', 'd', 'e', 'f', 'g', 'h']\n",
    "\n",
    "series = pd.Series(data1, index=index, name='MySeries', dtype='int32')\n",
    "print(series)"
   ]
  },
  {
   "cell_type": "code",
   "execution_count": 14,
   "id": "cb7a67c0",
   "metadata": {},
   "outputs": [
    {
     "data": {
      "text/plain": [
       "array([1, 2, 3, 4, 5, 6, 7, 8], dtype=int32)"
      ]
     },
     "execution_count": 14,
     "metadata": {},
     "output_type": "execute_result"
    }
   ],
   "source": [
    "series.values"
   ]
  },
  {
   "cell_type": "code",
   "execution_count": 15,
   "id": "c3410dec",
   "metadata": {},
   "outputs": [
    {
     "data": {
      "text/plain": [
       "Index(['a', 'b', 'c', 'd', 'e', 'f', 'g', 'h'], dtype='object')"
      ]
     },
     "execution_count": 15,
     "metadata": {},
     "output_type": "execute_result"
    }
   ],
   "source": [
    "series.index"
   ]
  },
  {
   "cell_type": "code",
   "execution_count": 16,
   "id": "0faddce8",
   "metadata": {},
   "outputs": [
    {
     "data": {
      "text/plain": [
       "'MySeries'"
      ]
     },
     "execution_count": 16,
     "metadata": {},
     "output_type": "execute_result"
    }
   ],
   "source": [
    "series.name"
   ]
  },
  {
   "cell_type": "code",
   "execution_count": 17,
   "id": "042e80b0",
   "metadata": {},
   "outputs": [
    {
     "data": {
      "text/plain": [
       "dtype('int32')"
      ]
     },
     "execution_count": 17,
     "metadata": {},
     "output_type": "execute_result"
    }
   ],
   "source": [
    "series.dtype"
   ]
  },
  {
   "cell_type": "code",
   "execution_count": 18,
   "id": "0d3fae49",
   "metadata": {},
   "outputs": [
    {
     "data": {
      "text/plain": [
       "a    1.0\n",
       "b    2.0\n",
       "c    3.0\n",
       "d    4.0\n",
       "e    5.0\n",
       "f    6.0\n",
       "g    7.0\n",
       "h    8.0\n",
       "Name: MySeries, dtype: float64"
      ]
     },
     "execution_count": 18,
     "metadata": {},
     "output_type": "execute_result"
    }
   ],
   "source": [
    "series = series.astype('float')\n",
    "series"
   ]
  },
  {
   "cell_type": "code",
   "execution_count": 19,
   "id": "9b0f2b36",
   "metadata": {},
   "outputs": [
    {
     "data": {
      "text/plain": [
       "a    1.0\n",
       "b    2.0\n",
       "c    3.0\n",
       "d    4.0\n",
       "e    5.0\n",
       "Name: MySeries, dtype: float64"
      ]
     },
     "execution_count": 19,
     "metadata": {},
     "output_type": "execute_result"
    }
   ],
   "source": [
    "series.head()"
   ]
  },
  {
   "cell_type": "code",
   "execution_count": 20,
   "id": "fe1545eb",
   "metadata": {},
   "outputs": [
    {
     "data": {
      "text/plain": [
       "d    4.0\n",
       "e    5.0\n",
       "f    6.0\n",
       "g    7.0\n",
       "h    8.0\n",
       "Name: MySeries, dtype: float64"
      ]
     },
     "execution_count": 20,
     "metadata": {},
     "output_type": "execute_result"
    }
   ],
   "source": [
    "series.tail()"
   ]
  },
  {
   "cell_type": "code",
   "execution_count": 21,
   "id": "6caf84e4",
   "metadata": {},
   "outputs": [
    {
     "data": {
      "text/plain": [
       "count    8.00000\n",
       "mean     4.50000\n",
       "std      2.44949\n",
       "min      1.00000\n",
       "25%      2.75000\n",
       "50%      4.50000\n",
       "75%      6.25000\n",
       "max      8.00000\n",
       "Name: MySeries, dtype: float64"
      ]
     },
     "execution_count": 21,
     "metadata": {},
     "output_type": "execute_result"
    }
   ],
   "source": [
    "series.describe()"
   ]
  },
  {
   "cell_type": "markdown",
   "id": "48d1c06b",
   "metadata": {},
   "source": [
    "# Series calculator\n"
   ]
  },
  {
   "cell_type": "code",
   "execution_count": 22,
   "id": "2600f250",
   "metadata": {},
   "outputs": [],
   "source": [
    "import pandas as pd\n",
    "\n",
    "data1 = [10, 20, 30, 40]\n",
    "data2 = [5, 15, 25, 35]\n",
    "index = ['a', 'b', 'c', 'd']\n",
    "\n",
    "series1 = pd.Series(data1, index=index)\n",
    "series2 = pd.Series(data2, index=index)"
   ]
  },
  {
   "cell_type": "code",
   "execution_count": 24,
   "id": "5d36ccce",
   "metadata": {},
   "outputs": [
    {
     "data": {
      "text/plain": [
       "a    15\n",
       "b    35\n",
       "c    55\n",
       "d    75\n",
       "dtype: int64"
      ]
     },
     "execution_count": 24,
     "metadata": {},
     "output_type": "execute_result"
    }
   ],
   "source": [
    "addition_result = series1 + series2\n",
    "addition_result"
   ]
  },
  {
   "cell_type": "code",
   "execution_count": 25,
   "id": "6c7cd850",
   "metadata": {},
   "outputs": [
    {
     "name": "stdout",
     "output_type": "stream",
     "text": [
      "a    5\n",
      "b    5\n",
      "c    5\n",
      "d    5\n",
      "dtype: int64\n",
      "a      50\n",
      "b     300\n",
      "c     750\n",
      "d    1400\n",
      "dtype: int64\n",
      "a    2.000000\n",
      "b    1.333333\n",
      "c    1.200000\n",
      "d    1.142857\n",
      "dtype: float64\n"
     ]
    }
   ],
   "source": [
    "subtraction_result = series1 - series2\n",
    "multiplication_result = series1 * series2\n",
    "division_result = series1 / series2\n",
    "\n",
    "print(subtraction_result)\n",
    "print(multiplication_result)\n",
    "print(division_result)"
   ]
  },
  {
   "cell_type": "code",
   "execution_count": 27,
   "id": "5ce685dd",
   "metadata": {},
   "outputs": [
    {
     "name": "stdout",
     "output_type": "stream",
     "text": [
      "a    20\n",
      "b    30\n",
      "c    40\n",
      "d    50\n",
      "dtype: int64\n"
     ]
    }
   ],
   "source": [
    "# scalar 연산\n",
    "\n",
    "addition_result = series1 + 10\n",
    "print(addition_result)"
   ]
  },
  {
   "cell_type": "code",
   "execution_count": 28,
   "id": "8734e253",
   "metadata": {},
   "outputs": [
    {
     "data": {
      "text/plain": [
       "a     100\n",
       "b     400\n",
       "c     900\n",
       "d    1600\n",
       "dtype: int64"
      ]
     },
     "execution_count": 28,
     "metadata": {},
     "output_type": "execute_result"
    }
   ],
   "source": [
    "squared_series = series1 ** 2\n",
    "squared_series"
   ]
  },
  {
   "cell_type": "code",
   "execution_count": null,
   "id": "fe9cb72f",
   "metadata": {},
   "outputs": [],
   "source": [
    "# 📊 NumPy 통계 연산 완전 가이드\n",
    "\n",
    "## 🎯 NumPy 통계 연산이란?\n",
    "\n",
    "NumPy는 다차원 배열 데이터의 **기술통계량**(Descriptive Statistics)을 계산하는 강력한 함수들을 제공합니다.\n",
    "이러한 함수들은 데이터 분석의 첫 단계인 **탐색적 데이터 분석(EDA)**에서 핵심적인 역할을 합니다.\n",
    "\n",
    "## 📋 주요 통계 연산 분류\n",
    "\n",
    "### 1️⃣ 중심 경향성 (Central Tendency)\n",
    "- **평균(Mean)**: 데이터의 중심값\n",
    "- **중앙값(Median)**: 순서대로 정렬했을 때 가운데 값\n",
    "- **최빈값(Mode)**: 가장 자주 나타나는 값\n",
    "\n",
    "### 2️⃣ 분산도 (Dispersion)\n",
    "- **분산(Variance)**: 데이터의 퍼짐 정도\n",
    "- **표준편차(Standard Deviation)**: 분산의 제곱근\n",
    "- **범위(Range)**: 최댓값 - 최솟값\n",
    "\n",
    "### 3️⃣ 위치 통계량 (Position Statistics)\n",
    "- **최솟값/최댓값**: 데이터의 극값\n",
    "- **백분위수(Percentile)**: 데이터의 상대적 위치\n",
    "- **사분위수(Quartile)**: 25%, 50%, 75% 위치값"
   ]
  },
  {
   "cell_type": "code",
   "execution_count": 29,
   "id": "21d5575f",
   "metadata": {},
   "outputs": [
    {
     "name": "stdout",
     "output_type": "stream",
     "text": [
      "=== 📊 NumPy 기본 통계 연산 ===\n",
      "📝 시험 점수 데이터 (20명):\n",
      "   [85 92 78 96 88 76 94 82 90 87 79 93 86 91 84 89 77 95 83 88]\n",
      "   데이터 형태: (20,)\n",
      "   데이터 타입: int64\n",
      "\n",
      "🎯 1. 중심 경향성 (Central Tendency)\n",
      "   평균 (Mean): 86.65점\n",
      "   중앙값 (Median): 87.50점\n",
      "   최빈값 (Mode): 88점 (출현횟수: 2회)\n",
      "\n",
      "📏 2. 분산도 (Dispersion)\n",
      "   분산 (Variance): 35.23\n",
      "   표준편차 (Std Dev): 5.94\n",
      "   범위 (Range): 20점 (76 ~ 96)\n",
      "\n",
      "📍 3. 위치 통계량 (Position Statistics)\n",
      "   최솟값 (Min): 76점\n",
      "   최댓값 (Max): 96점\n",
      "   25% 백분위수 (Q1): 82.8점\n",
      "   50% 백분위수 (Q2/Median): 87.5점\n",
      "   75% 백분위수 (Q3): 91.2점\n"
     ]
    }
   ],
   "source": [
    "print(\"=== 📊 NumPy 기본 통계 연산 ===\")\n",
    "import numpy as np\n",
    "\n",
    "# 샘플 데이터 생성 (학생들의 시험 점수)\n",
    "scores = np.array([85, 92, 78, 96, 88, 76, 94, 82, 90, 87, \n",
    "                   79, 93, 86, 91, 84, 89, 77, 95, 83, 88])\n",
    "\n",
    "print(f\"📝 시험 점수 데이터 (20명):\")\n",
    "print(f\"   {scores}\")\n",
    "print(f\"   데이터 형태: {scores.shape}\")\n",
    "print(f\"   데이터 타입: {scores.dtype}\")\n",
    "\n",
    "print(f\"\\n🎯 1. 중심 경향성 (Central Tendency)\")\n",
    "print(f\"   평균 (Mean): {np.mean(scores):.2f}점\")\n",
    "print(f\"   중앙값 (Median): {np.median(scores):.2f}점\")\n",
    "\n",
    "# 최빈값은 별도 계산 (NumPy에는 mode 함수가 없음)\n",
    "from scipy import stats\n",
    "mode_result = stats.mode(scores, keepdims=True)\n",
    "print(f\"   최빈값 (Mode): {mode_result.mode[0]}점 (출현횟수: {mode_result.count[0]}회)\")\n",
    "\n",
    "print(f\"\\n📏 2. 분산도 (Dispersion)\")\n",
    "print(f\"   분산 (Variance): {np.var(scores):.2f}\")\n",
    "print(f\"   표준편차 (Std Dev): {np.std(scores):.2f}\")\n",
    "print(f\"   범위 (Range): {np.ptp(scores)}점 ({np.min(scores)} ~ {np.max(scores)})\")\n",
    "\n",
    "print(f\"\\n📍 3. 위치 통계량 (Position Statistics)\")\n",
    "print(f\"   최솟값 (Min): {np.min(scores)}점\")\n",
    "print(f\"   최댓값 (Max): {np.max(scores)}점\")\n",
    "print(f\"   25% 백분위수 (Q1): {np.percentile(scores, 25):.1f}점\")\n",
    "print(f\"   50% 백분위수 (Q2/Median): {np.percentile(scores, 50):.1f}점\")\n",
    "print(f\"   75% 백분위수 (Q3): {np.percentile(scores, 75):.1f}점\")"
   ]
  },
  {
   "cell_type": "code",
   "execution_count": 30,
   "id": "e8558681",
   "metadata": {},
   "outputs": [
    {
     "name": "stdout",
     "output_type": "stream",
     "text": [
      "\n",
      "=== 🎲 다차원 배열 통계 연산 ===\n",
      "📚 반별 시험 점수 (3반 x 5명):\n",
      "[[85 92 78 96 88]\n",
      " [76 94 82 90 87]\n",
      " [79 93 86 91 84]]\n",
      "배열 형태: (3, 5)\n",
      "\n",
      "🎯 축(axis) 기반 연산:\n",
      "   전체 평균: 86.73점\n",
      "   반별 평균 (axis=1): [87.8 85.8 86.6]\n",
      "   과목별 평균 (axis=0): [80.         93.         82.         92.33333333 86.33333333]\n",
      "\n",
      "📊 반별 상세 통계:\n",
      "   1반: 평균 87.8, 표준편차 6.1, 최고점 96, 최저점 78\n",
      "   2반: 평균 85.8, 표준편차 6.3, 최고점 94, 최저점 76\n",
      "   3반: 평균 86.6, 표준편차 5.0, 최고점 93, 최저점 79\n",
      "\n",
      "🏆 학급별 성과 비교:\n",
      "   최고 성과 반: 1반 (평균 87.8점)\n",
      "   최저 성과 반: 2반 (평균 85.8점)\n",
      "   반별 편차: 0.82점\n"
     ]
    }
   ],
   "source": [
    "print(\"\\n=== 🎲 다차원 배열 통계 연산 ===\")\n",
    "\n",
    "# 2차원 배열 생성 (3개 반의 5명씩 시험 점수)\n",
    "class_scores = np.array([\n",
    "    [85, 92, 78, 96, 88],  # 1반\n",
    "    [76, 94, 82, 90, 87],  # 2반\n",
    "    [79, 93, 86, 91, 84]   # 3반\n",
    "])\n",
    "\n",
    "print(\"📚 반별 시험 점수 (3반 x 5명):\")\n",
    "print(class_scores)\n",
    "print(f\"배열 형태: {class_scores.shape}\")\n",
    "\n",
    "print(f\"\\n🎯 축(axis) 기반 연산:\")\n",
    "print(f\"   전체 평균: {np.mean(class_scores):.2f}점\")\n",
    "print(f\"   반별 평균 (axis=1): {np.mean(class_scores, axis=1)}\")  # 각 반의 평균\n",
    "print(f\"   과목별 평균 (axis=0): {np.mean(class_scores, axis=0)}\")  # 각 위치별 평균\n",
    "\n",
    "print(f\"\\n📊 반별 상세 통계:\")\n",
    "for i, class_data in enumerate(class_scores, 1):\n",
    "    print(f\"   {i}반: 평균 {np.mean(class_data):.1f}, \"\n",
    "          f\"표준편차 {np.std(class_data):.1f}, \"\n",
    "          f\"최고점 {np.max(class_data)}, \"\n",
    "          f\"최저점 {np.min(class_data)}\")\n",
    "\n",
    "print(f\"\\n🏆 학급별 성과 비교:\")\n",
    "class_means = np.mean(class_scores, axis=1)\n",
    "best_class = np.argmax(class_means) + 1\n",
    "worst_class = np.argmin(class_means) + 1\n",
    "print(f\"   최고 성과 반: {best_class}반 (평균 {class_means[best_class-1]:.1f}점)\")\n",
    "print(f\"   최저 성과 반: {worst_class}반 (평균 {class_means[worst_class-1]:.1f}점)\")\n",
    "print(f\"   반별 편차: {np.std(class_means):.2f}점\")"
   ]
  },
  {
   "cell_type": "code",
   "execution_count": 31,
   "id": "e2280579",
   "metadata": {},
   "outputs": [
    {
     "name": "stdout",
     "output_type": "stream",
     "text": [
      "\n",
      "=== 🔍 고급 통계 연산 함수들 ===\n",
      "📈 주식 수익률 데이터 분석:\n",
      "   데이터 개수: 252일\n",
      "   평균 일일 수익률: 0.092%\n",
      "\n",
      "🎯 분위수(Quantile) 분석:\n",
      "    0% 분위수: -5.139%\n",
      "    5% 분위수: -2.890%\n",
      "   10% 분위수: -2.360%\n",
      "   25% 분위수: -1.271%\n",
      "   50% 분위수:  0.218%\n",
      "   75% 분위수:  1.286%\n",
      "   90% 분위수:  2.277%\n",
      "   95% 분위수:  3.213%\n",
      "   100% 분위수:  7.805%\n",
      "\n",
      "📊 분포 특성 분석:\n",
      "   왜도 (Skewness): 0.300\n",
      "   → 양의 왜도: 오른쪽 꼬리가 긴 분포\n",
      "   첨도 (Kurtosis): 0.580\n",
      "   → 정규분포보다 뾰족한 분포\n",
      "\n",
      "🎲 누적 통계:\n",
      "   최대 누적 수익률: 27.38%\n",
      "   최소 누적 수익률: -18.72%\n",
      "   연말 누적 수익률: 23.30%\n",
      "   평균 30일 변동성: 1.861%\n",
      "   최대 30일 변동성: 2.416%\n"
     ]
    }
   ],
   "source": [
    "print(\"\\n=== 🔍 고급 통계 연산 함수들 ===\")\n",
    "\n",
    "# 실제 주식 수익률 데이터 시뮬레이션\n",
    "np.random.seed(42)  # 재현 가능한 결과를 위해\n",
    "daily_returns = np.random.normal(0.001, 0.02, 252)  # 1년간 일일 수익률 (평균 0.1%, 표준편차 2%)\n",
    "\n",
    "print(\"📈 주식 수익률 데이터 분석:\")\n",
    "print(f\"   데이터 개수: {len(daily_returns)}일\")\n",
    "print(f\"   평균 일일 수익률: {np.mean(daily_returns)*100:.3f}%\")\n",
    "\n",
    "print(f\"\\n🎯 분위수(Quantile) 분석:\")\n",
    "quantiles = [0, 5, 10, 25, 50, 75, 90, 95, 100]\n",
    "for q in quantiles:\n",
    "    value = np.percentile(daily_returns, q)\n",
    "    print(f\"   {q:2d}% 분위수: {value*100:6.3f}%\")\n",
    "\n",
    "print(f\"\\n📊 분포 특성 분석:\")\n",
    "# 왜도(Skewness) - 분포의 비대칭성\n",
    "from scipy.stats import skew, kurtosis\n",
    "skewness = skew(daily_returns)\n",
    "kurt = kurtosis(daily_returns)\n",
    "\n",
    "print(f\"   왜도 (Skewness): {skewness:.3f}\")\n",
    "if skewness > 0:\n",
    "    print(\"   → 양의 왜도: 오른쪽 꼬리가 긴 분포\")\n",
    "elif skewness < 0:\n",
    "    print(\"   → 음의 왜도: 왼쪽 꼬리가 긴 분포\")\n",
    "else:\n",
    "    print(\"   → 대칭 분포\")\n",
    "\n",
    "print(f\"   첨도 (Kurtosis): {kurt:.3f}\")\n",
    "if kurt > 0:\n",
    "    print(\"   → 정규분포보다 뾰족한 분포\")\n",
    "elif kurt < 0:\n",
    "    print(\"   → 정규분포보다 평평한 분포\")\n",
    "\n",
    "print(f\"\\n🎲 누적 통계:\")\n",
    "cumulative_returns = np.cumsum(daily_returns)\n",
    "print(f\"   최대 누적 수익률: {np.max(cumulative_returns)*100:.2f}%\")\n",
    "print(f\"   최소 누적 수익률: {np.min(cumulative_returns)*100:.2f}%\")\n",
    "print(f\"   연말 누적 수익률: {cumulative_returns[-1]*100:.2f}%\")\n",
    "\n",
    "# 변동성 분석\n",
    "rolling_std = np.array([np.std(daily_returns[max(0,i-30):i+1]) for i in range(len(daily_returns))])\n",
    "print(f\"   평균 30일 변동성: {np.mean(rolling_std)*100:.3f}%\")\n",
    "print(f\"   최대 30일 변동성: {np.max(rolling_std)*100:.3f}%\")"
   ]
  },
  {
   "cell_type": "code",
   "execution_count": 33,
   "id": "fac8e430",
   "metadata": {},
   "outputs": [
    {
     "name": "stdout",
     "output_type": "stream",
     "text": [
      "\n",
      "=== 🎯 조건부 통계와 마스킹 ===\n",
      "🛒 온라인 쇼핑몰 매출 분석:\n",
      "   전체 기간: 365일\n",
      "   총 매출: 37318만원\n",
      "   일평균 매출: 102.2만원\n",
      "\n",
      "📅 요일별 매출 분석:\n",
      "   월요일: 평균 91.3만원, 표준편차 53.2만원, 데이터 53개\n",
      "   화요일: 평균 89.7만원, 표준편차 51.6만원, 데이터 52개\n",
      "   수요일: 평균 115.0만원, 표준편차 72.8만원, 데이터 52개\n",
      "   목요일: 평균 109.7만원, 표준편차 80.7만원, 데이터 52개\n",
      "   금요일: 평균 90.8만원, 표준편차 61.1만원, 데이터 52개\n",
      "   토요일: 평균 91.9만원, 표준편차 51.6만원, 데이터 52개\n",
      "   일요일: 평균 127.5만원, 표준편차 82.9만원, 데이터 52개\n",
      "\n",
      "🔥 고매출 vs 저매출 분석:\n",
      "   고매출 기준: 135.4만원 이상\n",
      "   고매출 일수: 92일\n",
      "   고매출 평균: 197.1만원\n",
      "   저매출 기준: 53.6만원 이하\n",
      "   저매출 일수: 92일\n",
      "   저매출 평균: 32.3만원\n",
      "\n",
      "📊 월별 성장률 분석:\n",
      "   월별 평균 매출 (30일 기준):\n",
      "      1월: 111.7만원\n",
      "      2월: 108.6만원\n",
      "      3월: 99.1만원\n",
      "      4월: 98.5만원\n",
      "      5월: 77.8만원\n",
      "      6월: 87.5만원\n",
      "      7월: 105.7만원\n",
      "      8월: 91.8만원\n",
      "      9월: 131.7만원\n",
      "     10월: 107.6만원\n",
      "     11월: 91.5만원\n",
      "     12월: 113.0만원\n",
      "\n",
      "   월별 성장률:\n",
      "      2월: -2.8%\n",
      "      3월: -8.7%\n",
      "      4월: -0.6%\n",
      "      5월: -21.1%\n",
      "      6월: +12.4%\n",
      "      7월: +20.9%\n",
      "      8월: -13.2%\n",
      "      9월: +43.5%\n",
      "     10월: -18.3%\n",
      "     11월: -15.0%\n",
      "     12월: +23.5%\n",
      "\n",
      "📈 추세 분석:\n",
      "   평균 월별 성장률: 1.88%\n",
      "   최고 성장 월: 9월 (+43.5%)\n",
      "   최저 성장 월: 5월 (-21.1%)\n"
     ]
    }
   ],
   "source": [
    "print(\"\\n=== 🎯 조건부 통계와 마스킹 ===\")\n",
    "\n",
    "# 온라인 쇼핑몰 매출 데이터 시뮬레이션\n",
    "np.random.seed(123)\n",
    "daily_sales = np.random.gamma(2, 50, 365)  # 365일간 일일 매출 (단위: 만원)\n",
    "weekdays = np.array([i % 7 for i in range(365)])  # 0=월요일, 6=일요일\n",
    "\n",
    "print(\"🛒 온라인 쇼핑몰 매출 분석:\")\n",
    "print(f\"   전체 기간: {len(daily_sales)}일\")\n",
    "print(f\"   총 매출: {np.sum(daily_sales):.0f}만원\")\n",
    "print(f\"   일평균 매출: {np.mean(daily_sales):.1f}만원\")\n",
    "\n",
    "print(f\"\\n📅 요일별 매출 분석:\")\n",
    "weekday_names = ['월', '화', '수', '목', '금', '토', '일']\n",
    "for day in range(7):\n",
    "    day_mask = weekdays == day\n",
    "    day_sales = daily_sales[day_mask]\n",
    "    \n",
    "    print(f\"   {weekday_names[day]}요일: \"\n",
    "          f\"평균 {np.mean(day_sales):.1f}만원, \"\n",
    "          f\"표준편차 {np.std(day_sales):.1f}만원, \"\n",
    "          f\"데이터 {len(day_sales)}개\")\n",
    "\n",
    "print(f\"\\n🔥 고매출 vs 저매출 분석:\")\n",
    "high_threshold = np.percentile(daily_sales, 75)  # 상위 25%\n",
    "low_threshold = np.percentile(daily_sales, 25)   # 하위 25%\n",
    "\n",
    "high_sales_mask = daily_sales >= high_threshold\n",
    "low_sales_mask = daily_sales <= low_threshold\n",
    "\n",
    "print(f\"   고매출 기준: {high_threshold:.1f}만원 이상\")\n",
    "print(f\"   고매출 일수: {np.sum(high_sales_mask)}일\")\n",
    "print(f\"   고매출 평균: {np.mean(daily_sales[high_sales_mask]):.1f}만원\")\n",
    "\n",
    "print(f\"   저매출 기준: {low_threshold:.1f}만원 이하\")\n",
    "print(f\"   저매출 일수: {np.sum(low_sales_mask)}일\")\n",
    "print(f\"   저매출 평균: {np.mean(daily_sales[low_sales_mask]):.1f}만원\")\n",
    "\n",
    "print(f\"\\n📊 월별 성장률 분석:\")\n",
    "# 365일을 12개월로 나누기 (30일씩 12개월, 5일 남음)\n",
    "monthly_sales = daily_sales[:360].reshape(12, 30)  # 360일만 사용\n",
    "monthly_avg = np.mean(monthly_sales, axis=1)\n",
    "\n",
    "print(f\"   월별 평균 매출 (30일 기준):\")\n",
    "for month, avg in enumerate(monthly_avg, 1):\n",
    "    print(f\"     {month:2d}월: {avg:.1f}만원\")\n",
    "\n",
    "# 월별 증감률 계산\n",
    "monthly_growth = np.diff(monthly_avg) / monthly_avg[:-1] * 100\n",
    "print(f\"\\n   월별 성장률:\")\n",
    "for month, growth in enumerate(monthly_growth, 2):\n",
    "    print(f\"     {month:2d}월: {growth:+.1f}%\")\n",
    "\n",
    "print(f\"\\n📈 추세 분석:\")\n",
    "print(f\"   평균 월별 성장률: {np.mean(monthly_growth):.2f}%\")\n",
    "print(f\"   최고 성장 월: {np.argmax(monthly_growth)+2}월 ({np.max(monthly_growth):+.1f}%)\")\n",
    "print(f\"   최저 성장 월: {np.argmin(monthly_growth)+2}월 ({np.min(monthly_growth):+.1f}%)\")"
   ]
  },
  {
   "cell_type": "markdown",
   "id": "3bbc440c",
   "metadata": {},
   "source": [
    "## 📚 NumPy 통계 함수 완전 정리\n",
    "\n",
    "### 🎯 기본 통계 함수\n",
    "\n",
    "| 함수 | 기능 | 사용법 | 실무 활용 |\n",
    "|------|------|--------|----------|\n",
    "| `np.mean()` | 평균값 계산 | `np.mean(data, axis=None)` | 성과 지표, 중심 경향 |\n",
    "| `np.median()` | 중앙값 계산 | `np.median(data, axis=None)` | 이상치 영향 최소화 |\n",
    "| `np.std()` | 표준편차 계산 | `np.std(data, axis=None, ddof=0)` | 변동성, 위험도 측정 |\n",
    "| `np.var()` | 분산 계산 | `np.var(data, axis=None, ddof=0)` | 데이터 퍼짐 정도 |\n",
    "| `np.min()` | 최솟값 | `np.min(data, axis=None)` | 하한선, 최악 시나리오 |\n",
    "| `np.max()` | 최댓값 | `np.max(data, axis=None)` | 상한선, 최고 성과 |\n",
    "| `np.ptp()` | 범위 (max-min) | `np.ptp(data, axis=None)` | 변동 폭 측정 |\n",
    "\n",
    "### 📊 분위수 및 순위 함수\n",
    "\n",
    "| 함수 | 기능 | 사용법 | 활용 예시 |\n",
    "|------|------|--------|----------|\n",
    "| `np.percentile()` | 백분위수 | `np.percentile(data, q, axis=None)` | 상위 10% 고객 찾기 |\n",
    "| `np.quantile()` | 분위수 (0-1) | `np.quantile(data, q, axis=None)` | 분포 구간 나누기 |\n",
    "| `np.argmin()` | 최솟값 인덱스 | `np.argmin(data, axis=None)` | 최저 성과 시점 찾기 |\n",
    "| `np.argmax()` | 최댓값 인덱스 | `np.argmax(data, axis=None)` | 최고 성과 시점 찾기 |\n",
    "\n",
    "### 🔢 누적 및 집계 함수\n",
    "\n",
    "| 함수 | 기능 | 사용법 | 비즈니스 활용 |\n",
    "|------|------|--------|---------------|\n",
    "| `np.sum()` | 합계 | `np.sum(data, axis=None)` | 총매출, 총비용 |\n",
    "| `np.cumsum()` | 누적합 | `np.cumsum(data, axis=None)` | 누적 수익률 |\n",
    "| `np.cumprod()` | 누적곱 | `np.cumprod(data, axis=None)` | 복리 수익률 |\n",
    "| `np.prod()` | 곱 | `np.prod(data, axis=None)` | 전체 성장률 |\n",
    "\n",
    "### ⚡ 성능 최적화 팁\n",
    "\n",
    "1. **축(axis) 활용**: 다차원 배열에서 특정 방향으로만 연산\n",
    "2. **ddof 파라미터**: 표본 vs 모집단 구분 (표본: ddof=1)\n",
    "3. **마스킹**: 조건에 맞는 데이터만 선별하여 연산\n",
    "4. **벡터화**: 반복문 대신 NumPy 함수 사용으로 속도 향상\n",
    "\n",
    "### 🚨 주의사항\n",
    "\n",
    "- **NaN 처리**: `np.nanmean()`, `np.nanstd()` 등 NaN 안전 함수 사용\n",
    "- **메모리 사용량**: 대용량 데이터 시 메모리 고려\n",
    "- **정밀도**: float32 vs float64 선택에 따른 정확도 차이\n",
    "- **이상치**: 평균 대신 중앙값 사용 고려"
   ]
  },
  {
   "cell_type": "code",
   "execution_count": 34,
   "id": "722c8d86",
   "metadata": {},
   "outputs": [
    {
     "name": "stdout",
     "output_type": "stream",
     "text": [
      "=== 🏢 실전 예제: 기업 재무 데이터 분석 ===\n",
      "📊 기업 재무 데이터 분석 (단위: 억원)\n",
      "분기별 매출 현황:\n",
      "[[136.7 142.4 140.  156.5]\n",
      " [174.2 189.6 158.8 178.7]\n",
      " [202.6 216.  233.5 251.2]\n",
      " [227.  255.2 276.9 286.6]\n",
      " [280.8 292.5 311.4 307.3]]\n",
      "\n",
      "🎯 종합 통계:\n",
      "   5년 총 매출: 4418.1억원\n",
      "   분기 평균 매출: 220.9억원\n",
      "   매출 표준편차: 58.0억원\n",
      "   매출 변동계수: 26.3%\n",
      "\n",
      "📈 성장률 분석:\n",
      "   연도별 매출:\n",
      "     1년차: 575.5억원\n",
      "     2년차: 701.3억원\n",
      "     3년차: 903.4억원\n",
      "     4년차: 1045.8억원\n",
      "     5년차: 1192.1억원\n",
      "   연도별 성장률:\n",
      "     2년차: +21.9%\n",
      "     3년차: +28.8%\n",
      "     4년차: +15.8%\n",
      "     5년차: +14.0%\n",
      "   평균 성장률: 20.1%\n",
      "   최고 성장률: 28.8% (3년차)\n",
      "\n",
      "🔄 계절성 분석:\n",
      "   분기별 평균 매출:\n",
      "     Q1: 204.3억원\n",
      "     Q2: 219.1억원\n",
      "     Q3: 224.1억원\n",
      "     Q4: 236.1억원\n",
      "   최고 분기: Q4 (236.1억원)\n",
      "   최저 분기: Q1 (204.3억원)\n",
      "\n",
      "📊 리스크 분석:\n",
      "   연도별 분기 변동성:\n",
      "     1년차: ±7.6억원\n",
      "     2년차: ±11.1억원\n",
      "     3년차: ±18.3억원\n",
      "     4년차: ±22.9억원\n",
      "     5년차: ±12.2억원\n",
      "\n",
      "🎯 목표 달성 분석 (목표: 200억원/분기):\n",
      "   목표 달성 분기: 12개 / 20개\n",
      "   달성률: 60.0%\n",
      "   평균 목표 대비 비율: 110.5%\n"
     ]
    }
   ],
   "source": [
    "print(\"=== 🏢 실전 예제: 기업 재무 데이터 분석 ===\")\n",
    "\n",
    "# 가상의 기업 5년간 분기별 매출 데이터 (20분기)\n",
    "np.random.seed(2024)\n",
    "quarterly_revenue = np.array([\n",
    "    [120, 135, 142, 158],  # 1년차 (Q1-Q4)\n",
    "    [165, 178, 185, 192],  # 2년차\n",
    "    [198, 215, 223, 235],  # 3년차\n",
    "    [242, 258, 265, 278],  # 4년차\n",
    "    [285, 295, 302, 315]   # 5년차\n",
    "]) + np.random.normal(0, 10, (5, 4))  # 약간의 노이즈 추가\n",
    "\n",
    "print(\"📊 기업 재무 데이터 분석 (단위: 억원)\")\n",
    "print(\"분기별 매출 현황:\")\n",
    "print(quarterly_revenue.round(1))\n",
    "\n",
    "print(f\"\\n🎯 종합 통계:\")\n",
    "total_revenue = quarterly_revenue.flatten()\n",
    "print(f\"   5년 총 매출: {np.sum(total_revenue):.1f}억원\")\n",
    "print(f\"   분기 평균 매출: {np.mean(total_revenue):.1f}억원\")\n",
    "print(f\"   매출 표준편차: {np.std(total_revenue):.1f}억원\")\n",
    "print(f\"   매출 변동계수: {(np.std(total_revenue)/np.mean(total_revenue)*100):.1f}%\")\n",
    "\n",
    "print(f\"\\n📈 성장률 분석:\")\n",
    "annual_revenue = np.sum(quarterly_revenue, axis=1)  # 연도별 합계\n",
    "annual_growth = np.diff(annual_revenue) / annual_revenue[:-1] * 100\n",
    "\n",
    "print(\"   연도별 매출:\")\n",
    "for year, revenue in enumerate(annual_revenue, 1):\n",
    "    print(f\"     {year}년차: {revenue:.1f}억원\")\n",
    "\n",
    "print(\"   연도별 성장률:\")\n",
    "for year, growth in enumerate(annual_growth, 2):\n",
    "    print(f\"     {year}년차: {growth:+.1f}%\")\n",
    "\n",
    "print(f\"   평균 성장률: {np.mean(annual_growth):.1f}%\")\n",
    "print(f\"   최고 성장률: {np.max(annual_growth):.1f}% ({np.argmax(annual_growth)+2}년차)\")\n",
    "\n",
    "print(f\"\\n🔄 계절성 분석:\")\n",
    "quarterly_avg = np.mean(quarterly_revenue, axis=0)  # 분기별 평균\n",
    "quarters = ['Q1', 'Q2', 'Q3', 'Q4']\n",
    "\n",
    "print(\"   분기별 평균 매출:\")\n",
    "for quarter, avg in zip(quarters, quarterly_avg):\n",
    "    print(f\"     {quarter}: {avg:.1f}억원\")\n",
    "\n",
    "# 최고/최저 분기 찾기\n",
    "best_quarter = np.argmax(quarterly_avg)\n",
    "worst_quarter = np.argmin(quarterly_avg)\n",
    "print(f\"   최고 분기: {quarters[best_quarter]} ({quarterly_avg[best_quarter]:.1f}억원)\")\n",
    "print(f\"   최저 분기: {quarters[worst_quarter]} ({quarterly_avg[worst_quarter]:.1f}억원)\")\n",
    "\n",
    "print(f\"\\n📊 리스크 분석:\")\n",
    "# 각 년도의 분기별 변동성\n",
    "yearly_volatility = np.std(quarterly_revenue, axis=1)\n",
    "print(\"   연도별 분기 변동성:\")\n",
    "for year, vol in enumerate(yearly_volatility, 1):\n",
    "    print(f\"     {year}년차: ±{vol:.1f}억원\")\n",
    "\n",
    "# 목표 대비 성과 (예: 분기당 200억 목표)\n",
    "target = 200\n",
    "performance_ratio = quarterly_revenue / target\n",
    "above_target = performance_ratio >= 1.0\n",
    "\n",
    "print(f\"\\n🎯 목표 달성 분석 (목표: {target}억원/분기):\")\n",
    "print(f\"   목표 달성 분기: {np.sum(above_target)}개 / {quarterly_revenue.size}개\")\n",
    "print(f\"   달성률: {np.sum(above_target)/quarterly_revenue.size*100:.1f}%\")\n",
    "print(f\"   평균 목표 대비 비율: {np.mean(performance_ratio)*100:.1f}%\")"
   ]
  }
 ],
 "metadata": {
  "kernelspec": {
   "display_name": "base",
   "language": "python",
   "name": "python3"
  },
  "language_info": {
   "codemirror_mode": {
    "name": "ipython",
    "version": 3
   },
   "file_extension": ".py",
   "mimetype": "text/x-python",
   "name": "python",
   "nbconvert_exporter": "python",
   "pygments_lexer": "ipython3",
   "version": "3.13.5"
  }
 },
 "nbformat": 4,
 "nbformat_minor": 5
}
